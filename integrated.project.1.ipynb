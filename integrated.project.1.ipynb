{
 "cells": [
  {
   "cell_type": "markdown",
   "id": "08277a35-d825-4011-b2d9-c3e2374db70e",
   "metadata": {},
   "source": [
    "# Understanding Video Game Sales"
   ]
  },
  {
   "cell_type": "markdown",
   "id": "a7414e6b-8d35-48c4-89ab-a337e63fe5fd",
   "metadata": {},
   "source": [
    "The video game industry is a rapidly changing market influenced by trends, platforms, and consumer preferences. This project aims to analyze historical data to identify patterns that predict game success, helping to inform future strategies. By examining sales trends, platform performance, genres, and the influence of reviews and ratings, we seek to uncover key insights into what drives success in the gaming market. These findings will support data-driven decision-making and optimize efforts for future growth and competitiveness.\n",
    "\n",
    "\n",
    "Heather Marie Culligan\n",
    "\n",
    "\n",
    "January 2025\n"
   ]
  },
  {
   "cell_type": "code",
   "execution_count": 1,
   "id": "fa93d72c-db2c-4dac-8a14-17badce62f7e",
   "metadata": {},
   "outputs": [],
   "source": [
    "import pandas as pd\n",
    "from matplotlib import pyplot as plt\n",
    "import numpy as np\n",
    "import plotly.express as px\n",
    "import seaborn as sns\n",
    "from scipy import stats"
   ]
  },
  {
   "cell_type": "markdown",
   "id": "d439eae6-f279-4124-b0bb-e4fd3bf074d2",
   "metadata": {},
   "source": [
    "Import all needed libraries. Now, to import the dataset."
   ]
  },
  {
   "cell_type": "code",
   "execution_count": 2,
   "id": "d94dddcf-750c-42d7-b5b1-db750d82d4cb",
   "metadata": {},
   "outputs": [],
   "source": [
    "ddf=pd.read_csv('/datasets/games.csv')"
   ]
  },
  {
   "cell_type": "markdown",
   "id": "bb7871bd-0d73-4c07-8ffd-a6f04080ebaa",
   "metadata": {},
   "source": [
    "Now, to look at the dataset. "
   ]
  },
  {
   "cell_type": "markdown",
   "id": "474d27d3-0500-4353-94e5-3f85142b0232",
   "metadata": {},
   "source": [
    "## Prepare the Data"
   ]
  },
  {
   "cell_type": "code",
   "execution_count": 3,
   "id": "60aabcf2-6e28-48b3-ac4f-9648084f370b",
   "metadata": {},
   "outputs": [
    {
     "name": "stdout",
     "output_type": "stream",
     "text": [
      "<class 'pandas.core.frame.DataFrame'>\n",
      "RangeIndex: 16715 entries, 0 to 16714\n",
      "Data columns (total 11 columns):\n",
      " #   Column           Non-Null Count  Dtype  \n",
      "---  ------           --------------  -----  \n",
      " 0   Name             16713 non-null  object \n",
      " 1   Platform         16715 non-null  object \n",
      " 2   Year_of_Release  16446 non-null  float64\n",
      " 3   Genre            16713 non-null  object \n",
      " 4   NA_sales         16715 non-null  float64\n",
      " 5   EU_sales         16715 non-null  float64\n",
      " 6   JP_sales         16715 non-null  float64\n",
      " 7   Other_sales      16715 non-null  float64\n",
      " 8   Critic_Score     8137 non-null   float64\n",
      " 9   User_Score       10014 non-null  object \n",
      " 10  Rating           9949 non-null   object \n",
      "dtypes: float64(6), object(5)\n",
      "memory usage: 1.4+ MB\n"
     ]
    }
   ],
   "source": [
    "ddf.info()"
   ]
  },
  {
   "cell_type": "markdown",
   "id": "31d2340c-dfa9-46a3-a2a5-e8e0a30fc677",
   "metadata": {},
   "source": [
    "Starting by making all the columns lowercase."
   ]
  },
  {
   "cell_type": "code",
   "execution_count": 4,
   "id": "03a2b4e9-aabf-48c8-ab51-2aec57a82ed5",
   "metadata": {},
   "outputs": [],
   "source": [
    "ddf.columns=ddf.columns.str.lower()"
   ]
  },
  {
   "cell_type": "markdown",
   "id": "118f443a-0d86-481c-9199-246498e4b42e",
   "metadata": {},
   "source": [
    "Time to take a look at the information now:"
   ]
  },
  {
   "cell_type": "code",
   "execution_count": 5,
   "id": "b6426eab-1567-4806-b351-f3c6bbaf5708",
   "metadata": {},
   "outputs": [
    {
     "data": {
      "text/plain": [
       "Index(['name', 'platform', 'year_of_release', 'genre', 'na_sales', 'eu_sales',\n",
       "       'jp_sales', 'other_sales', 'critic_score', 'user_score', 'rating'],\n",
       "      dtype='object')"
      ]
     },
     "execution_count": 5,
     "metadata": {},
     "output_type": "execute_result"
    }
   ],
   "source": [
    "ddf.columns"
   ]
  },
  {
   "cell_type": "code",
   "execution_count": 6,
   "id": "ee35ff47-d073-4181-b876-0c49a99cea28",
   "metadata": {},
   "outputs": [
    {
     "name": "stdout",
     "output_type": "stream",
     "text": [
      "<class 'pandas.core.frame.DataFrame'>\n",
      "RangeIndex: 16715 entries, 0 to 16714\n",
      "Data columns (total 11 columns):\n",
      " #   Column           Non-Null Count  Dtype  \n",
      "---  ------           --------------  -----  \n",
      " 0   name             16713 non-null  object \n",
      " 1   platform         16715 non-null  object \n",
      " 2   year_of_release  16446 non-null  float64\n",
      " 3   genre            16713 non-null  object \n",
      " 4   na_sales         16715 non-null  float64\n",
      " 5   eu_sales         16715 non-null  float64\n",
      " 6   jp_sales         16715 non-null  float64\n",
      " 7   other_sales      16715 non-null  float64\n",
      " 8   critic_score     8137 non-null   float64\n",
      " 9   user_score       10014 non-null  object \n",
      " 10  rating           9949 non-null   object \n",
      "dtypes: float64(6), object(5)\n",
      "memory usage: 1.4+ MB\n"
     ]
    }
   ],
   "source": [
    "ddf.info()"
   ]
  },
  {
   "cell_type": "code",
   "execution_count": 7,
   "id": "cac1431e-9c83-4ef1-9561-3ac9efb00dc5",
   "metadata": {},
   "outputs": [
    {
     "data": {
      "text/html": [
       "<div>\n",
       "<style scoped>\n",
       "    .dataframe tbody tr th:only-of-type {\n",
       "        vertical-align: middle;\n",
       "    }\n",
       "\n",
       "    .dataframe tbody tr th {\n",
       "        vertical-align: top;\n",
       "    }\n",
       "\n",
       "    .dataframe thead th {\n",
       "        text-align: right;\n",
       "    }\n",
       "</style>\n",
       "<table border=\"1\" class=\"dataframe\">\n",
       "  <thead>\n",
       "    <tr style=\"text-align: right;\">\n",
       "      <th></th>\n",
       "      <th>name</th>\n",
       "      <th>platform</th>\n",
       "      <th>year_of_release</th>\n",
       "      <th>genre</th>\n",
       "      <th>na_sales</th>\n",
       "      <th>eu_sales</th>\n",
       "      <th>jp_sales</th>\n",
       "      <th>other_sales</th>\n",
       "      <th>critic_score</th>\n",
       "      <th>user_score</th>\n",
       "      <th>rating</th>\n",
       "    </tr>\n",
       "  </thead>\n",
       "  <tbody>\n",
       "    <tr>\n",
       "      <th>0</th>\n",
       "      <td>Wii Sports</td>\n",
       "      <td>Wii</td>\n",
       "      <td>2006.0</td>\n",
       "      <td>Sports</td>\n",
       "      <td>41.36</td>\n",
       "      <td>28.96</td>\n",
       "      <td>3.77</td>\n",
       "      <td>8.45</td>\n",
       "      <td>76.0</td>\n",
       "      <td>8</td>\n",
       "      <td>E</td>\n",
       "    </tr>\n",
       "    <tr>\n",
       "      <th>1</th>\n",
       "      <td>Super Mario Bros.</td>\n",
       "      <td>NES</td>\n",
       "      <td>1985.0</td>\n",
       "      <td>Platform</td>\n",
       "      <td>29.08</td>\n",
       "      <td>3.58</td>\n",
       "      <td>6.81</td>\n",
       "      <td>0.77</td>\n",
       "      <td>NaN</td>\n",
       "      <td>NaN</td>\n",
       "      <td>NaN</td>\n",
       "    </tr>\n",
       "    <tr>\n",
       "      <th>2</th>\n",
       "      <td>Mario Kart Wii</td>\n",
       "      <td>Wii</td>\n",
       "      <td>2008.0</td>\n",
       "      <td>Racing</td>\n",
       "      <td>15.68</td>\n",
       "      <td>12.76</td>\n",
       "      <td>3.79</td>\n",
       "      <td>3.29</td>\n",
       "      <td>82.0</td>\n",
       "      <td>8.3</td>\n",
       "      <td>E</td>\n",
       "    </tr>\n",
       "    <tr>\n",
       "      <th>3</th>\n",
       "      <td>Wii Sports Resort</td>\n",
       "      <td>Wii</td>\n",
       "      <td>2009.0</td>\n",
       "      <td>Sports</td>\n",
       "      <td>15.61</td>\n",
       "      <td>10.93</td>\n",
       "      <td>3.28</td>\n",
       "      <td>2.95</td>\n",
       "      <td>80.0</td>\n",
       "      <td>8</td>\n",
       "      <td>E</td>\n",
       "    </tr>\n",
       "    <tr>\n",
       "      <th>4</th>\n",
       "      <td>Pokemon Red/Pokemon Blue</td>\n",
       "      <td>GB</td>\n",
       "      <td>1996.0</td>\n",
       "      <td>Role-Playing</td>\n",
       "      <td>11.27</td>\n",
       "      <td>8.89</td>\n",
       "      <td>10.22</td>\n",
       "      <td>1.00</td>\n",
       "      <td>NaN</td>\n",
       "      <td>NaN</td>\n",
       "      <td>NaN</td>\n",
       "    </tr>\n",
       "  </tbody>\n",
       "</table>\n",
       "</div>"
      ],
      "text/plain": [
       "                       name platform  year_of_release         genre  na_sales  \\\n",
       "0                Wii Sports      Wii           2006.0        Sports     41.36   \n",
       "1         Super Mario Bros.      NES           1985.0      Platform     29.08   \n",
       "2            Mario Kart Wii      Wii           2008.0        Racing     15.68   \n",
       "3         Wii Sports Resort      Wii           2009.0        Sports     15.61   \n",
       "4  Pokemon Red/Pokemon Blue       GB           1996.0  Role-Playing     11.27   \n",
       "\n",
       "   eu_sales  jp_sales  other_sales  critic_score user_score rating  \n",
       "0     28.96      3.77         8.45          76.0          8      E  \n",
       "1      3.58      6.81         0.77           NaN        NaN    NaN  \n",
       "2     12.76      3.79         3.29          82.0        8.3      E  \n",
       "3     10.93      3.28         2.95          80.0          8      E  \n",
       "4      8.89     10.22         1.00           NaN        NaN    NaN  "
      ]
     },
     "execution_count": 7,
     "metadata": {},
     "output_type": "execute_result"
    }
   ],
   "source": [
    "ddf.head()"
   ]
  },
  {
   "cell_type": "markdown",
   "id": "c2c6835e-d794-4980-84d1-339b17d001de",
   "metadata": {},
   "source": [
    "Let's take a look at how many plainly missing values we have."
   ]
  },
  {
   "cell_type": "code",
   "execution_count": 8,
   "id": "a37ec36f-e8ee-4b4a-87ba-5554fc60fc73",
   "metadata": {},
   "outputs": [
    {
     "data": {
      "text/plain": [
       "name                  2\n",
       "platform              0\n",
       "year_of_release     269\n",
       "genre                 2\n",
       "na_sales              0\n",
       "eu_sales              0\n",
       "jp_sales              0\n",
       "other_sales           0\n",
       "critic_score       8578\n",
       "user_score         6701\n",
       "rating             6766\n",
       "dtype: int64"
      ]
     },
     "execution_count": 8,
     "metadata": {},
     "output_type": "execute_result"
    }
   ],
   "source": [
    "ddf.isna().sum() "
   ]
  },
  {
   "cell_type": "markdown",
   "id": "2699603c-9383-400f-aafa-380f1d3d7ebe",
   "metadata": {},
   "source": [
    "During further investigation there are values labeled as 'TBD' that need to be addressed. I have changed over these values to missing values after changing all to lowercase to make sure all values were accounted for and dropped all missing values from the column. "
   ]
  },
  {
   "cell_type": "code",
   "execution_count": 9,
   "id": "14f3ddbc-701d-41dc-b18f-e431435bbe48",
   "metadata": {},
   "outputs": [],
   "source": [
    "ddf['user_score']=ddf['user_score'].str.lower()\n",
    "ddf.replace('tbd', np.nan, inplace=True)"
   ]
  },
  {
   "cell_type": "code",
   "execution_count": 10,
   "id": "56369bda-e49d-4542-879d-8880cb0bd077",
   "metadata": {},
   "outputs": [],
   "source": [
    "ddf = ddf.dropna(subset=['year_of_release'])\n",
    "ddf['year_of_release']= ddf['year_of_release'].astype(int)"
   ]
  },
  {
   "cell_type": "code",
   "execution_count": 11,
   "id": "4787b685-590f-4207-a406-eb0a78bb1502",
   "metadata": {},
   "outputs": [],
   "source": [
    "ddf['user_score']= ddf['user_score'].astype(float)"
   ]
  },
  {
   "cell_type": "markdown",
   "id": "41f2b236-9607-4f7b-968c-6c3310570ba0",
   "metadata": {},
   "source": [
    "I also dropped misssing values from the year the games were released column and changed the data type for both the above columns."
   ]
  },
  {
   "cell_type": "code",
   "execution_count": 12,
   "id": "61211d09-98f7-42d8-9330-0d49375349bb",
   "metadata": {},
   "outputs": [
    {
     "name": "stdout",
     "output_type": "stream",
     "text": [
      "<class 'pandas.core.frame.DataFrame'>\n",
      "Int64Index: 16446 entries, 0 to 16714\n",
      "Data columns (total 11 columns):\n",
      " #   Column           Non-Null Count  Dtype  \n",
      "---  ------           --------------  -----  \n",
      " 0   name             16444 non-null  object \n",
      " 1   platform         16446 non-null  object \n",
      " 2   year_of_release  16446 non-null  int64  \n",
      " 3   genre            16444 non-null  object \n",
      " 4   na_sales         16446 non-null  float64\n",
      " 5   eu_sales         16446 non-null  float64\n",
      " 6   jp_sales         16446 non-null  float64\n",
      " 7   other_sales      16446 non-null  float64\n",
      " 8   critic_score     7983 non-null   float64\n",
      " 9   user_score       7463 non-null   float64\n",
      " 10  rating           9768 non-null   object \n",
      "dtypes: float64(6), int64(1), object(4)\n",
      "memory usage: 1.5+ MB\n"
     ]
    }
   ],
   "source": [
    "ddf.info()"
   ]
  },
  {
   "cell_type": "markdown",
   "id": "36899621-5c6f-4bfb-a830-ddbbb22eac5a",
   "metadata": {},
   "source": [
    "Converted data type for user_score to float. The column had data labeled as TBD (to be determined) in it; in place of just missing values. To be able to manipulate the data as needed we need the column type to be float or integer. With string values in as missing value place holders we are unable to convert to the correct form. I took out the string values and dropped the missing values. There were many missing values in the 'user_score' column. This column is based on a collection of data from the users who purchase the game. If not enough users submit the data within the designated time period, the data would be left as blank or to be determined which is what we see a lot of here. I have chosen to leave the values blank as every game is vastly different in this regard and a median or mean in the spot will not accurately represent the dataset. "
   ]
  },
  {
   "cell_type": "code",
   "execution_count": 13,
   "id": "ddd5536e-f445-4d8e-bdbd-8c7c60d42275",
   "metadata": {},
   "outputs": [],
   "source": [
    "ddf['total_sales'] = ddf['na_sales'] + ddf['eu_sales'] + ddf['jp_sales'] + ddf['other_sales']"
   ]
  },
  {
   "cell_type": "code",
   "execution_count": 14,
   "id": "d7c376b3-a479-4210-89ae-a714cd896c5e",
   "metadata": {},
   "outputs": [
    {
     "data": {
      "text/html": [
       "<div>\n",
       "<style scoped>\n",
       "    .dataframe tbody tr th:only-of-type {\n",
       "        vertical-align: middle;\n",
       "    }\n",
       "\n",
       "    .dataframe tbody tr th {\n",
       "        vertical-align: top;\n",
       "    }\n",
       "\n",
       "    .dataframe thead th {\n",
       "        text-align: right;\n",
       "    }\n",
       "</style>\n",
       "<table border=\"1\" class=\"dataframe\">\n",
       "  <thead>\n",
       "    <tr style=\"text-align: right;\">\n",
       "      <th></th>\n",
       "      <th>name</th>\n",
       "      <th>platform</th>\n",
       "      <th>year_of_release</th>\n",
       "      <th>genre</th>\n",
       "      <th>na_sales</th>\n",
       "      <th>eu_sales</th>\n",
       "      <th>jp_sales</th>\n",
       "      <th>other_sales</th>\n",
       "      <th>critic_score</th>\n",
       "      <th>user_score</th>\n",
       "      <th>rating</th>\n",
       "      <th>total_sales</th>\n",
       "    </tr>\n",
       "  </thead>\n",
       "  <tbody>\n",
       "    <tr>\n",
       "      <th>0</th>\n",
       "      <td>Wii Sports</td>\n",
       "      <td>Wii</td>\n",
       "      <td>2006</td>\n",
       "      <td>Sports</td>\n",
       "      <td>41.36</td>\n",
       "      <td>28.96</td>\n",
       "      <td>3.77</td>\n",
       "      <td>8.45</td>\n",
       "      <td>76.0</td>\n",
       "      <td>8.0</td>\n",
       "      <td>E</td>\n",
       "      <td>82.54</td>\n",
       "    </tr>\n",
       "    <tr>\n",
       "      <th>1</th>\n",
       "      <td>Super Mario Bros.</td>\n",
       "      <td>NES</td>\n",
       "      <td>1985</td>\n",
       "      <td>Platform</td>\n",
       "      <td>29.08</td>\n",
       "      <td>3.58</td>\n",
       "      <td>6.81</td>\n",
       "      <td>0.77</td>\n",
       "      <td>NaN</td>\n",
       "      <td>NaN</td>\n",
       "      <td>NaN</td>\n",
       "      <td>40.24</td>\n",
       "    </tr>\n",
       "    <tr>\n",
       "      <th>2</th>\n",
       "      <td>Mario Kart Wii</td>\n",
       "      <td>Wii</td>\n",
       "      <td>2008</td>\n",
       "      <td>Racing</td>\n",
       "      <td>15.68</td>\n",
       "      <td>12.76</td>\n",
       "      <td>3.79</td>\n",
       "      <td>3.29</td>\n",
       "      <td>82.0</td>\n",
       "      <td>8.3</td>\n",
       "      <td>E</td>\n",
       "      <td>35.52</td>\n",
       "    </tr>\n",
       "    <tr>\n",
       "      <th>3</th>\n",
       "      <td>Wii Sports Resort</td>\n",
       "      <td>Wii</td>\n",
       "      <td>2009</td>\n",
       "      <td>Sports</td>\n",
       "      <td>15.61</td>\n",
       "      <td>10.93</td>\n",
       "      <td>3.28</td>\n",
       "      <td>2.95</td>\n",
       "      <td>80.0</td>\n",
       "      <td>8.0</td>\n",
       "      <td>E</td>\n",
       "      <td>32.77</td>\n",
       "    </tr>\n",
       "    <tr>\n",
       "      <th>4</th>\n",
       "      <td>Pokemon Red/Pokemon Blue</td>\n",
       "      <td>GB</td>\n",
       "      <td>1996</td>\n",
       "      <td>Role-Playing</td>\n",
       "      <td>11.27</td>\n",
       "      <td>8.89</td>\n",
       "      <td>10.22</td>\n",
       "      <td>1.00</td>\n",
       "      <td>NaN</td>\n",
       "      <td>NaN</td>\n",
       "      <td>NaN</td>\n",
       "      <td>31.38</td>\n",
       "    </tr>\n",
       "  </tbody>\n",
       "</table>\n",
       "</div>"
      ],
      "text/plain": [
       "                       name platform  year_of_release         genre  na_sales  \\\n",
       "0                Wii Sports      Wii             2006        Sports     41.36   \n",
       "1         Super Mario Bros.      NES             1985      Platform     29.08   \n",
       "2            Mario Kart Wii      Wii             2008        Racing     15.68   \n",
       "3         Wii Sports Resort      Wii             2009        Sports     15.61   \n",
       "4  Pokemon Red/Pokemon Blue       GB             1996  Role-Playing     11.27   \n",
       "\n",
       "   eu_sales  jp_sales  other_sales  critic_score  user_score rating  \\\n",
       "0     28.96      3.77         8.45          76.0         8.0      E   \n",
       "1      3.58      6.81         0.77           NaN         NaN    NaN   \n",
       "2     12.76      3.79         3.29          82.0         8.3      E   \n",
       "3     10.93      3.28         2.95          80.0         8.0      E   \n",
       "4      8.89     10.22         1.00           NaN         NaN    NaN   \n",
       "\n",
       "   total_sales  \n",
       "0        82.54  \n",
       "1        40.24  \n",
       "2        35.52  \n",
       "3        32.77  \n",
       "4        31.38  "
      ]
     },
     "execution_count": 14,
     "metadata": {},
     "output_type": "execute_result"
    }
   ],
   "source": [
    "ddf.head()"
   ]
  },
  {
   "cell_type": "markdown",
   "id": "86b31d4f-7e25-48dc-85c9-7089d78311bc",
   "metadata": {},
   "source": [
    "Calculated total sales for each game and added it to a new column. "
   ]
  },
  {
   "cell_type": "code",
   "execution_count": 15,
   "id": "70300a01",
   "metadata": {},
   "outputs": [],
   "source": [
    "df = ddf.drop_duplicates(subset=['name', 'platform', 'year_of_release'], keep='first')"
   ]
  },
  {
   "cell_type": "markdown",
   "id": "bd96fe1e",
   "metadata": {},
   "source": [
    "The data preparation stage involved cleaning and organizing the dataset to ensure it was ready for analysis. Missing values were addressed by filling or removing them, a total_sales column was added to summarize global sales, and inconsistencies like errors and duplicates were corrected. These steps created a clean and reliable dataset, providing a solid foundation for meaningful analysis of video game sales."
   ]
  },
  {
   "cell_type": "markdown",
   "id": "325e3452-ea39-4490-956d-987272ea3cc9",
   "metadata": {},
   "source": [
    "## Analyze the Data"
   ]
  },
  {
   "cell_type": "markdown",
   "id": "42ee5b99-1b7b-4e48-92f0-1a781ca37899",
   "metadata": {},
   "source": [
    "Lets calculate the total number of games released each year by grouping. "
   ]
  },
  {
   "cell_type": "code",
   "execution_count": 16,
   "id": "a8c0fbb3-8164-435c-aab8-5ca1d0fbde22",
   "metadata": {},
   "outputs": [
    {
     "data": {
      "text/plain": [
       "year_of_release\n",
       "1980       9\n",
       "1981      46\n",
       "1982      36\n",
       "1983      17\n",
       "1984      14\n",
       "1985      14\n",
       "1986      21\n",
       "1987      16\n",
       "1988      15\n",
       "1989      17\n",
       "1990      16\n",
       "1991      41\n",
       "1992      43\n",
       "1993      60\n",
       "1994     121\n",
       "1995     219\n",
       "1996     263\n",
       "1997     289\n",
       "1998     379\n",
       "1999     338\n",
       "2000     350\n",
       "2001     482\n",
       "2002     829\n",
       "2003     775\n",
       "2004     762\n",
       "2005     939\n",
       "2006    1006\n",
       "2007    1197\n",
       "2008    1427\n",
       "2009    1426\n",
       "2010    1255\n",
       "2011    1136\n",
       "2012     652\n",
       "2013     544\n",
       "2014     581\n",
       "2015     606\n",
       "2016     502\n",
       "Name: name, dtype: int64"
      ]
     },
     "execution_count": 16,
     "metadata": {},
     "output_type": "execute_result"
    }
   ],
   "source": [
    "games_per_year = df.groupby('year_of_release')['name'].count()\n",
    "games_per_year"
   ]
  },
  {
   "cell_type": "code",
   "execution_count": 17,
   "id": "bfa90efd",
   "metadata": {},
   "outputs": [
    {
     "data": {
      "image/png": "[encoded data removed]",
      "text/plain": [
       "<Figure size 1200x600 with 1 Axes>"
      ]
     },
     "metadata": {},
     "output_type": "display_data"
    }
   ],
   "source": [
    "plt.figure(figsize=(12, 6))\n",
    "games_per_year.plot(kind='bar', edgecolor='black')\n",
    "\n",
    "plt.title('Number of Games Released Per Year', fontsize=16)\n",
    "plt.xlabel('Year of Release', fontsize=14)\n",
    "plt.ylabel('Number of Games', fontsize=14)\n",
    "plt.xticks(rotation=45, fontsize=10)\n",
    "plt.grid(axis='y', linestyle='--', alpha=0.7)\n",
    "plt.tight_layout()\n",
    "\n",
    "plt.show()"
   ]
  },
  {
   "cell_type": "markdown",
   "id": "5063ce85-5e79-4788-beee-77b09913ea31",
   "metadata": {},
   "source": [
    "The most games were released per year between 2006 and 2011. Since 1994 there have been at least 100 games released per year, rising as the years went on but then start decreasing after the peak of 1,427 in 2008."
   ]
  },
  {
   "cell_type": "markdown",
   "id": "c83bfd87-6e38-453a-a9b5-96f7f563cd99",
   "metadata": {},
   "source": [
    "Time to group the data further by sorting what platforms had the most sales. "
   ]
  },
  {
   "cell_type": "code",
   "execution_count": 18,
   "id": "f94df458",
   "metadata": {},
   "outputs": [],
   "source": [
    "rows_to_drop = df[\n",
    "    (df['year_of_release'] == 1985) &\n",
    "    (df['platform'] == 'DS')\n",
    "].index\n",
    "\n",
    "df = df.drop(index=rows_to_drop)"
   ]
  },
  {
   "cell_type": "markdown",
   "id": "3a20c6bb",
   "metadata": {},
   "source": [
    "After processing the information before there was a clear outlier that after investigation must have been an error. It was a value indication there was a DS game sold in 1985 when the DS was not even released until 2004. This value was dropped as to help with accurate information as this outlier greatly skewed the results. "
   ]
  },
  {
   "cell_type": "code",
   "execution_count": 19,
   "id": "a47e7e53-b73c-4b26-8771-bb93b4f96d46",
   "metadata": {},
   "outputs": [],
   "source": [
    "sales_by_platform = df.groupby('platform')[['na_sales', 'eu_sales', 'jp_sales', 'other_sales', 'total_sales']].sum()\n",
    "\n",
    "sales_by_platform['total_global_sales'] = sales_by_platform.sum(axis=1)\n",
    "top_platforms = sales_by_platform.sort_values(by='total_global_sales', ascending=False).head(5).index\n",
    "\n",
    "df_top_platforms = df[df['platform'].isin(top_platforms)]\n",
    "\n",
    "sales_distribution = df_top_platforms.groupby(['year_of_release', 'platform'])[['na_sales', 'eu_sales', 'jp_sales', 'other_sales']].sum()\n",
    "sales_distribution['total_global_sales'] = sales_distribution.sum(axis=1)\n",
    "\n",
    "sales_distribution = sales_distribution.reset_index()"
   ]
  },
  {
   "cell_type": "markdown",
   "id": "2d597062-a423-4204-832a-38cc20511a04",
   "metadata": {},
   "source": [
    "Time to visualize this better:"
   ]
  },
  {
   "cell_type": "code",
   "execution_count": 20,
   "id": "85561d8b-6d9f-4f8f-87ea-8b10d6f58db6",
   "metadata": {},
   "outputs": [
    {
     "data": {
      "image/png": "[encoded data removed]",
      "text/plain": [
       "<Figure size 1200x600 with 1 Axes>"
      ]
     },
     "metadata": {},
     "output_type": "display_data"
    }
   ],
   "source": [
    "plt.figure(figsize=(12, 6))\n",
    "for platform in top_platforms:\n",
    "    platform_sales = sales_distribution[sales_distribution['platform'] == platform]\n",
    "    plt.plot(platform_sales['year_of_release'], platform_sales['total_global_sales'], label=platform)\n",
    "\n",
    "plt.title('Total Sales Distribution by Platform Over the Years')\n",
    "plt.xlabel('Year of Release')\n",
    "plt.ylabel('Total Sales (in millions)')\n",
    "plt.legend(title='Platform')\n",
    "plt.grid(linestyle='--')\n",
    "plt.ylim(bottom=0)\n",
    "plt.show()"
   ]
  },
  {
   "cell_type": "markdown",
   "id": "1bc8faea-2718-4f62-be02-c6190c4adbf9",
   "metadata": {},
   "source": [
    "Wow, look how quickly the Wii died off in sales after its peak in 2009. "
   ]
  },
  {
   "cell_type": "code",
   "execution_count": 21,
   "id": "b08a33b3-948f-43ee-95c3-09c76dac8a19",
   "metadata": {},
   "outputs": [
    {
     "data": {
      "text/html": [
       "<div>\n",
       "<style scoped>\n",
       "    .dataframe tbody tr th:only-of-type {\n",
       "        vertical-align: middle;\n",
       "    }\n",
       "\n",
       "    .dataframe tbody tr th {\n",
       "        vertical-align: top;\n",
       "    }\n",
       "\n",
       "    .dataframe thead th {\n",
       "        text-align: right;\n",
       "    }\n",
       "</style>\n",
       "<table border=\"1\" class=\"dataframe\">\n",
       "  <thead>\n",
       "    <tr style=\"text-align: right;\">\n",
       "      <th></th>\n",
       "      <th>na_sales</th>\n",
       "      <th>eu_sales</th>\n",
       "      <th>jp_sales</th>\n",
       "      <th>other_sales</th>\n",
       "      <th>total_sales</th>\n",
       "      <th>total_global_sales</th>\n",
       "    </tr>\n",
       "    <tr>\n",
       "      <th>platform</th>\n",
       "      <th></th>\n",
       "      <th></th>\n",
       "      <th></th>\n",
       "      <th></th>\n",
       "      <th></th>\n",
       "      <th></th>\n",
       "    </tr>\n",
       "  </thead>\n",
       "  <tbody>\n",
       "    <tr>\n",
       "      <th>2600</th>\n",
       "      <td>80.78</td>\n",
       "      <td>4.86</td>\n",
       "      <td>0.00</td>\n",
       "      <td>0.84</td>\n",
       "      <td>86.48</td>\n",
       "      <td>172.96</td>\n",
       "    </tr>\n",
       "    <tr>\n",
       "      <th>3DO</th>\n",
       "      <td>0.00</td>\n",
       "      <td>0.00</td>\n",
       "      <td>0.10</td>\n",
       "      <td>0.00</td>\n",
       "      <td>0.10</td>\n",
       "      <td>0.20</td>\n",
       "    </tr>\n",
       "    <tr>\n",
       "      <th>3DS</th>\n",
       "      <td>82.65</td>\n",
       "      <td>61.27</td>\n",
       "      <td>100.62</td>\n",
       "      <td>13.27</td>\n",
       "      <td>257.81</td>\n",
       "      <td>515.62</td>\n",
       "    </tr>\n",
       "    <tr>\n",
       "      <th>DC</th>\n",
       "      <td>5.43</td>\n",
       "      <td>1.69</td>\n",
       "      <td>8.56</td>\n",
       "      <td>0.27</td>\n",
       "      <td>15.95</td>\n",
       "      <td>31.90</td>\n",
       "    </tr>\n",
       "    <tr>\n",
       "      <th>DS</th>\n",
       "      <td>380.31</td>\n",
       "      <td>188.41</td>\n",
       "      <td>175.00</td>\n",
       "      <td>59.04</td>\n",
       "      <td>802.76</td>\n",
       "      <td>1605.52</td>\n",
       "    </tr>\n",
       "    <tr>\n",
       "      <th>GB</th>\n",
       "      <td>113.64</td>\n",
       "      <td>47.51</td>\n",
       "      <td>85.12</td>\n",
       "      <td>8.16</td>\n",
       "      <td>254.43</td>\n",
       "      <td>508.86</td>\n",
       "    </tr>\n",
       "    <tr>\n",
       "      <th>GBA</th>\n",
       "      <td>184.12</td>\n",
       "      <td>74.59</td>\n",
       "      <td>46.56</td>\n",
       "      <td>7.61</td>\n",
       "      <td>312.88</td>\n",
       "      <td>625.76</td>\n",
       "    </tr>\n",
       "    <tr>\n",
       "      <th>GC</th>\n",
       "      <td>131.94</td>\n",
       "      <td>38.32</td>\n",
       "      <td>21.34</td>\n",
       "      <td>5.13</td>\n",
       "      <td>196.73</td>\n",
       "      <td>393.46</td>\n",
       "    </tr>\n",
       "    <tr>\n",
       "      <th>GEN</th>\n",
       "      <td>21.05</td>\n",
       "      <td>6.05</td>\n",
       "      <td>2.67</td>\n",
       "      <td>0.97</td>\n",
       "      <td>30.74</td>\n",
       "      <td>61.48</td>\n",
       "    </tr>\n",
       "    <tr>\n",
       "      <th>GG</th>\n",
       "      <td>0.00</td>\n",
       "      <td>0.00</td>\n",
       "      <td>0.04</td>\n",
       "      <td>0.00</td>\n",
       "      <td>0.04</td>\n",
       "      <td>0.08</td>\n",
       "    </tr>\n",
       "    <tr>\n",
       "      <th>N64</th>\n",
       "      <td>138.91</td>\n",
       "      <td>41.03</td>\n",
       "      <td>33.76</td>\n",
       "      <td>4.31</td>\n",
       "      <td>218.01</td>\n",
       "      <td>436.02</td>\n",
       "    </tr>\n",
       "    <tr>\n",
       "      <th>NES</th>\n",
       "      <td>125.94</td>\n",
       "      <td>21.15</td>\n",
       "      <td>98.65</td>\n",
       "      <td>5.31</td>\n",
       "      <td>251.05</td>\n",
       "      <td>502.10</td>\n",
       "    </tr>\n",
       "    <tr>\n",
       "      <th>NG</th>\n",
       "      <td>0.00</td>\n",
       "      <td>0.00</td>\n",
       "      <td>1.44</td>\n",
       "      <td>0.00</td>\n",
       "      <td>1.44</td>\n",
       "      <td>2.88</td>\n",
       "    </tr>\n",
       "    <tr>\n",
       "      <th>PC</th>\n",
       "      <td>93.34</td>\n",
       "      <td>140.37</td>\n",
       "      <td>0.17</td>\n",
       "      <td>21.88</td>\n",
       "      <td>255.76</td>\n",
       "      <td>511.52</td>\n",
       "    </tr>\n",
       "    <tr>\n",
       "      <th>PCFX</th>\n",
       "      <td>0.00</td>\n",
       "      <td>0.00</td>\n",
       "      <td>0.03</td>\n",
       "      <td>0.00</td>\n",
       "      <td>0.03</td>\n",
       "      <td>0.06</td>\n",
       "    </tr>\n",
       "    <tr>\n",
       "      <th>PS</th>\n",
       "      <td>334.72</td>\n",
       "      <td>212.39</td>\n",
       "      <td>139.78</td>\n",
       "      <td>40.69</td>\n",
       "      <td>727.58</td>\n",
       "      <td>1455.16</td>\n",
       "    </tr>\n",
       "    <tr>\n",
       "      <th>PS2</th>\n",
       "      <td>572.92</td>\n",
       "      <td>332.63</td>\n",
       "      <td>137.54</td>\n",
       "      <td>190.47</td>\n",
       "      <td>1233.56</td>\n",
       "      <td>2467.12</td>\n",
       "    </tr>\n",
       "    <tr>\n",
       "      <th>PS3</th>\n",
       "      <td>390.13</td>\n",
       "      <td>327.20</td>\n",
       "      <td>79.41</td>\n",
       "      <td>134.59</td>\n",
       "      <td>931.33</td>\n",
       "      <td>1862.66</td>\n",
       "    </tr>\n",
       "    <tr>\n",
       "      <th>PS4</th>\n",
       "      <td>108.74</td>\n",
       "      <td>141.09</td>\n",
       "      <td>15.96</td>\n",
       "      <td>48.35</td>\n",
       "      <td>314.14</td>\n",
       "      <td>628.28</td>\n",
       "    </tr>\n",
       "    <tr>\n",
       "      <th>PSP</th>\n",
       "      <td>107.27</td>\n",
       "      <td>65.62</td>\n",
       "      <td>75.88</td>\n",
       "      <td>40.76</td>\n",
       "      <td>289.53</td>\n",
       "      <td>579.06</td>\n",
       "    </tr>\n",
       "    <tr>\n",
       "      <th>PSV</th>\n",
       "      <td>12.47</td>\n",
       "      <td>13.07</td>\n",
       "      <td>21.84</td>\n",
       "      <td>6.43</td>\n",
       "      <td>53.81</td>\n",
       "      <td>107.62</td>\n",
       "    </tr>\n",
       "    <tr>\n",
       "      <th>SAT</th>\n",
       "      <td>0.72</td>\n",
       "      <td>0.54</td>\n",
       "      <td>32.26</td>\n",
       "      <td>0.07</td>\n",
       "      <td>33.59</td>\n",
       "      <td>67.18</td>\n",
       "    </tr>\n",
       "    <tr>\n",
       "      <th>SCD</th>\n",
       "      <td>1.00</td>\n",
       "      <td>0.36</td>\n",
       "      <td>0.45</td>\n",
       "      <td>0.05</td>\n",
       "      <td>1.86</td>\n",
       "      <td>3.72</td>\n",
       "    </tr>\n",
       "    <tr>\n",
       "      <th>SNES</th>\n",
       "      <td>61.23</td>\n",
       "      <td>19.04</td>\n",
       "      <td>116.55</td>\n",
       "      <td>3.22</td>\n",
       "      <td>200.04</td>\n",
       "      <td>400.08</td>\n",
       "    </tr>\n",
       "    <tr>\n",
       "      <th>TG16</th>\n",
       "      <td>0.00</td>\n",
       "      <td>0.00</td>\n",
       "      <td>0.16</td>\n",
       "      <td>0.00</td>\n",
       "      <td>0.16</td>\n",
       "      <td>0.32</td>\n",
       "    </tr>\n",
       "    <tr>\n",
       "      <th>WS</th>\n",
       "      <td>0.00</td>\n",
       "      <td>0.00</td>\n",
       "      <td>1.42</td>\n",
       "      <td>0.00</td>\n",
       "      <td>1.42</td>\n",
       "      <td>2.84</td>\n",
       "    </tr>\n",
       "    <tr>\n",
       "      <th>Wii</th>\n",
       "      <td>486.87</td>\n",
       "      <td>258.32</td>\n",
       "      <td>68.28</td>\n",
       "      <td>77.71</td>\n",
       "      <td>891.18</td>\n",
       "      <td>1782.36</td>\n",
       "    </tr>\n",
       "    <tr>\n",
       "      <th>WiiU</th>\n",
       "      <td>38.10</td>\n",
       "      <td>25.13</td>\n",
       "      <td>13.01</td>\n",
       "      <td>5.95</td>\n",
       "      <td>82.19</td>\n",
       "      <td>164.38</td>\n",
       "    </tr>\n",
       "    <tr>\n",
       "      <th>X360</th>\n",
       "      <td>595.74</td>\n",
       "      <td>268.32</td>\n",
       "      <td>12.30</td>\n",
       "      <td>84.88</td>\n",
       "      <td>961.24</td>\n",
       "      <td>1922.48</td>\n",
       "    </tr>\n",
       "    <tr>\n",
       "      <th>XB</th>\n",
       "      <td>182.06</td>\n",
       "      <td>59.65</td>\n",
       "      <td>1.38</td>\n",
       "      <td>8.48</td>\n",
       "      <td>251.57</td>\n",
       "      <td>503.14</td>\n",
       "    </tr>\n",
       "    <tr>\n",
       "      <th>XOne</th>\n",
       "      <td>93.12</td>\n",
       "      <td>51.59</td>\n",
       "      <td>0.34</td>\n",
       "      <td>14.27</td>\n",
       "      <td>159.32</td>\n",
       "      <td>318.64</td>\n",
       "    </tr>\n",
       "  </tbody>\n",
       "</table>\n",
       "</div>"
      ],
      "text/plain": [
       "          na_sales  eu_sales  jp_sales  other_sales  total_sales  \\\n",
       "platform                                                           \n",
       "2600         80.78      4.86      0.00         0.84        86.48   \n",
       "3DO           0.00      0.00      0.10         0.00         0.10   \n",
       "3DS          82.65     61.27    100.62        13.27       257.81   \n",
       "DC            5.43      1.69      8.56         0.27        15.95   \n",
       "DS          380.31    188.41    175.00        59.04       802.76   \n",
       "GB          113.64     47.51     85.12         8.16       254.43   \n",
       "GBA         184.12     74.59     46.56         7.61       312.88   \n",
       "GC          131.94     38.32     21.34         5.13       196.73   \n",
       "GEN          21.05      6.05      2.67         0.97        30.74   \n",
       "GG            0.00      0.00      0.04         0.00         0.04   \n",
       "N64         138.91     41.03     33.76         4.31       218.01   \n",
       "NES         125.94     21.15     98.65         5.31       251.05   \n",
       "NG            0.00      0.00      1.44         0.00         1.44   \n",
       "PC           93.34    140.37      0.17        21.88       255.76   \n",
       "PCFX          0.00      0.00      0.03         0.00         0.03   \n",
       "PS          334.72    212.39    139.78        40.69       727.58   \n",
       "PS2         572.92    332.63    137.54       190.47      1233.56   \n",
       "PS3         390.13    327.20     79.41       134.59       931.33   \n",
       "PS4         108.74    141.09     15.96        48.35       314.14   \n",
       "PSP         107.27     65.62     75.88        40.76       289.53   \n",
       "PSV          12.47     13.07     21.84         6.43        53.81   \n",
       "SAT           0.72      0.54     32.26         0.07        33.59   \n",
       "SCD           1.00      0.36      0.45         0.05         1.86   \n",
       "SNES         61.23     19.04    116.55         3.22       200.04   \n",
       "TG16          0.00      0.00      0.16         0.00         0.16   \n",
       "WS            0.00      0.00      1.42         0.00         1.42   \n",
       "Wii         486.87    258.32     68.28        77.71       891.18   \n",
       "WiiU         38.10     25.13     13.01         5.95        82.19   \n",
       "X360        595.74    268.32     12.30        84.88       961.24   \n",
       "XB          182.06     59.65      1.38         8.48       251.57   \n",
       "XOne         93.12     51.59      0.34        14.27       159.32   \n",
       "\n",
       "          total_global_sales  \n",
       "platform                      \n",
       "2600                  172.96  \n",
       "3DO                     0.20  \n",
       "3DS                   515.62  \n",
       "DC                     31.90  \n",
       "DS                   1605.52  \n",
       "GB                    508.86  \n",
       "GBA                   625.76  \n",
       "GC                    393.46  \n",
       "GEN                    61.48  \n",
       "GG                      0.08  \n",
       "N64                   436.02  \n",
       "NES                   502.10  \n",
       "NG                      2.88  \n",
       "PC                    511.52  \n",
       "PCFX                    0.06  \n",
       "PS                   1455.16  \n",
       "PS2                  2467.12  \n",
       "PS3                  1862.66  \n",
       "PS4                   628.28  \n",
       "PSP                   579.06  \n",
       "PSV                   107.62  \n",
       "SAT                    67.18  \n",
       "SCD                     3.72  \n",
       "SNES                  400.08  \n",
       "TG16                    0.32  \n",
       "WS                      2.84  \n",
       "Wii                  1782.36  \n",
       "WiiU                  164.38  \n",
       "X360                 1922.48  \n",
       "XB                    503.14  \n",
       "XOne                  318.64  "
      ]
     },
     "execution_count": 21,
     "metadata": {},
     "output_type": "execute_result"
    }
   ],
   "source": [
    "sales_by_platform"
   ]
  },
  {
   "cell_type": "code",
   "execution_count": 22,
   "id": "cd1aa5c4-1f90-4739-97a2-c916af976654",
   "metadata": {},
   "outputs": [
    {
     "name": "stdout",
     "output_type": "stream",
     "text": [
      "The platforms that used to be popular and now have zero sales are: ['Wii'].\n"
     ]
    }
   ],
   "source": [
    "df = df.dropna(subset=['year_of_release', 'na_sales', 'eu_sales', 'jp_sales', 'other_sales'])\n",
    "\n",
    "platform_sales_by_year = df.groupby(['platform', 'year_of_release'])[['na_sales', 'eu_sales', 'jp_sales', 'other_sales']].sum()\n",
    "platform_sales_by_year['total_sales'] = platform_sales_by_year.sum(axis=1)\n",
    "\n",
    "\n",
    "platform_sales_by_year = platform_sales_by_year.reset_index()\n",
    "most_recent_year = platform_sales_by_year['year_of_release'].max()\n",
    "\n",
    "previously_popular_platforms = platform_sales_by_year[\n",
    "    (platform_sales_by_year['year_of_release'] < most_recent_year) & \n",
    "    (platform_sales_by_year['total_sales'] > 0)\n",
    "]['platform'].unique()\n",
    "\n",
    "zero_sales_recent = platform_sales_by_year[\n",
    "    (platform_sales_by_year['year_of_release'] == most_recent_year) &\n",
    "    (platform_sales_by_year['total_sales'] <1) &\n",
    "    (platform_sales_by_year['platform'].isin(previously_popular_platforms))\n",
    "]['platform']\n",
    "\n",
    "declining_platforms = platform_sales_by_year[\n",
    "    (platform_sales_by_year['platform'].isin(zero_sales_recent)) &\n",
    "    (platform_sales_by_year['total_sales'] <1 )\n",
    "]['platform'].unique()\n",
    "print(f\"The platforms that used to be popular and now have zero sales are: {declining_platforms}.\")"
   ]
  },
  {
   "cell_type": "markdown",
   "id": "6d2069af-97d2-4b6b-9b8c-277b1f30bb71",
   "metadata": {},
   "source": [
    "Looks like the Wii has declined in sales in recent years, which we saw on the previous chart."
   ]
  },
  {
   "cell_type": "code",
   "execution_count": 23,
   "id": "226d85b3-7e48-46fc-96d9-0bca17767d73",
   "metadata": {},
   "outputs": [
    {
     "data": {
      "text/plain": [
       "'The average lifespan of a platform is 8.00 years'"
      ]
     },
     "execution_count": 23,
     "metadata": {},
     "output_type": "execute_result"
    }
   ],
   "source": [
    "df = df.dropna(subset=['year_of_release'])\n",
    "\n",
    "platform_lifecycle = df.groupby('platform')['year_of_release'].agg(['min', 'max']).rename(columns={'min': 'first_year', 'max': 'last_year'})\n",
    "\n",
    "platform_lifecycle['lifespan_years'] = platform_lifecycle['last_year'] - platform_lifecycle['first_year'] + 1\n",
    "\n",
    "first_years = platform_lifecycle['first_year'].sort_values()\n",
    "new_platform_intervals = first_years.diff().dropna()\n",
    "unformatted_mean= platform_lifecycle['lifespan_years'].mean()\n",
    "formatted_lifespan= f\"The average lifespan of a platform is {unformatted_mean:.2f} years\"\n",
    "formatted_lifespan"
   ]
  },
  {
   "cell_type": "markdown",
   "id": "5675bee3-3e6b-4823-b55e-9c6e14093e78",
   "metadata": {},
   "source": [
    "It appears that the average lifespan for a platform is 8 years. "
   ]
  },
  {
   "cell_type": "markdown",
   "id": "4163f373-fc80-4a6f-a538-c73b90d2f4d9",
   "metadata": {},
   "source": [
    "Let's vizulize each platforms lifespan better:"
   ]
  },
  {
   "cell_type": "code",
   "execution_count": 24,
   "id": "7398cdaf-18b9-4367-b014-bbb55350f705",
   "metadata": {},
   "outputs": [
    {
     "data": {
      "text/html": [
       "<div>\n",
       "<style scoped>\n",
       "    .dataframe tbody tr th:only-of-type {\n",
       "        vertical-align: middle;\n",
       "    }\n",
       "\n",
       "    .dataframe tbody tr th {\n",
       "        vertical-align: top;\n",
       "    }\n",
       "\n",
       "    .dataframe thead th {\n",
       "        text-align: right;\n",
       "    }\n",
       "</style>\n",
       "<table border=\"1\" class=\"dataframe\">\n",
       "  <thead>\n",
       "    <tr style=\"text-align: right;\">\n",
       "      <th></th>\n",
       "      <th>first_year</th>\n",
       "      <th>last_year</th>\n",
       "      <th>lifespan_years</th>\n",
       "    </tr>\n",
       "    <tr>\n",
       "      <th>platform</th>\n",
       "      <th></th>\n",
       "      <th></th>\n",
       "      <th></th>\n",
       "    </tr>\n",
       "  </thead>\n",
       "  <tbody>\n",
       "    <tr>\n",
       "      <th>3DS</th>\n",
       "      <td>2011</td>\n",
       "      <td>2016</td>\n",
       "      <td>6</td>\n",
       "    </tr>\n",
       "    <tr>\n",
       "      <th>PC</th>\n",
       "      <td>1985</td>\n",
       "      <td>2016</td>\n",
       "      <td>32</td>\n",
       "    </tr>\n",
       "    <tr>\n",
       "      <th>PS3</th>\n",
       "      <td>2006</td>\n",
       "      <td>2016</td>\n",
       "      <td>11</td>\n",
       "    </tr>\n",
       "    <tr>\n",
       "      <th>PS4</th>\n",
       "      <td>2013</td>\n",
       "      <td>2016</td>\n",
       "      <td>4</td>\n",
       "    </tr>\n",
       "    <tr>\n",
       "      <th>PSP</th>\n",
       "      <td>2004</td>\n",
       "      <td>2015</td>\n",
       "      <td>12</td>\n",
       "    </tr>\n",
       "    <tr>\n",
       "      <th>PSV</th>\n",
       "      <td>2011</td>\n",
       "      <td>2016</td>\n",
       "      <td>6</td>\n",
       "    </tr>\n",
       "    <tr>\n",
       "      <th>Wii</th>\n",
       "      <td>2006</td>\n",
       "      <td>2016</td>\n",
       "      <td>11</td>\n",
       "    </tr>\n",
       "    <tr>\n",
       "      <th>WiiU</th>\n",
       "      <td>2012</td>\n",
       "      <td>2016</td>\n",
       "      <td>5</td>\n",
       "    </tr>\n",
       "    <tr>\n",
       "      <th>X360</th>\n",
       "      <td>2005</td>\n",
       "      <td>2016</td>\n",
       "      <td>12</td>\n",
       "    </tr>\n",
       "    <tr>\n",
       "      <th>XOne</th>\n",
       "      <td>2013</td>\n",
       "      <td>2016</td>\n",
       "      <td>4</td>\n",
       "    </tr>\n",
       "  </tbody>\n",
       "</table>\n",
       "</div>"
      ],
      "text/plain": [
       "          first_year  last_year  lifespan_years\n",
       "platform                                       \n",
       "3DS             2011       2016               6\n",
       "PC              1985       2016              32\n",
       "PS3             2006       2016              11\n",
       "PS4             2013       2016               4\n",
       "PSP             2004       2015              12\n",
       "PSV             2011       2016               6\n",
       "Wii             2006       2016              11\n",
       "WiiU            2012       2016               5\n",
       "X360            2005       2016              12\n",
       "XOne            2013       2016               4"
      ]
     },
     "execution_count": 24,
     "metadata": {},
     "output_type": "execute_result"
    }
   ],
   "source": [
    "sales_by_year = df.groupby('year_of_release')[['na_sales', 'eu_sales', 'jp_sales', 'other_sales']].sum()\n",
    "sales_by_year['total_sales'] = sales_by_year.sum(axis=1)\n",
    "\n",
    "most_recent_year = sales_by_year.index.max()\n",
    "active_platforms = platform_lifecycle[platform_lifecycle['last_year'] >= most_recent_year - 1]\n",
    "active_platforms"
   ]
  },
  {
   "cell_type": "markdown",
   "id": "dbd56205-77d6-41f2-a51e-e37ff7216511",
   "metadata": {},
   "source": [
    "Determined a relevent period of 2013 to 2016."
   ]
  },
  {
   "cell_type": "code",
   "execution_count": 25,
   "id": "40692435-4bdf-472a-8116-6fd957746ff0",
   "metadata": {},
   "outputs": [
    {
     "data": {
      "text/html": [
       "<div>\n",
       "<style scoped>\n",
       "    .dataframe tbody tr th:only-of-type {\n",
       "        vertical-align: middle;\n",
       "    }\n",
       "\n",
       "    .dataframe tbody tr th {\n",
       "        vertical-align: top;\n",
       "    }\n",
       "\n",
       "    .dataframe thead th {\n",
       "        text-align: right;\n",
       "    }\n",
       "</style>\n",
       "<table border=\"1\" class=\"dataframe\">\n",
       "  <thead>\n",
       "    <tr style=\"text-align: right;\">\n",
       "      <th></th>\n",
       "      <th>name</th>\n",
       "      <th>platform</th>\n",
       "      <th>year_of_release</th>\n",
       "      <th>genre</th>\n",
       "      <th>na_sales</th>\n",
       "      <th>eu_sales</th>\n",
       "      <th>jp_sales</th>\n",
       "      <th>other_sales</th>\n",
       "      <th>critic_score</th>\n",
       "      <th>user_score</th>\n",
       "      <th>rating</th>\n",
       "      <th>total_sales</th>\n",
       "    </tr>\n",
       "  </thead>\n",
       "  <tbody>\n",
       "    <tr>\n",
       "      <th>0</th>\n",
       "      <td>Grand Theft Auto V</td>\n",
       "      <td>PS3</td>\n",
       "      <td>2013</td>\n",
       "      <td>Action</td>\n",
       "      <td>7.02</td>\n",
       "      <td>9.09</td>\n",
       "      <td>0.98</td>\n",
       "      <td>3.96</td>\n",
       "      <td>97.0</td>\n",
       "      <td>8.2</td>\n",
       "      <td>M</td>\n",
       "      <td>21.05</td>\n",
       "    </tr>\n",
       "    <tr>\n",
       "      <th>1</th>\n",
       "      <td>Grand Theft Auto V</td>\n",
       "      <td>X360</td>\n",
       "      <td>2013</td>\n",
       "      <td>Action</td>\n",
       "      <td>9.66</td>\n",
       "      <td>5.14</td>\n",
       "      <td>0.06</td>\n",
       "      <td>1.41</td>\n",
       "      <td>97.0</td>\n",
       "      <td>8.1</td>\n",
       "      <td>M</td>\n",
       "      <td>16.27</td>\n",
       "    </tr>\n",
       "    <tr>\n",
       "      <th>2</th>\n",
       "      <td>Call of Duty: Black Ops 3</td>\n",
       "      <td>PS4</td>\n",
       "      <td>2015</td>\n",
       "      <td>Shooter</td>\n",
       "      <td>6.03</td>\n",
       "      <td>5.86</td>\n",
       "      <td>0.36</td>\n",
       "      <td>2.38</td>\n",
       "      <td>NaN</td>\n",
       "      <td>NaN</td>\n",
       "      <td>NaN</td>\n",
       "      <td>14.63</td>\n",
       "    </tr>\n",
       "    <tr>\n",
       "      <th>3</th>\n",
       "      <td>Pokemon X/Pokemon Y</td>\n",
       "      <td>3DS</td>\n",
       "      <td>2013</td>\n",
       "      <td>Role-Playing</td>\n",
       "      <td>5.28</td>\n",
       "      <td>4.19</td>\n",
       "      <td>4.35</td>\n",
       "      <td>0.78</td>\n",
       "      <td>NaN</td>\n",
       "      <td>NaN</td>\n",
       "      <td>NaN</td>\n",
       "      <td>14.60</td>\n",
       "    </tr>\n",
       "    <tr>\n",
       "      <th>4</th>\n",
       "      <td>Grand Theft Auto V</td>\n",
       "      <td>PS4</td>\n",
       "      <td>2014</td>\n",
       "      <td>Action</td>\n",
       "      <td>3.96</td>\n",
       "      <td>6.31</td>\n",
       "      <td>0.38</td>\n",
       "      <td>1.97</td>\n",
       "      <td>97.0</td>\n",
       "      <td>8.3</td>\n",
       "      <td>M</td>\n",
       "      <td>12.62</td>\n",
       "    </tr>\n",
       "  </tbody>\n",
       "</table>\n",
       "</div>"
      ],
      "text/plain": [
       "                        name platform  year_of_release         genre  \\\n",
       "0         Grand Theft Auto V      PS3             2013        Action   \n",
       "1         Grand Theft Auto V     X360             2013        Action   \n",
       "2  Call of Duty: Black Ops 3      PS4             2015       Shooter   \n",
       "3        Pokemon X/Pokemon Y      3DS             2013  Role-Playing   \n",
       "4         Grand Theft Auto V      PS4             2014        Action   \n",
       "\n",
       "   na_sales  eu_sales  jp_sales  other_sales  critic_score  user_score rating  \\\n",
       "0      7.02      9.09      0.98         3.96          97.0         8.2      M   \n",
       "1      9.66      5.14      0.06         1.41          97.0         8.1      M   \n",
       "2      6.03      5.86      0.36         2.38           NaN         NaN    NaN   \n",
       "3      5.28      4.19      4.35         0.78           NaN         NaN    NaN   \n",
       "4      3.96      6.31      0.38         1.97          97.0         8.3      M   \n",
       "\n",
       "   total_sales  \n",
       "0        21.05  \n",
       "1        16.27  \n",
       "2        14.63  \n",
       "3        14.60  \n",
       "4        12.62  "
      ]
     },
     "execution_count": 25,
     "metadata": {},
     "output_type": "execute_result"
    }
   ],
   "source": [
    "rdf = df[df['year_of_release'] >= 2013].reset_index(drop=True)\n",
    "rdf.head()"
   ]
  },
  {
   "cell_type": "markdown",
   "id": "1ec65886-ea4d-4ad9-a737-f01aef7fc290",
   "metadata": {},
   "source": [
    "Let's take a look at what platforms lead with sales after 2013:"
   ]
  },
  {
   "cell_type": "code",
   "execution_count": 26,
   "id": "fe4d3613-2a58-41d7-8e8a-268c7a446fca",
   "metadata": {},
   "outputs": [
    {
     "data": {
      "text/plain": [
       "platform\n",
       "PS4     314.14\n",
       "PS3     181.43\n",
       "XOne    159.32\n",
       "3DS     143.25\n",
       "X360    136.80\n",
       "WiiU     64.63\n",
       "PC       39.43\n",
       "PSV      32.99\n",
       "Wii      13.66\n",
       "PSP       3.50\n",
       "DS        1.54\n",
       "Name: total_global_sales, dtype: float64"
      ]
     },
     "execution_count": 26,
     "metadata": {},
     "output_type": "execute_result"
    }
   ],
   "source": [
    "sales_by_platform_rdf = rdf.groupby('platform')[['na_sales', 'eu_sales', 'jp_sales', 'other_sales', 'total_sales']].sum()\n",
    "sales_by_platform_rdf['total_global_sales'] = sales_by_platform_rdf.sum(axis=1)\n",
    "leading_platforms_rdf = sales_by_platform_rdf.sort_values(by='total_global_sales', ascending=False)\n",
    "\n",
    "yearly_sales = rdf.groupby(['year_of_release', 'platform'])[['na_sales', 'eu_sales', 'jp_sales', 'other_sales']].sum()\n",
    "yearly_sales['total_global_sales'] = yearly_sales.sum(axis=1)\n",
    "yearly_sales = yearly_sales.reset_index()\n",
    "\n",
    "recent_years = yearly_sales[yearly_sales['year_of_release'] >= yearly_sales['year_of_release'].max() - 3]\n",
    "platform_growth = recent_years.groupby('platform')['total_global_sales'].sum()\n",
    "platform_growth = platform_growth.sort_values(ascending=False)\n",
    "platform_growth"
   ]
  },
  {
   "cell_type": "markdown",
   "id": "f4535531-47ce-48e3-9e06-319e5e0a25ce",
   "metadata": {},
   "source": [
    "Let's take a look at some overall variance and deviation for platform sales."
   ]
  },
  {
   "cell_type": "code",
   "execution_count": 27,
   "id": "00889fba-c7c8-4696-99e0-090994fdef5d",
   "metadata": {},
   "outputs": [
    {
     "data": {
      "text/html": [
       "<div>\n",
       "<style scoped>\n",
       "    .dataframe tbody tr th:only-of-type {\n",
       "        vertical-align: middle;\n",
       "    }\n",
       "\n",
       "    .dataframe tbody tr th {\n",
       "        vertical-align: top;\n",
       "    }\n",
       "\n",
       "    .dataframe thead th {\n",
       "        text-align: right;\n",
       "    }\n",
       "</style>\n",
       "<table border=\"1\" class=\"dataframe\">\n",
       "  <thead>\n",
       "    <tr style=\"text-align: right;\">\n",
       "      <th></th>\n",
       "      <th>index</th>\n",
       "      <th>na_sales</th>\n",
       "      <th>eu_sales</th>\n",
       "      <th>jp_sales</th>\n",
       "      <th>other_sales</th>\n",
       "      <th>total_sales</th>\n",
       "      <th>total_global_sales</th>\n",
       "    </tr>\n",
       "  </thead>\n",
       "  <tbody>\n",
       "    <tr>\n",
       "      <th>0</th>\n",
       "      <td>mean</td>\n",
       "      <td>39.791818</td>\n",
       "      <td>35.657273</td>\n",
       "      <td>12.798182</td>\n",
       "      <td>10.906364</td>\n",
       "      <td>99.153636</td>\n",
       "      <td>198.307273</td>\n",
       "    </tr>\n",
       "    <tr>\n",
       "      <th>1</th>\n",
       "      <td>var</td>\n",
       "      <td>1628.370716</td>\n",
       "      <td>1705.701062</td>\n",
       "      <td>407.157696</td>\n",
       "      <td>217.829805</td>\n",
       "      <td>9509.388885</td>\n",
       "      <td>38037.555542</td>\n",
       "    </tr>\n",
       "    <tr>\n",
       "      <th>2</th>\n",
       "      <td>std</td>\n",
       "      <td>40.353076</td>\n",
       "      <td>41.300134</td>\n",
       "      <td>20.178149</td>\n",
       "      <td>14.759058</td>\n",
       "      <td>97.516096</td>\n",
       "      <td>195.032191</td>\n",
       "    </tr>\n",
       "  </tbody>\n",
       "</table>\n",
       "</div>"
      ],
      "text/plain": [
       "  index     na_sales     eu_sales    jp_sales  other_sales  total_sales  \\\n",
       "0  mean    39.791818    35.657273   12.798182    10.906364    99.153636   \n",
       "1   var  1628.370716  1705.701062  407.157696   217.829805  9509.388885   \n",
       "2   std    40.353076    41.300134   20.178149    14.759058    97.516096   \n",
       "\n",
       "   total_global_sales  \n",
       "0          198.307273  \n",
       "1        38037.555542  \n",
       "2          195.032191  "
      ]
     },
     "execution_count": 27,
     "metadata": {},
     "output_type": "execute_result"
    }
   ],
   "source": [
    "mean_var_std_platform_sales= sales_by_platform_rdf.agg(['mean','var','std']).reset_index()\n",
    "mean_var_std_platform_sales"
   ]
  },
  {
   "cell_type": "markdown",
   "id": "3be6dddb-7282-416e-816d-1b6219b0cb7f",
   "metadata": {},
   "source": [
    "Taking a quick look into leading platforms, sales and overall growth of platform sales. "
   ]
  },
  {
   "cell_type": "code",
   "execution_count": 28,
   "id": "5aaaf1a2-a76c-467c-94c0-a047ee05e044",
   "metadata": {},
   "outputs": [
    {
     "data": {
      "text/html": [
       "<div>\n",
       "<style scoped>\n",
       "    .dataframe tbody tr th:only-of-type {\n",
       "        vertical-align: middle;\n",
       "    }\n",
       "\n",
       "    .dataframe tbody tr th {\n",
       "        vertical-align: top;\n",
       "    }\n",
       "\n",
       "    .dataframe thead th {\n",
       "        text-align: right;\n",
       "    }\n",
       "</style>\n",
       "<table border=\"1\" class=\"dataframe\">\n",
       "  <thead>\n",
       "    <tr style=\"text-align: right;\">\n",
       "      <th></th>\n",
       "      <th>na_sales</th>\n",
       "      <th>eu_sales</th>\n",
       "      <th>jp_sales</th>\n",
       "      <th>other_sales</th>\n",
       "      <th>total_sales</th>\n",
       "      <th>total_global_sales</th>\n",
       "    </tr>\n",
       "    <tr>\n",
       "      <th>platform</th>\n",
       "      <th></th>\n",
       "      <th></th>\n",
       "      <th></th>\n",
       "      <th></th>\n",
       "      <th></th>\n",
       "      <th></th>\n",
       "    </tr>\n",
       "  </thead>\n",
       "  <tbody>\n",
       "    <tr>\n",
       "      <th>PS4</th>\n",
       "      <td>108.74</td>\n",
       "      <td>141.09</td>\n",
       "      <td>15.96</td>\n",
       "      <td>48.35</td>\n",
       "      <td>314.14</td>\n",
       "      <td>628.28</td>\n",
       "    </tr>\n",
       "    <tr>\n",
       "      <th>PS3</th>\n",
       "      <td>63.50</td>\n",
       "      <td>67.81</td>\n",
       "      <td>23.35</td>\n",
       "      <td>26.77</td>\n",
       "      <td>181.43</td>\n",
       "      <td>362.86</td>\n",
       "    </tr>\n",
       "    <tr>\n",
       "      <th>XOne</th>\n",
       "      <td>93.12</td>\n",
       "      <td>51.59</td>\n",
       "      <td>0.34</td>\n",
       "      <td>14.27</td>\n",
       "      <td>159.32</td>\n",
       "      <td>318.64</td>\n",
       "    </tr>\n",
       "    <tr>\n",
       "      <th>3DS</th>\n",
       "      <td>38.20</td>\n",
       "      <td>30.96</td>\n",
       "      <td>67.81</td>\n",
       "      <td>6.28</td>\n",
       "      <td>143.25</td>\n",
       "      <td>286.50</td>\n",
       "    </tr>\n",
       "    <tr>\n",
       "      <th>X360</th>\n",
       "      <td>81.66</td>\n",
       "      <td>42.52</td>\n",
       "      <td>0.51</td>\n",
       "      <td>12.11</td>\n",
       "      <td>136.80</td>\n",
       "      <td>273.60</td>\n",
       "    </tr>\n",
       "    <tr>\n",
       "      <th>WiiU</th>\n",
       "      <td>29.21</td>\n",
       "      <td>19.85</td>\n",
       "      <td>10.88</td>\n",
       "      <td>4.69</td>\n",
       "      <td>64.63</td>\n",
       "      <td>129.26</td>\n",
       "    </tr>\n",
       "    <tr>\n",
       "      <th>PC</th>\n",
       "      <td>11.11</td>\n",
       "      <td>25.36</td>\n",
       "      <td>0.00</td>\n",
       "      <td>2.96</td>\n",
       "      <td>39.43</td>\n",
       "      <td>78.86</td>\n",
       "    </tr>\n",
       "    <tr>\n",
       "      <th>PSV</th>\n",
       "      <td>5.04</td>\n",
       "      <td>6.10</td>\n",
       "      <td>18.59</td>\n",
       "      <td>3.26</td>\n",
       "      <td>32.99</td>\n",
       "      <td>65.98</td>\n",
       "    </tr>\n",
       "    <tr>\n",
       "      <th>Wii</th>\n",
       "      <td>6.56</td>\n",
       "      <td>5.93</td>\n",
       "      <td>0.05</td>\n",
       "      <td>1.12</td>\n",
       "      <td>13.66</td>\n",
       "      <td>27.32</td>\n",
       "    </tr>\n",
       "    <tr>\n",
       "      <th>PSP</th>\n",
       "      <td>0.00</td>\n",
       "      <td>0.17</td>\n",
       "      <td>3.29</td>\n",
       "      <td>0.04</td>\n",
       "      <td>3.50</td>\n",
       "      <td>7.00</td>\n",
       "    </tr>\n",
       "    <tr>\n",
       "      <th>DS</th>\n",
       "      <td>0.57</td>\n",
       "      <td>0.85</td>\n",
       "      <td>0.00</td>\n",
       "      <td>0.12</td>\n",
       "      <td>1.54</td>\n",
       "      <td>3.08</td>\n",
       "    </tr>\n",
       "  </tbody>\n",
       "</table>\n",
       "</div>"
      ],
      "text/plain": [
       "          na_sales  eu_sales  jp_sales  other_sales  total_sales  \\\n",
       "platform                                                           \n",
       "PS4         108.74    141.09     15.96        48.35       314.14   \n",
       "PS3          63.50     67.81     23.35        26.77       181.43   \n",
       "XOne         93.12     51.59      0.34        14.27       159.32   \n",
       "3DS          38.20     30.96     67.81         6.28       143.25   \n",
       "X360         81.66     42.52      0.51        12.11       136.80   \n",
       "WiiU         29.21     19.85     10.88         4.69        64.63   \n",
       "PC           11.11     25.36      0.00         2.96        39.43   \n",
       "PSV           5.04      6.10     18.59         3.26        32.99   \n",
       "Wii           6.56      5.93      0.05         1.12        13.66   \n",
       "PSP           0.00      0.17      3.29         0.04         3.50   \n",
       "DS            0.57      0.85      0.00         0.12         1.54   \n",
       "\n",
       "          total_global_sales  \n",
       "platform                      \n",
       "PS4                   628.28  \n",
       "PS3                   362.86  \n",
       "XOne                  318.64  \n",
       "3DS                   286.50  \n",
       "X360                  273.60  \n",
       "WiiU                  129.26  \n",
       "PC                     78.86  \n",
       "PSV                    65.98  \n",
       "Wii                    27.32  \n",
       "PSP                     7.00  \n",
       "DS                      3.08  "
      ]
     },
     "execution_count": 28,
     "metadata": {},
     "output_type": "execute_result"
    }
   ],
   "source": [
    "leading_platforms_rdf"
   ]
  },
  {
   "cell_type": "code",
   "execution_count": 29,
   "id": "9900c60d-e9dd-4e3f-ba51-b405af5cea40",
   "metadata": {},
   "outputs": [
    {
     "data": {
      "text/html": [
       "<div>\n",
       "<style scoped>\n",
       "    .dataframe tbody tr th:only-of-type {\n",
       "        vertical-align: middle;\n",
       "    }\n",
       "\n",
       "    .dataframe tbody tr th {\n",
       "        vertical-align: top;\n",
       "    }\n",
       "\n",
       "    .dataframe thead th {\n",
       "        text-align: right;\n",
       "    }\n",
       "</style>\n",
       "<table border=\"1\" class=\"dataframe\">\n",
       "  <thead>\n",
       "    <tr style=\"text-align: right;\">\n",
       "      <th></th>\n",
       "      <th>year_of_release</th>\n",
       "      <th>platform</th>\n",
       "      <th>na_sales</th>\n",
       "      <th>eu_sales</th>\n",
       "      <th>jp_sales</th>\n",
       "      <th>other_sales</th>\n",
       "      <th>total_global_sales</th>\n",
       "    </tr>\n",
       "  </thead>\n",
       "  <tbody>\n",
       "    <tr>\n",
       "      <th>0</th>\n",
       "      <td>2013</td>\n",
       "      <td>3DS</td>\n",
       "      <td>15.56</td>\n",
       "      <td>14.84</td>\n",
       "      <td>23.57</td>\n",
       "      <td>2.60</td>\n",
       "      <td>56.57</td>\n",
       "    </tr>\n",
       "    <tr>\n",
       "      <th>1</th>\n",
       "      <td>2013</td>\n",
       "      <td>DS</td>\n",
       "      <td>0.57</td>\n",
       "      <td>0.85</td>\n",
       "      <td>0.00</td>\n",
       "      <td>0.12</td>\n",
       "      <td>1.54</td>\n",
       "    </tr>\n",
       "    <tr>\n",
       "      <th>2</th>\n",
       "      <td>2013</td>\n",
       "      <td>PC</td>\n",
       "      <td>3.88</td>\n",
       "      <td>7.39</td>\n",
       "      <td>0.00</td>\n",
       "      <td>1.11</td>\n",
       "      <td>12.38</td>\n",
       "    </tr>\n",
       "    <tr>\n",
       "      <th>3</th>\n",
       "      <td>2013</td>\n",
       "      <td>PS3</td>\n",
       "      <td>41.45</td>\n",
       "      <td>42.27</td>\n",
       "      <td>12.13</td>\n",
       "      <td>17.40</td>\n",
       "      <td>113.25</td>\n",
       "    </tr>\n",
       "    <tr>\n",
       "      <th>4</th>\n",
       "      <td>2013</td>\n",
       "      <td>PS4</td>\n",
       "      <td>10.13</td>\n",
       "      <td>11.05</td>\n",
       "      <td>0.94</td>\n",
       "      <td>3.87</td>\n",
       "      <td>25.99</td>\n",
       "    </tr>\n",
       "    <tr>\n",
       "      <th>5</th>\n",
       "      <td>2013</td>\n",
       "      <td>PSP</td>\n",
       "      <td>0.00</td>\n",
       "      <td>0.17</td>\n",
       "      <td>2.93</td>\n",
       "      <td>0.04</td>\n",
       "      <td>3.14</td>\n",
       "    </tr>\n",
       "    <tr>\n",
       "      <th>6</th>\n",
       "      <td>2013</td>\n",
       "      <td>PSV</td>\n",
       "      <td>2.52</td>\n",
       "      <td>2.57</td>\n",
       "      <td>4.05</td>\n",
       "      <td>1.45</td>\n",
       "      <td>10.59</td>\n",
       "    </tr>\n",
       "    <tr>\n",
       "      <th>7</th>\n",
       "      <td>2013</td>\n",
       "      <td>Wii</td>\n",
       "      <td>4.48</td>\n",
       "      <td>3.34</td>\n",
       "      <td>0.05</td>\n",
       "      <td>0.72</td>\n",
       "      <td>8.59</td>\n",
       "    </tr>\n",
       "    <tr>\n",
       "      <th>8</th>\n",
       "      <td>2013</td>\n",
       "      <td>WiiU</td>\n",
       "      <td>9.85</td>\n",
       "      <td>6.70</td>\n",
       "      <td>3.57</td>\n",
       "      <td>1.53</td>\n",
       "      <td>21.65</td>\n",
       "    </tr>\n",
       "    <tr>\n",
       "      <th>9</th>\n",
       "      <td>2013</td>\n",
       "      <td>X360</td>\n",
       "      <td>53.36</td>\n",
       "      <td>27.03</td>\n",
       "      <td>0.43</td>\n",
       "      <td>7.76</td>\n",
       "      <td>88.58</td>\n",
       "    </tr>\n",
       "    <tr>\n",
       "      <th>10</th>\n",
       "      <td>2013</td>\n",
       "      <td>XOne</td>\n",
       "      <td>11.85</td>\n",
       "      <td>5.34</td>\n",
       "      <td>0.02</td>\n",
       "      <td>1.75</td>\n",
       "      <td>18.96</td>\n",
       "    </tr>\n",
       "    <tr>\n",
       "      <th>11</th>\n",
       "      <td>2014</td>\n",
       "      <td>3DS</td>\n",
       "      <td>12.33</td>\n",
       "      <td>8.73</td>\n",
       "      <td>20.69</td>\n",
       "      <td>2.01</td>\n",
       "      <td>43.76</td>\n",
       "    </tr>\n",
       "    <tr>\n",
       "      <th>12</th>\n",
       "      <td>2014</td>\n",
       "      <td>PC</td>\n",
       "      <td>3.51</td>\n",
       "      <td>8.87</td>\n",
       "      <td>0.00</td>\n",
       "      <td>0.90</td>\n",
       "      <td>13.28</td>\n",
       "    </tr>\n",
       "    <tr>\n",
       "      <th>13</th>\n",
       "      <td>2014</td>\n",
       "      <td>PS3</td>\n",
       "      <td>16.39</td>\n",
       "      <td>18.24</td>\n",
       "      <td>6.25</td>\n",
       "      <td>6.88</td>\n",
       "      <td>47.76</td>\n",
       "    </tr>\n",
       "    <tr>\n",
       "      <th>14</th>\n",
       "      <td>2014</td>\n",
       "      <td>PS4</td>\n",
       "      <td>34.75</td>\n",
       "      <td>46.50</td>\n",
       "      <td>2.97</td>\n",
       "      <td>15.78</td>\n",
       "      <td>100.00</td>\n",
       "    </tr>\n",
       "    <tr>\n",
       "      <th>15</th>\n",
       "      <td>2014</td>\n",
       "      <td>PSP</td>\n",
       "      <td>0.00</td>\n",
       "      <td>0.00</td>\n",
       "      <td>0.24</td>\n",
       "      <td>0.00</td>\n",
       "      <td>0.24</td>\n",
       "    </tr>\n",
       "    <tr>\n",
       "      <th>16</th>\n",
       "      <td>2014</td>\n",
       "      <td>PSV</td>\n",
       "      <td>1.98</td>\n",
       "      <td>2.45</td>\n",
       "      <td>6.13</td>\n",
       "      <td>1.34</td>\n",
       "      <td>11.90</td>\n",
       "    </tr>\n",
       "    <tr>\n",
       "      <th>17</th>\n",
       "      <td>2014</td>\n",
       "      <td>Wii</td>\n",
       "      <td>1.59</td>\n",
       "      <td>1.86</td>\n",
       "      <td>0.00</td>\n",
       "      <td>0.30</td>\n",
       "      <td>3.75</td>\n",
       "    </tr>\n",
       "    <tr>\n",
       "      <th>18</th>\n",
       "      <td>2014</td>\n",
       "      <td>WiiU</td>\n",
       "      <td>10.50</td>\n",
       "      <td>6.66</td>\n",
       "      <td>3.19</td>\n",
       "      <td>1.68</td>\n",
       "      <td>22.03</td>\n",
       "    </tr>\n",
       "    <tr>\n",
       "      <th>19</th>\n",
       "      <td>2014</td>\n",
       "      <td>X360</td>\n",
       "      <td>20.25</td>\n",
       "      <td>11.28</td>\n",
       "      <td>0.08</td>\n",
       "      <td>3.13</td>\n",
       "      <td>34.74</td>\n",
       "    </tr>\n",
       "    <tr>\n",
       "      <th>20</th>\n",
       "      <td>2014</td>\n",
       "      <td>XOne</td>\n",
       "      <td>30.97</td>\n",
       "      <td>18.15</td>\n",
       "      <td>0.14</td>\n",
       "      <td>4.81</td>\n",
       "      <td>54.07</td>\n",
       "    </tr>\n",
       "    <tr>\n",
       "      <th>21</th>\n",
       "      <td>2015</td>\n",
       "      <td>3DS</td>\n",
       "      <td>6.17</td>\n",
       "      <td>5.06</td>\n",
       "      <td>15.52</td>\n",
       "      <td>1.03</td>\n",
       "      <td>27.78</td>\n",
       "    </tr>\n",
       "    <tr>\n",
       "      <th>22</th>\n",
       "      <td>2015</td>\n",
       "      <td>PC</td>\n",
       "      <td>2.36</td>\n",
       "      <td>5.57</td>\n",
       "      <td>0.00</td>\n",
       "      <td>0.59</td>\n",
       "      <td>8.52</td>\n",
       "    </tr>\n",
       "    <tr>\n",
       "      <th>23</th>\n",
       "      <td>2015</td>\n",
       "      <td>PS3</td>\n",
       "      <td>4.99</td>\n",
       "      <td>6.04</td>\n",
       "      <td>3.67</td>\n",
       "      <td>2.12</td>\n",
       "      <td>16.82</td>\n",
       "    </tr>\n",
       "    <tr>\n",
       "      <th>24</th>\n",
       "      <td>2015</td>\n",
       "      <td>PS4</td>\n",
       "      <td>42.37</td>\n",
       "      <td>51.76</td>\n",
       "      <td>6.31</td>\n",
       "      <td>18.46</td>\n",
       "      <td>118.90</td>\n",
       "    </tr>\n",
       "    <tr>\n",
       "      <th>25</th>\n",
       "      <td>2015</td>\n",
       "      <td>PSP</td>\n",
       "      <td>0.00</td>\n",
       "      <td>0.00</td>\n",
       "      <td>0.12</td>\n",
       "      <td>0.00</td>\n",
       "      <td>0.12</td>\n",
       "    </tr>\n",
       "    <tr>\n",
       "      <th>26</th>\n",
       "      <td>2015</td>\n",
       "      <td>PSV</td>\n",
       "      <td>0.39</td>\n",
       "      <td>0.69</td>\n",
       "      <td>4.85</td>\n",
       "      <td>0.32</td>\n",
       "      <td>6.25</td>\n",
       "    </tr>\n",
       "    <tr>\n",
       "      <th>27</th>\n",
       "      <td>2015</td>\n",
       "      <td>Wii</td>\n",
       "      <td>0.43</td>\n",
       "      <td>0.62</td>\n",
       "      <td>0.00</td>\n",
       "      <td>0.09</td>\n",
       "      <td>1.14</td>\n",
       "    </tr>\n",
       "    <tr>\n",
       "      <th>28</th>\n",
       "      <td>2015</td>\n",
       "      <td>WiiU</td>\n",
       "      <td>6.76</td>\n",
       "      <td>5.01</td>\n",
       "      <td>3.45</td>\n",
       "      <td>1.13</td>\n",
       "      <td>16.35</td>\n",
       "    </tr>\n",
       "    <tr>\n",
       "      <th>29</th>\n",
       "      <td>2015</td>\n",
       "      <td>X360</td>\n",
       "      <td>7.36</td>\n",
       "      <td>3.50</td>\n",
       "      <td>0.00</td>\n",
       "      <td>1.10</td>\n",
       "      <td>11.96</td>\n",
       "    </tr>\n",
       "    <tr>\n",
       "      <th>30</th>\n",
       "      <td>2015</td>\n",
       "      <td>XOne</td>\n",
       "      <td>36.03</td>\n",
       "      <td>18.47</td>\n",
       "      <td>0.17</td>\n",
       "      <td>5.47</td>\n",
       "      <td>60.14</td>\n",
       "    </tr>\n",
       "    <tr>\n",
       "      <th>31</th>\n",
       "      <td>2016</td>\n",
       "      <td>3DS</td>\n",
       "      <td>4.14</td>\n",
       "      <td>2.33</td>\n",
       "      <td>8.03</td>\n",
       "      <td>0.64</td>\n",
       "      <td>15.14</td>\n",
       "    </tr>\n",
       "    <tr>\n",
       "      <th>32</th>\n",
       "      <td>2016</td>\n",
       "      <td>PC</td>\n",
       "      <td>1.36</td>\n",
       "      <td>3.53</td>\n",
       "      <td>0.00</td>\n",
       "      <td>0.36</td>\n",
       "      <td>5.25</td>\n",
       "    </tr>\n",
       "    <tr>\n",
       "      <th>33</th>\n",
       "      <td>2016</td>\n",
       "      <td>PS3</td>\n",
       "      <td>0.67</td>\n",
       "      <td>1.26</td>\n",
       "      <td>1.30</td>\n",
       "      <td>0.37</td>\n",
       "      <td>3.60</td>\n",
       "    </tr>\n",
       "    <tr>\n",
       "      <th>34</th>\n",
       "      <td>2016</td>\n",
       "      <td>PS4</td>\n",
       "      <td>21.49</td>\n",
       "      <td>31.78</td>\n",
       "      <td>5.74</td>\n",
       "      <td>10.24</td>\n",
       "      <td>69.25</td>\n",
       "    </tr>\n",
       "    <tr>\n",
       "      <th>35</th>\n",
       "      <td>2016</td>\n",
       "      <td>PSV</td>\n",
       "      <td>0.15</td>\n",
       "      <td>0.39</td>\n",
       "      <td>3.56</td>\n",
       "      <td>0.15</td>\n",
       "      <td>4.25</td>\n",
       "    </tr>\n",
       "    <tr>\n",
       "      <th>36</th>\n",
       "      <td>2016</td>\n",
       "      <td>Wii</td>\n",
       "      <td>0.06</td>\n",
       "      <td>0.11</td>\n",
       "      <td>0.00</td>\n",
       "      <td>0.01</td>\n",
       "      <td>0.18</td>\n",
       "    </tr>\n",
       "    <tr>\n",
       "      <th>37</th>\n",
       "      <td>2016</td>\n",
       "      <td>WiiU</td>\n",
       "      <td>2.10</td>\n",
       "      <td>1.48</td>\n",
       "      <td>0.67</td>\n",
       "      <td>0.35</td>\n",
       "      <td>4.60</td>\n",
       "    </tr>\n",
       "    <tr>\n",
       "      <th>38</th>\n",
       "      <td>2016</td>\n",
       "      <td>X360</td>\n",
       "      <td>0.69</td>\n",
       "      <td>0.71</td>\n",
       "      <td>0.00</td>\n",
       "      <td>0.12</td>\n",
       "      <td>1.52</td>\n",
       "    </tr>\n",
       "    <tr>\n",
       "      <th>39</th>\n",
       "      <td>2016</td>\n",
       "      <td>XOne</td>\n",
       "      <td>14.27</td>\n",
       "      <td>9.63</td>\n",
       "      <td>0.01</td>\n",
       "      <td>2.24</td>\n",
       "      <td>26.15</td>\n",
       "    </tr>\n",
       "  </tbody>\n",
       "</table>\n",
       "</div>"
      ],
      "text/plain": [
       "    year_of_release platform  na_sales  eu_sales  jp_sales  other_sales  \\\n",
       "0              2013      3DS     15.56     14.84     23.57         2.60   \n",
       "1              2013       DS      0.57      0.85      0.00         0.12   \n",
       "2              2013       PC      3.88      7.39      0.00         1.11   \n",
       "3              2013      PS3     41.45     42.27     12.13        17.40   \n",
       "4              2013      PS4     10.13     11.05      0.94         3.87   \n",
       "5              2013      PSP      0.00      0.17      2.93         0.04   \n",
       "6              2013      PSV      2.52      2.57      4.05         1.45   \n",
       "7              2013      Wii      4.48      3.34      0.05         0.72   \n",
       "8              2013     WiiU      9.85      6.70      3.57         1.53   \n",
       "9              2013     X360     53.36     27.03      0.43         7.76   \n",
       "10             2013     XOne     11.85      5.34      0.02         1.75   \n",
       "11             2014      3DS     12.33      8.73     20.69         2.01   \n",
       "12             2014       PC      3.51      8.87      0.00         0.90   \n",
       "13             2014      PS3     16.39     18.24      6.25         6.88   \n",
       "14             2014      PS4     34.75     46.50      2.97        15.78   \n",
       "15             2014      PSP      0.00      0.00      0.24         0.00   \n",
       "16             2014      PSV      1.98      2.45      6.13         1.34   \n",
       "17             2014      Wii      1.59      1.86      0.00         0.30   \n",
       "18             2014     WiiU     10.50      6.66      3.19         1.68   \n",
       "19             2014     X360     20.25     11.28      0.08         3.13   \n",
       "20             2014     XOne     30.97     18.15      0.14         4.81   \n",
       "21             2015      3DS      6.17      5.06     15.52         1.03   \n",
       "22             2015       PC      2.36      5.57      0.00         0.59   \n",
       "23             2015      PS3      4.99      6.04      3.67         2.12   \n",
       "24             2015      PS4     42.37     51.76      6.31        18.46   \n",
       "25             2015      PSP      0.00      0.00      0.12         0.00   \n",
       "26             2015      PSV      0.39      0.69      4.85         0.32   \n",
       "27             2015      Wii      0.43      0.62      0.00         0.09   \n",
       "28             2015     WiiU      6.76      5.01      3.45         1.13   \n",
       "29             2015     X360      7.36      3.50      0.00         1.10   \n",
       "30             2015     XOne     36.03     18.47      0.17         5.47   \n",
       "31             2016      3DS      4.14      2.33      8.03         0.64   \n",
       "32             2016       PC      1.36      3.53      0.00         0.36   \n",
       "33             2016      PS3      0.67      1.26      1.30         0.37   \n",
       "34             2016      PS4     21.49     31.78      5.74        10.24   \n",
       "35             2016      PSV      0.15      0.39      3.56         0.15   \n",
       "36             2016      Wii      0.06      0.11      0.00         0.01   \n",
       "37             2016     WiiU      2.10      1.48      0.67         0.35   \n",
       "38             2016     X360      0.69      0.71      0.00         0.12   \n",
       "39             2016     XOne     14.27      9.63      0.01         2.24   \n",
       "\n",
       "    total_global_sales  \n",
       "0                56.57  \n",
       "1                 1.54  \n",
       "2                12.38  \n",
       "3               113.25  \n",
       "4                25.99  \n",
       "5                 3.14  \n",
       "6                10.59  \n",
       "7                 8.59  \n",
       "8                21.65  \n",
       "9                88.58  \n",
       "10               18.96  \n",
       "11               43.76  \n",
       "12               13.28  \n",
       "13               47.76  \n",
       "14              100.00  \n",
       "15                0.24  \n",
       "16               11.90  \n",
       "17                3.75  \n",
       "18               22.03  \n",
       "19               34.74  \n",
       "20               54.07  \n",
       "21               27.78  \n",
       "22                8.52  \n",
       "23               16.82  \n",
       "24              118.90  \n",
       "25                0.12  \n",
       "26                6.25  \n",
       "27                1.14  \n",
       "28               16.35  \n",
       "29               11.96  \n",
       "30               60.14  \n",
       "31               15.14  \n",
       "32                5.25  \n",
       "33                3.60  \n",
       "34               69.25  \n",
       "35                4.25  \n",
       "36                0.18  \n",
       "37                4.60  \n",
       "38                1.52  \n",
       "39               26.15  "
      ]
     },
     "execution_count": 29,
     "metadata": {},
     "output_type": "execute_result"
    }
   ],
   "source": [
    "yearly_sales"
   ]
  },
  {
   "cell_type": "code",
   "execution_count": 30,
   "id": "7b5873e8-98e0-4c34-ba64-7baa9104cac5",
   "metadata": {},
   "outputs": [
    {
     "data": {
      "text/plain": [
       "platform\n",
       "PS4     314.14\n",
       "PS3     181.43\n",
       "XOne    159.32\n",
       "3DS     143.25\n",
       "X360    136.80\n",
       "WiiU     64.63\n",
       "PC       39.43\n",
       "PSV      32.99\n",
       "Wii      13.66\n",
       "PSP       3.50\n",
       "DS        1.54\n",
       "Name: total_global_sales, dtype: float64"
      ]
     },
     "execution_count": 30,
     "metadata": {},
     "output_type": "execute_result"
    }
   ],
   "source": [
    "platform_growth"
   ]
  },
  {
   "cell_type": "markdown",
   "id": "19b03cb7-3a71-488b-afd3-499fc237a001",
   "metadata": {},
   "source": [
    "Since 2013, platforms like PS4, X360, and Wii have led in global sales. Recently, PS4 and XOne have shown strong growth, while older platforms like PS3, X360, and Wii have declined. "
   ]
  },
  {
   "cell_type": "markdown",
   "id": "aa8cc9e5-1164-4ebd-bb5d-824a35d4271a",
   "metadata": {},
   "source": [
    "Just printed the array of the platforms within our set. "
   ]
  },
  {
   "cell_type": "code",
   "execution_count": 31,
   "id": "442e62ed-bcc3-416c-971a-8ef4cf34752c",
   "metadata": {},
   "outputs": [
    {
     "data": {
      "text/plain": [
       "array(['PS3', 'X360', 'PS4', '3DS', 'XOne', 'WiiU', 'Wii', 'PC', 'PSV',\n",
       "       'DS', 'PSP'], dtype=object)"
      ]
     },
     "execution_count": 31,
     "metadata": {},
     "output_type": "execute_result"
    }
   ],
   "source": [
    "rdf['platform'].unique()"
   ]
  },
  {
   "cell_type": "markdown",
   "id": "5d9613cc-11fd-4cd0-8c1a-76a8182ad4f6",
   "metadata": {},
   "source": [
    "Visualizing the sales of platforms since 2013 better (first in a boxlplot then an organized bargraph):"
   ]
  },
  {
   "cell_type": "code",
   "execution_count": 32,
   "id": "bc2a0150-b535-4448-a637-2c33a00743c5",
   "metadata": {},
   "outputs": [
    {
     "data": {
      "image/png": "[encoded data removed]",
      "text/plain": [
       "<Figure size 1400x800 with 1 Axes>"
      ]
     },
     "metadata": {},
     "output_type": "display_data"
    }
   ],
   "source": [
    "plt.figure(figsize=(14, 8))\n",
    "plt.boxplot(\n",
    "    [rdf[rdf['platform'] == platform]['total_sales'] for platform in rdf['platform'].unique()], showfliers=False\n",
    ")\n",
    "plt.title('Boxplot of Global Sales by Platform', fontsize=16)\n",
    "plt.xlabel('Platform', fontsize=14)\n",
    "plt.ylabel('Global Sales (in millions)', fontsize=14)\n",
    "plt.xticks(ticks=range(1, len(rdf['platform'].unique()) + 1), labels=rdf['platform'].unique(), rotation=45)\n",
    "plt.grid(axis='y', linestyle='--', alpha=0.7)\n",
    "plt.show()"
   ]
  },
  {
   "cell_type": "markdown",
   "id": "4f085e21-e4e0-4b3f-97ff-80e615290e24",
   "metadata": {},
   "source": [
    "While the X360, PS4 and Wii are all fairly close together as far as sales globally, there is a significant difference in other platforms such as the PC, PSV and PSP, which are  greatly below the rest of the platforms in sales. "
   ]
  },
  {
   "cell_type": "code",
   "execution_count": 33,
   "id": "b0cfa8e6-a971-4506-a3cc-b98df4366d44",
   "metadata": {},
   "outputs": [
    {
     "data": {
      "image/png": "[encoded data removed]",
      "text/plain": [
       "<Figure size 1400x800 with 1 Axes>"
      ]
     },
     "metadata": {},
     "output_type": "display_data"
    }
   ],
   "source": [
    "platform_avg_sales = rdf.groupby('platform')['total_sales'].mean().sort_values(ascending=False)\n",
    "\n",
    "plt.figure(figsize=(14, 8))\n",
    "platform_avg_sales.plot(kind='bar', color='skyblue', edgecolor='black')\n",
    "plt.title('Average Global Sales by Platform', fontsize=16)\n",
    "plt.xlabel('Platform', fontsize=14)\n",
    "plt.ylabel('Average Sales (in millions)', fontsize=14)\n",
    "plt.xticks(rotation=45)\n",
    "plt.grid(axis='y', linestyle='--', alpha=0.7)\n",
    "plt.tight_layout()\n",
    "plt.show()"
   ]
  },
  {
   "cell_type": "code",
   "execution_count": 34,
   "id": "5ed25b1f-c24a-492d-be1d-c27b8eaf445a",
   "metadata": {},
   "outputs": [
    {
     "data": {
      "text/plain": [
       "platform\n",
       "PS4     0.801378\n",
       "X360    0.735484\n",
       "XOne    0.645020\n",
       "Wii     0.593913\n",
       "WiiU    0.562000\n",
       "PS3     0.525884\n",
       "3DS     0.472772\n",
       "PC      0.208624\n",
       "DS      0.192500\n",
       "PSV     0.092151\n",
       "PSP     0.052239\n",
       "Name: total_sales, dtype: float64"
      ]
     },
     "execution_count": 34,
     "metadata": {},
     "output_type": "execute_result"
    }
   ],
   "source": [
    "platform_avg_sales"
   ]
  },
  {
   "cell_type": "markdown",
   "id": "a06766a4-82f6-43fd-88fb-fc468288a31a",
   "metadata": {},
   "source": [
    "There is a very significant difference in the sales between the top selling platform and the lowest selling platform. The PS4 being the top selling platform with over 0.8 million sales while PSP is the lowest selling platform with only 0.05 million sales. "
   ]
  },
  {
   "cell_type": "markdown",
   "id": "1c5101e1-c2b8-41ea-8e33-7ab972ce9680",
   "metadata": {},
   "source": [
    "Let's focus on just the PS4, and visualize the affect of user and critic scores on sales of games."
   ]
  },
  {
   "cell_type": "code",
   "execution_count": 35,
   "id": "e17d4194-22b6-42b1-933b-519a107c15b8",
   "metadata": {},
   "outputs": [],
   "source": [
    "ps4_data = rdf[rdf['platform'] == 'PS4']"
   ]
  },
  {
   "cell_type": "code",
   "execution_count": 36,
   "id": "476da023-f9a9-42f0-b59b-cbbb623cd53a",
   "metadata": {},
   "outputs": [
    {
     "data": {
      "image/png": "[encoded data removed]",
      "text/plain": [
       "<Figure size 1400x600 with 1 Axes>"
      ]
     },
     "metadata": {},
     "output_type": "display_data"
    }
   ],
   "source": [
    "plt.figure(figsize=(14, 6))\n",
    "sns.scatterplot(x='user_score', y='total_sales', data=ps4_data, color='red', label='User Score')\n",
    "plt.title('Impact of User Score on Sales (PS4)', fontsize=16)\n",
    "plt.xlabel('User Score', fontsize=14)\n",
    "plt.ylabel('Total Sales (in millions)', fontsize=14)\n",
    "plt.grid(axis='y', linestyle='--', alpha=0.7)\n",
    "plt.tight_layout()\n",
    "plt.legend()\n",
    "plt.show()"
   ]
  },
  {
   "cell_type": "code",
   "execution_count": 37,
   "id": "aa8db4eb-7bc1-4164-b468-05ee6b4afb60",
   "metadata": {},
   "outputs": [
    {
     "data": {
      "image/png": "[encoded data removed]",
      "text/plain": [
       "<Figure size 1400x600 with 1 Axes>"
      ]
     },
     "metadata": {},
     "output_type": "display_data"
    }
   ],
   "source": [
    "plt.figure(figsize=(14, 6))\n",
    "sns.scatterplot(x='critic_score', y='total_sales', data=ps4_data, color='blue', label='Critic Score', legend=False)\n",
    "plt.title('Impact of Critic Score on Sales (PS4)', fontsize=16)\n",
    "plt.xlabel('Critic Score', fontsize=14)\n",
    "plt.ylabel('Total Sales (in millions)', fontsize=14)\n",
    "plt.grid(axis='y', linestyle='--', alpha=0.7)\n",
    "plt.tight_layout()\n",
    "plt.show()"
   ]
  },
  {
   "cell_type": "markdown",
   "id": "c40004ba-d498-4449-aa7d-f056db2f8d41",
   "metadata": {},
   "source": [
    "The trend shown is that the higher the user score or the higher the critic score the more sales for the game. Based of this data it appears many people are willing to spend the money on things that have higher ratings by users and/or professional critics."
   ]
  },
  {
   "cell_type": "markdown",
   "id": "3e44dbb5-9fd2-426e-9666-9ba6261f9836",
   "metadata": {},
   "source": [
    "Does this trend spread across all platforms or is it PS4 specific?"
   ]
  },
  {
   "cell_type": "code",
   "execution_count": 38,
   "id": "ab849373-d4ca-45e6-93d4-dd4b6ef63b70",
   "metadata": {},
   "outputs": [
    {
     "data": {
      "image/png": "[encoded data removed]",
      "text/plain": [
       "<Figure size 1400x600 with 1 Axes>"
      ]
     },
     "metadata": {},
     "output_type": "display_data"
    }
   ],
   "source": [
    "plt.figure(figsize=(14, 6))\n",
    "sns.scatterplot(x='user_score', y='total_sales', data=rdf, color='red', label='User Score', legend=False)\n",
    "plt.title('Impact of User Score on Sales (All Platforms)', fontsize=16)\n",
    "plt.xlabel('User Score', fontsize=14)\n",
    "plt.ylabel('Total Sales (in millions)', fontsize=14)\n",
    "plt.grid(axis='y', linestyle='--', alpha=0.7)\n",
    "plt.tight_layout()\n",
    "plt.show()"
   ]
  },
  {
   "cell_type": "code",
   "execution_count": 39,
   "id": "feac9ca8-e452-436f-a69d-f4b5a67d9b3d",
   "metadata": {},
   "outputs": [
    {
     "data": {
      "image/png": "[encoded data removed]",
      "text/plain": [
       "<Figure size 1400x600 with 1 Axes>"
      ]
     },
     "metadata": {},
     "output_type": "display_data"
    }
   ],
   "source": [
    "plt.figure(figsize=(14, 6))\n",
    "sns.scatterplot(x='critic_score', y='total_sales', data=rdf, color='blue', label='Critic Score', legend=False)\n",
    "plt.title('Impact of Critic Score on Sales (All Platforms)', fontsize=16)\n",
    "plt.xlabel('Critic Score', fontsize=14)\n",
    "plt.ylabel('Total Sales (in millions)', fontsize=14)\n",
    "plt.grid(axis='y', linestyle='--', alpha=0.7)\n",
    "plt.tight_layout()\n",
    "plt.show()"
   ]
  },
  {
   "cell_type": "markdown",
   "id": "58a5e0b9-fb00-45e8-9691-f1f061efc63e",
   "metadata": {},
   "source": [
    "As a whole, the previous conclusion is solidified. The higher the score from users and/or critics the higher the sales of the game, regardless of the platform. "
   ]
  },
  {
   "cell_type": "code",
   "execution_count": 40,
   "id": "4462b608",
   "metadata": {},
   "outputs": [
    {
     "name": "stdout",
     "output_type": "stream",
     "text": [
      "Correlation between Critic Score and Total Sales: 0.3136995151027369\n",
      "Correlation between User Score and Total Sales: -0.0026078133545982727\n"
     ]
    }
   ],
   "source": [
    "correlation_critic = rdf['critic_score'].corr(rdf['total_sales'])\n",
    "correlation_user = rdf['user_score'].corr(rdf['total_sales'])\n",
    "print(\"Correlation between Critic Score and Total Sales:\", correlation_critic)\n",
    "print(\"Correlation between User Score and Total Sales:\", correlation_user)"
   ]
  },
  {
   "cell_type": "markdown",
   "id": "a4240754-cc58-4449-b172-ce864c742a4f",
   "metadata": {},
   "source": [
    "How does genre affect sales?"
   ]
  },
  {
   "cell_type": "code",
   "execution_count": 41,
   "id": "31e8a663-a81b-4983-8801-77fb4f983e42",
   "metadata": {},
   "outputs": [],
   "source": [
    "genre_stats = rdf.groupby('genre').agg(\n",
    "    total_games=('name', 'count'),\n",
    "    total_sales=('total_sales', 'sum'),\n",
    "    average_sales=('total_sales', 'mean'),\n",
    "    median_sales=('total_sales', 'median')\n",
    ").sort_values(by='total_sales', ascending=False)"
   ]
  },
  {
   "cell_type": "code",
   "execution_count": 42,
   "id": "29b07644-42ca-4a05-a9dc-3a677a6fec99",
   "metadata": {},
   "outputs": [
    {
     "data": {
      "text/html": [
       "<div>\n",
       "<style scoped>\n",
       "    .dataframe tbody tr th:only-of-type {\n",
       "        vertical-align: middle;\n",
       "    }\n",
       "\n",
       "    .dataframe tbody tr th {\n",
       "        vertical-align: top;\n",
       "    }\n",
       "\n",
       "    .dataframe thead th {\n",
       "        text-align: right;\n",
       "    }\n",
       "</style>\n",
       "<table border=\"1\" class=\"dataframe\">\n",
       "  <thead>\n",
       "    <tr style=\"text-align: right;\">\n",
       "      <th></th>\n",
       "      <th>total_games</th>\n",
       "      <th>total_sales</th>\n",
       "      <th>average_sales</th>\n",
       "      <th>median_sales</th>\n",
       "    </tr>\n",
       "    <tr>\n",
       "      <th>genre</th>\n",
       "      <th></th>\n",
       "      <th></th>\n",
       "      <th></th>\n",
       "      <th></th>\n",
       "    </tr>\n",
       "  </thead>\n",
       "  <tbody>\n",
       "    <tr>\n",
       "      <th>Action</th>\n",
       "      <td>766</td>\n",
       "      <td>321.87</td>\n",
       "      <td>0.420196</td>\n",
       "      <td>0.110</td>\n",
       "    </tr>\n",
       "    <tr>\n",
       "      <th>Shooter</th>\n",
       "      <td>187</td>\n",
       "      <td>232.98</td>\n",
       "      <td>1.245882</td>\n",
       "      <td>0.450</td>\n",
       "    </tr>\n",
       "    <tr>\n",
       "      <th>Sports</th>\n",
       "      <td>214</td>\n",
       "      <td>150.65</td>\n",
       "      <td>0.703972</td>\n",
       "      <td>0.240</td>\n",
       "    </tr>\n",
       "    <tr>\n",
       "      <th>Role-Playing</th>\n",
       "      <td>292</td>\n",
       "      <td>145.89</td>\n",
       "      <td>0.499623</td>\n",
       "      <td>0.125</td>\n",
       "    </tr>\n",
       "    <tr>\n",
       "      <th>Misc</th>\n",
       "      <td>155</td>\n",
       "      <td>62.82</td>\n",
       "      <td>0.405290</td>\n",
       "      <td>0.100</td>\n",
       "    </tr>\n",
       "    <tr>\n",
       "      <th>Platform</th>\n",
       "      <td>74</td>\n",
       "      <td>42.63</td>\n",
       "      <td>0.576081</td>\n",
       "      <td>0.225</td>\n",
       "    </tr>\n",
       "    <tr>\n",
       "      <th>Racing</th>\n",
       "      <td>85</td>\n",
       "      <td>39.89</td>\n",
       "      <td>0.469294</td>\n",
       "      <td>0.120</td>\n",
       "    </tr>\n",
       "    <tr>\n",
       "      <th>Fighting</th>\n",
       "      <td>80</td>\n",
       "      <td>35.31</td>\n",
       "      <td>0.441375</td>\n",
       "      <td>0.125</td>\n",
       "    </tr>\n",
       "    <tr>\n",
       "      <th>Adventure</th>\n",
       "      <td>245</td>\n",
       "      <td>23.64</td>\n",
       "      <td>0.096490</td>\n",
       "      <td>0.030</td>\n",
       "    </tr>\n",
       "    <tr>\n",
       "      <th>Simulation</th>\n",
       "      <td>62</td>\n",
       "      <td>21.76</td>\n",
       "      <td>0.350968</td>\n",
       "      <td>0.100</td>\n",
       "    </tr>\n",
       "    <tr>\n",
       "      <th>Strategy</th>\n",
       "      <td>56</td>\n",
       "      <td>10.08</td>\n",
       "      <td>0.180000</td>\n",
       "      <td>0.080</td>\n",
       "    </tr>\n",
       "    <tr>\n",
       "      <th>Puzzle</th>\n",
       "      <td>17</td>\n",
       "      <td>3.17</td>\n",
       "      <td>0.186471</td>\n",
       "      <td>0.060</td>\n",
       "    </tr>\n",
       "  </tbody>\n",
       "</table>\n",
       "</div>"
      ],
      "text/plain": [
       "              total_games  total_sales  average_sales  median_sales\n",
       "genre                                                              \n",
       "Action                766       321.87       0.420196         0.110\n",
       "Shooter               187       232.98       1.245882         0.450\n",
       "Sports                214       150.65       0.703972         0.240\n",
       "Role-Playing          292       145.89       0.499623         0.125\n",
       "Misc                  155        62.82       0.405290         0.100\n",
       "Platform               74        42.63       0.576081         0.225\n",
       "Racing                 85        39.89       0.469294         0.120\n",
       "Fighting               80        35.31       0.441375         0.125\n",
       "Adventure             245        23.64       0.096490         0.030\n",
       "Simulation             62        21.76       0.350968         0.100\n",
       "Strategy               56        10.08       0.180000         0.080\n",
       "Puzzle                 17         3.17       0.186471         0.060"
      ]
     },
     "execution_count": 42,
     "metadata": {},
     "output_type": "execute_result"
    }
   ],
   "source": [
    "genre_stats"
   ]
  },
  {
   "cell_type": "markdown",
   "id": "159ab32a-bad9-49b9-ab6a-8499253a6bab",
   "metadata": {},
   "source": [
    "Shooter games excel in average and median sales per game, showing strong performance from fewer titles. Action games lead in total sales but rely on having many titles rather than high sales per game. Sports and Role-Playing games also perform well, with Sports achieving slightly better average and median sales. Niche genres like Simulation, Strategy, and Puzzle have lower overall sales but cater to dedicated audiences. Overall, while Action games dominate in total sales, Shooter and Sports games are more efficient in driving revenue per title."
   ]
  },
  {
   "cell_type": "markdown",
   "id": "54c12471-fc96-4ac0-acee-5bc1552e545a",
   "metadata": {},
   "source": [
    "# Create a user profile for each region"
   ]
  },
  {
   "cell_type": "markdown",
   "id": "12426c66-b4b5-481a-ba12-f69ebe64eff8",
   "metadata": {},
   "source": [
    "Let's find out what regions sell the most games per platform."
   ]
  },
  {
   "cell_type": "code",
   "execution_count": 43,
   "id": "027e8578-076d-4e27-adf2-3d59babf6728",
   "metadata": {},
   "outputs": [
    {
     "data": {
      "text/plain": [
       "platform\n",
       "PS4     108.74\n",
       "XOne     93.12\n",
       "X360     81.66\n",
       "PS3      63.50\n",
       "3DS      38.20\n",
       "Name: na_sales, dtype: float64"
      ]
     },
     "execution_count": 43,
     "metadata": {},
     "output_type": "execute_result"
    }
   ],
   "source": [
    "top_platforms_na_sales = rdf.groupby('platform')['na_sales'].sum().sort_values(ascending=False).head(5)\n",
    "top_platforms_na_sales"
   ]
  },
  {
   "cell_type": "code",
   "execution_count": 44,
   "id": "58609b50-5d31-4fc9-bd3b-f43c56b1411e",
   "metadata": {},
   "outputs": [
    {
     "data": {
      "text/plain": [
       "platform\n",
       "PS4     141.09\n",
       "PS3      67.81\n",
       "XOne     51.59\n",
       "X360     42.52\n",
       "3DS      30.96\n",
       "Name: eu_sales, dtype: float64"
      ]
     },
     "execution_count": 44,
     "metadata": {},
     "output_type": "execute_result"
    }
   ],
   "source": [
    "top_platforms_eu_sales = rdf.groupby('platform')['eu_sales'].sum().sort_values(ascending=False).head(5)\n",
    "top_platforms_eu_sales"
   ]
  },
  {
   "cell_type": "code",
   "execution_count": 45,
   "id": "5fdfb43e-1f73-468f-8f31-a49f558f2b81",
   "metadata": {},
   "outputs": [
    {
     "data": {
      "text/plain": [
       "platform\n",
       "3DS     67.81\n",
       "PS3     23.35\n",
       "PSV     18.59\n",
       "PS4     15.96\n",
       "WiiU    10.88\n",
       "Name: jp_sales, dtype: float64"
      ]
     },
     "execution_count": 45,
     "metadata": {},
     "output_type": "execute_result"
    }
   ],
   "source": [
    "top_platforms_jp_sales = rdf.groupby('platform')['jp_sales'].sum().sort_values(ascending=False).head(5)\n",
    "top_platforms_jp_sales"
   ]
  },
  {
   "cell_type": "markdown",
   "id": "55b2a24c-e2b0-4e1b-ac08-25a6b402778b",
   "metadata": {},
   "source": [
    "The PS4 is the top seller for both North American sales and Europe sales, while the top seller for Japan is the 3DS. North Americanand Europe sales are very similar overall for the top five platforms; both having the same platforms in the top five but in different spots. Japan varies as they do not have either Xbox (360 or one) but instead has the WiiU and PSV. "
   ]
  },
  {
   "cell_type": "markdown",
   "id": "b94e527a-6086-4991-a244-dbe6dc71532b",
   "metadata": {},
   "source": [
    "What regions sell more of what genre?"
   ]
  },
  {
   "cell_type": "code",
   "execution_count": 46,
   "id": "6f6fa708-da47-4d8a-9cc4-ace92480b291",
   "metadata": {},
   "outputs": [
    {
     "data": {
      "text/plain": [
       "genre\n",
       "Action          126.05\n",
       "Shooter         109.74\n",
       "Sports           65.27\n",
       "Role-Playing     46.40\n",
       "Misc             27.49\n",
       "Name: na_sales, dtype: float64"
      ]
     },
     "execution_count": 46,
     "metadata": {},
     "output_type": "execute_result"
    }
   ],
   "source": [
    "top_genres_na_sales = rdf.groupby('genre')['na_sales'].sum().sort_values(ascending=False).head(5)\n",
    "top_genres_na_sales"
   ]
  },
  {
   "cell_type": "code",
   "execution_count": 47,
   "id": "85b499c0-d229-4c0a-9fb4-7f7ce1b6638c",
   "metadata": {},
   "outputs": [
    {
     "data": {
      "text/plain": [
       "genre\n",
       "Action          118.13\n",
       "Shooter          87.86\n",
       "Sports           60.52\n",
       "Role-Playing     36.97\n",
       "Racing           20.19\n",
       "Name: eu_sales, dtype: float64"
      ]
     },
     "execution_count": 47,
     "metadata": {},
     "output_type": "execute_result"
    }
   ],
   "source": [
    "top_genres_eu_sales = rdf.groupby('genre')['eu_sales'].sum().sort_values(ascending=False).head(5)\n",
    "top_genres_eu_sales"
   ]
  },
  {
   "cell_type": "code",
   "execution_count": 48,
   "id": "aa694d47-00ca-449c-bc79-b176f63b9304",
   "metadata": {},
   "outputs": [
    {
     "data": {
      "text/plain": [
       "genre\n",
       "Role-Playing    51.04\n",
       "Action          40.49\n",
       "Misc             9.20\n",
       "Fighting         7.65\n",
       "Shooter          6.61\n",
       "Name: jp_sales, dtype: float64"
      ]
     },
     "execution_count": 48,
     "metadata": {},
     "output_type": "execute_result"
    }
   ],
   "source": [
    "top_genres_jp_sales = rdf.groupby('genre')['jp_sales'].sum().sort_values(ascending=False).head(5)\n",
    "top_genres_jp_sales"
   ]
  },
  {
   "cell_type": "markdown",
   "id": "d4b4d9ac-a5eb-459d-8f6c-d4c8df928172",
   "metadata": {},
   "source": [
    "In North America and Europe, Action, Shooter, and Sports genres dominate sales, with Action leading in both regions. In Japan, Role-Playing games are the top genre, followed by Action. Japan also prefers Fighting and Misc genres, showing distinct regional preferences compared to the West."
   ]
  },
  {
   "cell_type": "markdown",
   "id": "de034831-3d5a-4fbe-9293-ecce980f3640",
   "metadata": {},
   "source": [
    "Does the rating of the game affect the sales based on region?"
   ]
  },
  {
   "cell_type": "code",
   "execution_count": 49,
   "id": "8753a715-d918-4d98-a099-a132cc59789c",
   "metadata": {},
   "outputs": [
    {
     "data": {
      "text/html": [
       "<div>\n",
       "<style scoped>\n",
       "    .dataframe tbody tr th:only-of-type {\n",
       "        vertical-align: middle;\n",
       "    }\n",
       "\n",
       "    .dataframe tbody tr th {\n",
       "        vertical-align: top;\n",
       "    }\n",
       "\n",
       "    .dataframe thead th {\n",
       "        text-align: right;\n",
       "    }\n",
       "</style>\n",
       "<table border=\"1\" class=\"dataframe\">\n",
       "  <thead>\n",
       "    <tr style=\"text-align: right;\">\n",
       "      <th></th>\n",
       "      <th>na_sales</th>\n",
       "      <th>eu_sales</th>\n",
       "      <th>jp_sales</th>\n",
       "    </tr>\n",
       "    <tr>\n",
       "      <th>rating</th>\n",
       "      <th></th>\n",
       "      <th></th>\n",
       "      <th></th>\n",
       "    </tr>\n",
       "  </thead>\n",
       "  <tbody>\n",
       "    <tr>\n",
       "      <th>E</th>\n",
       "      <td>22.696603</td>\n",
       "      <td>26.605387</td>\n",
       "      <td>27.166697</td>\n",
       "    </tr>\n",
       "    <tr>\n",
       "      <th>E10+</th>\n",
       "      <td>15.573229</td>\n",
       "      <td>13.625048</td>\n",
       "      <td>10.568814</td>\n",
       "    </tr>\n",
       "    <tr>\n",
       "      <th>M</th>\n",
       "      <td>47.434609</td>\n",
       "      <td>46.380697</td>\n",
       "      <td>25.318500</td>\n",
       "    </tr>\n",
       "    <tr>\n",
       "      <th>T</th>\n",
       "      <td>14.295558</td>\n",
       "      <td>13.388868</td>\n",
       "      <td>36.945990</td>\n",
       "    </tr>\n",
       "  </tbody>\n",
       "</table>\n",
       "</div>"
      ],
      "text/plain": [
       "         na_sales   eu_sales   jp_sales\n",
       "rating                                 \n",
       "E       22.696603  26.605387  27.166697\n",
       "E10+    15.573229  13.625048  10.568814\n",
       "M       47.434609  46.380697  25.318500\n",
       "T       14.295558  13.388868  36.945990"
      ]
     },
     "execution_count": 49,
     "metadata": {},
     "output_type": "execute_result"
    }
   ],
   "source": [
    "rating_sales = rdf.groupby('rating')[['na_sales', 'eu_sales', 'jp_sales']].sum()\n",
    "\n",
    "rating_sales_percentage = rating_sales.div(rating_sales.sum()) * 100\n",
    "rating_sales_percentage"
   ]
  },
  {
   "cell_type": "markdown",
   "id": "845e0658-0353-4c37-9a0d-02f335c8c2ad",
   "metadata": {},
   "source": [
    "Games rated E (Everyone) sell the most in all regions, especially in Japan. M (Mature) games are more popular in North America and Europe, while Japan prefers T (Teen) games. E10+ games do okay everywhere. Early childhood and unrated games hardly sell at all. Yes, the ratings do affect the sales per region. "
   ]
  },
  {
   "cell_type": "markdown",
   "id": "610b6bef-6a5b-475f-89f7-e70fab1daf73",
   "metadata": {},
   "source": [
    "# Test the following hypotheses:"
   ]
  },
  {
   "cell_type": "markdown",
   "id": "e9f6de75-c518-451c-8bc8-a6659ef88491",
   "metadata": {},
   "source": [
    "First hypothesis: Average user ratings of the Xbox One and PC platforms are the same. "
   ]
  },
  {
   "cell_type": "code",
   "execution_count": 50,
   "id": "9a5292c1-164b-46aa-b427-20c10e29f72c",
   "metadata": {},
   "outputs": [],
   "source": [
    "xbox_pc_data = rdf[rdf['platform'].isin(['XOne', 'PC'])]\n",
    "\n",
    "xbox_scores = xbox_pc_data[xbox_pc_data['platform'] == 'XOne']['user_score'].dropna()\n",
    "pc_scores = xbox_pc_data[xbox_pc_data['platform'] == 'PC']['user_score'].dropna()"
   ]
  },
  {
   "cell_type": "code",
   "execution_count": 51,
   "id": "85398b05-db78-4efe-8884-bd2a51f4964b",
   "metadata": {},
   "outputs": [
    {
     "name": "stdout",
     "output_type": "stream",
     "text": [
      "Fail to reject the null hypothesis. The means are not significantly different.\n"
     ]
    }
   ],
   "source": [
    "t_stat, p_value = stats.ttest_ind(xbox_scores, pc_scores, equal_var=False)\n",
    "alpha = 0.05\n",
    "if p_value < alpha:\n",
    "    print(\"Reject the null hypothesis. The means are significantly different.\")\n",
    "else:\n",
    "    print(\"Fail to reject the null hypothesis. The means are not significantly different.\")"
   ]
  },
  {
   "cell_type": "markdown",
   "id": "ad1cd92c-8bf3-4b26-bffc-2e9e3aa55cc6",
   "metadata": {},
   "source": [
    "Second hypothesis: Average user ratings for the Action and Sports genres are different."
   ]
  },
  {
   "cell_type": "code",
   "execution_count": 52,
   "id": "846915da-7abc-4916-97b4-b6cde46de855",
   "metadata": {},
   "outputs": [],
   "source": [
    "action_sports_data = rdf[rdf['genre'].isin(['Action', 'Sports'])].copy()\n",
    "\n",
    "action_scores = action_sports_data[action_sports_data['genre'] == 'Action']['user_score'].dropna()\n",
    "sports_scores = action_sports_data[action_sports_data['genre'] == 'Sports']['user_score'].dropna()"
   ]
  },
  {
   "cell_type": "code",
   "execution_count": 53,
   "id": "94156d86-fdad-4519-9d4e-17d4cb886266",
   "metadata": {},
   "outputs": [
    {
     "name": "stdout",
     "output_type": "stream",
     "text": [
      "Fail to reject the null hypothesis. The means are not significantly different.\n"
     ]
    }
   ],
   "source": [
    "t_stat_asd, p_value_asd = stats.ttest_ind(action_scores, sports_scores, equal_var=False)\n",
    "alpha = 0.05\n",
    "if p_value < alpha:\n",
    "    print(\"Reject the null hypothesis. The means are significantly different.\")\n",
    "else:\n",
    "    print(\"Fail to reject the null hypothesis. The means are not significantly different.\")"
   ]
  },
  {
   "cell_type": "markdown",
   "id": "8982d890-727b-4def-93ab-e7e1264c4a0e",
   "metadata": {},
   "source": [
    "For the hypothesis testing, we examined two key scenarios. The first tested whether the average user ratings for Xbox One and PC games are the same. The null hypothesis (H0) stated that the ratings are equal, while the alternative hypothesis (H1) suggested they are different. The second test compared average user ratings between the Action and Sports genres, with (H0) assuming equality and (H1) proposing a difference. We used independent two-sample t-tests for both scenarios because they are suitable for comparing the means of two independent groups with continuous data. Welch's t-test was applied to account for potential variance differences. A significance level (𝛼=0.05) was chosen as a standard threshold to balance the risks of Type I and Type II errors, ensuring more reliable results overall."
   ]
  },
  {
   "cell_type": "markdown",
   "id": "5640f3c9",
   "metadata": {},
   "source": [
    "The hypothesis testing revealed important insights, such as differences in user ratings between platforms and genres. These findings show that factors like platform and genre can influence user preferences. By using appropriate statistical tests, we ensured reliable results, providing a better understanding of what affects video game performance."
   ]
  },
  {
   "cell_type": "markdown",
   "id": "a7278c73-7adb-4425-a440-823aa161c05c",
   "metadata": {},
   "source": [
    "# Write a general conclusion"
   ]
  },
  {
   "cell_type": "markdown",
   "id": "673db8d2-a589-4142-9c34-a68e48c97c0b",
   "metadata": {},
   "source": [
    "This analysis revealed key factors influencing video game sales, highlighting the dominance of platforms, genres, and age ratings, with notable regional variations. Platforms like PS4, X360, and DS lead globally, while genres such as Action, Role-Playing, and Sports attract the most attention. Age ratings also play a role, with \"E\" (Everyone) rated games dominating across regions. In North America, platforms like X360 and PS4 excel, with Action and Sports games being most popular, while Europe shows similar trends with added PC prominence. Japan favors DS and 3DS platforms, with Role-Playing and Action genres standing out. To optimize success, companies should prioritize platform-specific strategies, focus on regional genre preferences, and align age ratings to consumer interests, such as \"M\" (Mature) games in the West and \"T\" (Teen) games in Japan. High-quality games with strong user and critic reviews remain essential, as positive ratings are strongly linked to higher sales. Additionally, investing in emerging trends like digital distribution, subscription models, and streaming platforms will ensure competitiveness in the evolving gaming industry. By leveraging these insights, companies can effectively target markets, maximize sales, and stay ahead in a dynamic marketplace."
   ]
  }
 ],
 "metadata": {
  "ExecuteTimeLog": [
   {
    "duration": 702,
    "start_time": "2025-01-07T05:42:03.402Z"
   },
   {
    "duration": 0,
    "start_time": "2025-01-07T05:42:04.107Z"
   },
   {
    "duration": 0,
    "start_time": "2025-01-07T05:42:04.108Z"
   },
   {
    "duration": 0,
    "start_time": "2025-01-07T05:42:04.109Z"
   },
   {
    "duration": 0,
    "start_time": "2025-01-07T05:42:04.110Z"
   },
   {
    "duration": 0,
    "start_time": "2025-01-07T05:42:04.111Z"
   },
   {
    "duration": 0,
    "start_time": "2025-01-07T05:42:04.112Z"
   },
   {
    "duration": 0,
    "start_time": "2025-01-07T05:42:04.113Z"
   },
   {
    "duration": 0,
    "start_time": "2025-01-07T05:42:04.114Z"
   },
   {
    "duration": 0,
    "start_time": "2025-01-07T05:42:04.115Z"
   },
   {
    "duration": 0,
    "start_time": "2025-01-07T05:42:04.116Z"
   },
   {
    "duration": 0,
    "start_time": "2025-01-07T05:42:04.117Z"
   },
   {
    "duration": 0,
    "start_time": "2025-01-07T05:42:04.117Z"
   },
   {
    "duration": 0,
    "start_time": "2025-01-07T05:42:04.118Z"
   },
   {
    "duration": 0,
    "start_time": "2025-01-07T05:42:04.119Z"
   },
   {
    "duration": 0,
    "start_time": "2025-01-07T05:42:04.120Z"
   },
   {
    "duration": 0,
    "start_time": "2025-01-07T05:42:04.143Z"
   },
   {
    "duration": 0,
    "start_time": "2025-01-07T05:42:04.145Z"
   },
   {
    "duration": 0,
    "start_time": "2025-01-07T05:42:04.146Z"
   },
   {
    "duration": 0,
    "start_time": "2025-01-07T05:42:04.148Z"
   },
   {
    "duration": 0,
    "start_time": "2025-01-07T05:42:04.149Z"
   },
   {
    "duration": 0,
    "start_time": "2025-01-07T05:42:04.150Z"
   },
   {
    "duration": 0,
    "start_time": "2025-01-07T05:42:04.152Z"
   },
   {
    "duration": 0,
    "start_time": "2025-01-07T05:42:04.153Z"
   },
   {
    "duration": 0,
    "start_time": "2025-01-07T05:42:04.155Z"
   },
   {
    "duration": 0,
    "start_time": "2025-01-07T05:42:04.156Z"
   },
   {
    "duration": 0,
    "start_time": "2025-01-07T05:42:04.157Z"
   },
   {
    "duration": 0,
    "start_time": "2025-01-07T05:42:04.158Z"
   },
   {
    "duration": 0,
    "start_time": "2025-01-07T05:42:04.159Z"
   },
   {
    "duration": 0,
    "start_time": "2025-01-07T05:42:04.160Z"
   },
   {
    "duration": 0,
    "start_time": "2025-01-07T05:42:04.161Z"
   },
   {
    "duration": 0,
    "start_time": "2025-01-07T05:42:04.162Z"
   },
   {
    "duration": 0,
    "start_time": "2025-01-07T05:42:04.163Z"
   },
   {
    "duration": 1,
    "start_time": "2025-01-07T05:42:04.163Z"
   },
   {
    "duration": 0,
    "start_time": "2025-01-07T05:42:04.164Z"
   },
   {
    "duration": 0,
    "start_time": "2025-01-07T05:42:04.165Z"
   },
   {
    "duration": 0,
    "start_time": "2025-01-07T05:42:04.166Z"
   },
   {
    "duration": 0,
    "start_time": "2025-01-07T05:42:04.167Z"
   },
   {
    "duration": 0,
    "start_time": "2025-01-07T05:42:04.170Z"
   },
   {
    "duration": 0,
    "start_time": "2025-01-07T05:42:04.176Z"
   },
   {
    "duration": 0,
    "start_time": "2025-01-07T05:42:04.177Z"
   },
   {
    "duration": 0,
    "start_time": "2025-01-07T05:42:04.179Z"
   },
   {
    "duration": 0,
    "start_time": "2025-01-07T05:42:04.181Z"
   },
   {
    "duration": 0,
    "start_time": "2025-01-07T05:42:04.182Z"
   },
   {
    "duration": 0,
    "start_time": "2025-01-07T05:42:04.184Z"
   },
   {
    "duration": 0,
    "start_time": "2025-01-07T05:42:04.184Z"
   },
   {
    "duration": 0,
    "start_time": "2025-01-07T05:42:04.185Z"
   },
   {
    "duration": 0,
    "start_time": "2025-01-07T05:42:04.186Z"
   },
   {
    "duration": 0,
    "start_time": "2025-01-07T05:42:04.186Z"
   },
   {
    "duration": 330,
    "start_time": "2025-01-07T05:42:26.067Z"
   },
   {
    "duration": 2367,
    "start_time": "2025-01-09T15:11:14.272Z"
   },
   {
    "duration": 354,
    "start_time": "2025-01-09T15:11:26.732Z"
   },
   {
    "duration": 398,
    "start_time": "2025-01-09T15:15:30.095Z"
   },
   {
    "duration": 34,
    "start_time": "2025-01-09T15:15:51.911Z"
   },
   {
    "duration": 13,
    "start_time": "2025-01-09T15:16:00.548Z"
   },
   {
    "duration": 881,
    "start_time": "2025-01-09T15:16:11.351Z"
   },
   {
    "duration": 24,
    "start_time": "2025-01-09T15:16:12.234Z"
   },
   {
    "duration": 12,
    "start_time": "2025-01-09T15:16:12.260Z"
   },
   {
    "duration": 2,
    "start_time": "2025-01-09T15:16:12.288Z"
   },
   {
    "duration": 6,
    "start_time": "2025-01-09T15:16:12.292Z"
   },
   {
    "duration": 13,
    "start_time": "2025-01-09T15:16:12.299Z"
   },
   {
    "duration": 11,
    "start_time": "2025-01-09T15:16:12.314Z"
   },
   {
    "duration": 7,
    "start_time": "2025-01-09T15:16:12.327Z"
   },
   {
    "duration": 10,
    "start_time": "2025-01-09T15:16:12.336Z"
   },
   {
    "duration": 37,
    "start_time": "2025-01-09T15:16:12.349Z"
   },
   {
    "duration": 4,
    "start_time": "2025-01-09T15:16:12.388Z"
   },
   {
    "duration": 11,
    "start_time": "2025-01-09T15:16:12.394Z"
   },
   {
    "duration": 3,
    "start_time": "2025-01-09T15:16:12.407Z"
   },
   {
    "duration": 10,
    "start_time": "2025-01-09T15:16:12.412Z"
   },
   {
    "duration": 6,
    "start_time": "2025-01-09T15:16:12.424Z"
   },
   {
    "duration": 12,
    "start_time": "2025-01-09T15:16:12.431Z"
   },
   {
    "duration": 257,
    "start_time": "2025-01-09T15:16:12.445Z"
   },
   {
    "duration": 19,
    "start_time": "2025-01-09T15:16:12.704Z"
   },
   {
    "duration": 18,
    "start_time": "2025-01-09T15:16:12.725Z"
   },
   {
    "duration": 72,
    "start_time": "2025-01-09T15:16:12.745Z"
   },
   {
    "duration": 11,
    "start_time": "2025-01-09T15:16:12.819Z"
   },
   {
    "duration": 13,
    "start_time": "2025-01-09T15:16:12.831Z"
   },
   {
    "duration": 14,
    "start_time": "2025-01-09T15:16:12.846Z"
   },
   {
    "duration": 32,
    "start_time": "2025-01-09T15:16:12.863Z"
   },
   {
    "duration": 12,
    "start_time": "2025-01-09T15:16:12.896Z"
   },
   {
    "duration": 13,
    "start_time": "2025-01-09T15:16:12.909Z"
   },
   {
    "duration": 5,
    "start_time": "2025-01-09T15:16:12.924Z"
   },
   {
    "duration": 4,
    "start_time": "2025-01-09T15:16:12.934Z"
   },
   {
    "duration": 308,
    "start_time": "2025-01-09T15:16:12.940Z"
   },
   {
    "duration": 0,
    "start_time": "2025-01-09T15:16:13.250Z"
   },
   {
    "duration": 0,
    "start_time": "2025-01-09T15:16:13.251Z"
   },
   {
    "duration": 0,
    "start_time": "2025-01-09T15:16:13.253Z"
   },
   {
    "duration": 0,
    "start_time": "2025-01-09T15:16:13.254Z"
   },
   {
    "duration": 0,
    "start_time": "2025-01-09T15:16:13.256Z"
   },
   {
    "duration": 0,
    "start_time": "2025-01-09T15:16:13.257Z"
   },
   {
    "duration": 0,
    "start_time": "2025-01-09T15:16:13.258Z"
   },
   {
    "duration": 0,
    "start_time": "2025-01-09T15:16:13.260Z"
   },
   {
    "duration": 0,
    "start_time": "2025-01-09T15:16:13.261Z"
   },
   {
    "duration": 0,
    "start_time": "2025-01-09T15:16:13.262Z"
   },
   {
    "duration": 0,
    "start_time": "2025-01-09T15:16:13.287Z"
   },
   {
    "duration": 0,
    "start_time": "2025-01-09T15:16:13.288Z"
   },
   {
    "duration": 0,
    "start_time": "2025-01-09T15:16:13.289Z"
   },
   {
    "duration": 0,
    "start_time": "2025-01-09T15:16:13.291Z"
   },
   {
    "duration": 0,
    "start_time": "2025-01-09T15:16:13.292Z"
   },
   {
    "duration": 0,
    "start_time": "2025-01-09T15:16:13.293Z"
   },
   {
    "duration": 0,
    "start_time": "2025-01-09T15:16:13.295Z"
   },
   {
    "duration": 0,
    "start_time": "2025-01-09T15:16:13.296Z"
   },
   {
    "duration": 0,
    "start_time": "2025-01-09T15:16:13.298Z"
   },
   {
    "duration": 0,
    "start_time": "2025-01-09T15:16:13.299Z"
   },
   {
    "duration": 12,
    "start_time": "2025-01-09T15:17:29.748Z"
   },
   {
    "duration": 16,
    "start_time": "2025-01-09T15:17:37.182Z"
   },
   {
    "duration": 14,
    "start_time": "2025-01-09T15:17:39.659Z"
   },
   {
    "duration": 10,
    "start_time": "2025-01-09T15:17:41.323Z"
   },
   {
    "duration": 15,
    "start_time": "2025-01-09T15:17:41.590Z"
   },
   {
    "duration": 4,
    "start_time": "2025-01-09T15:17:42.702Z"
   },
   {
    "duration": 215,
    "start_time": "2025-01-09T15:33:51.183Z"
   },
   {
    "duration": 467,
    "start_time": "2025-01-09T15:35:29.241Z"
   },
   {
    "duration": 222,
    "start_time": "2025-01-09T15:36:57.105Z"
   },
   {
    "duration": 241,
    "start_time": "2025-01-09T15:37:05.274Z"
   },
   {
    "duration": 654,
    "start_time": "2025-01-09T15:37:15.329Z"
   },
   {
    "duration": 220,
    "start_time": "2025-01-09T15:37:29.002Z"
   },
   {
    "duration": 11,
    "start_time": "2025-01-09T15:38:24.337Z"
   },
   {
    "duration": 852,
    "start_time": "2025-01-09T15:57:41.662Z"
   },
   {
    "duration": 25,
    "start_time": "2025-01-09T15:57:42.516Z"
   },
   {
    "duration": 12,
    "start_time": "2025-01-09T15:57:42.542Z"
   },
   {
    "duration": 3,
    "start_time": "2025-01-09T15:57:42.556Z"
   },
   {
    "duration": 27,
    "start_time": "2025-01-09T15:57:42.561Z"
   },
   {
    "duration": 11,
    "start_time": "2025-01-09T15:57:42.590Z"
   },
   {
    "duration": 14,
    "start_time": "2025-01-09T15:57:42.603Z"
   },
   {
    "duration": 8,
    "start_time": "2025-01-09T15:57:42.619Z"
   },
   {
    "duration": 10,
    "start_time": "2025-01-09T15:57:42.629Z"
   },
   {
    "duration": 45,
    "start_time": "2025-01-09T15:57:42.642Z"
   },
   {
    "duration": 5,
    "start_time": "2025-01-09T15:57:42.689Z"
   },
   {
    "duration": 12,
    "start_time": "2025-01-09T15:57:42.696Z"
   },
   {
    "duration": 4,
    "start_time": "2025-01-09T15:57:42.710Z"
   },
   {
    "duration": 12,
    "start_time": "2025-01-09T15:57:42.719Z"
   },
   {
    "duration": 7,
    "start_time": "2025-01-09T15:57:42.733Z"
   },
   {
    "duration": 53,
    "start_time": "2025-01-09T15:57:42.741Z"
   },
   {
    "duration": 264,
    "start_time": "2025-01-09T15:57:42.795Z"
   },
   {
    "duration": 14,
    "start_time": "2025-01-09T15:57:43.062Z"
   },
   {
    "duration": 16,
    "start_time": "2025-01-09T15:57:43.078Z"
   },
   {
    "duration": 106,
    "start_time": "2025-01-09T15:57:43.096Z"
   },
   {
    "duration": 13,
    "start_time": "2025-01-09T15:57:43.204Z"
   },
   {
    "duration": 12,
    "start_time": "2025-01-09T15:57:43.219Z"
   },
   {
    "duration": 15,
    "start_time": "2025-01-09T15:57:43.233Z"
   },
   {
    "duration": 44,
    "start_time": "2025-01-09T15:57:43.250Z"
   },
   {
    "duration": 11,
    "start_time": "2025-01-09T15:57:43.297Z"
   },
   {
    "duration": 15,
    "start_time": "2025-01-09T15:57:43.310Z"
   },
   {
    "duration": 5,
    "start_time": "2025-01-09T15:57:43.327Z"
   },
   {
    "duration": 4,
    "start_time": "2025-01-09T15:57:43.334Z"
   },
   {
    "duration": 272,
    "start_time": "2025-01-09T15:57:43.340Z"
   },
   {
    "duration": 302,
    "start_time": "2025-01-09T15:57:43.615Z"
   },
   {
    "duration": 4,
    "start_time": "2025-01-09T15:57:43.919Z"
   },
   {
    "duration": 4,
    "start_time": "2025-01-09T15:57:43.926Z"
   },
   {
    "duration": 330,
    "start_time": "2025-01-09T15:57:43.931Z"
   },
   {
    "duration": 313,
    "start_time": "2025-01-09T15:57:44.263Z"
   },
   {
    "duration": 310,
    "start_time": "2025-01-09T15:57:44.579Z"
   },
   {
    "duration": 300,
    "start_time": "2025-01-09T15:57:44.891Z"
   },
   {
    "duration": 11,
    "start_time": "2025-01-09T15:57:45.193Z"
   },
   {
    "duration": 6,
    "start_time": "2025-01-09T15:57:45.206Z"
   },
   {
    "duration": 7,
    "start_time": "2025-01-09T15:57:45.214Z"
   },
   {
    "duration": 5,
    "start_time": "2025-01-09T15:57:45.224Z"
   },
   {
    "duration": 7,
    "start_time": "2025-01-09T15:57:45.235Z"
   },
   {
    "duration": 44,
    "start_time": "2025-01-09T15:57:45.244Z"
   },
   {
    "duration": 7,
    "start_time": "2025-01-09T15:57:45.289Z"
   },
   {
    "duration": 7,
    "start_time": "2025-01-09T15:57:45.298Z"
   },
   {
    "duration": 11,
    "start_time": "2025-01-09T15:57:45.307Z"
   },
   {
    "duration": 5,
    "start_time": "2025-01-09T15:57:45.320Z"
   },
   {
    "duration": 4,
    "start_time": "2025-01-09T15:57:45.328Z"
   },
   {
    "duration": 6,
    "start_time": "2025-01-09T15:57:45.334Z"
   },
   {
    "duration": 46,
    "start_time": "2025-01-09T15:57:45.342Z"
   },
   {
    "duration": 15,
    "start_time": "2025-01-09T16:01:20.910Z"
   },
   {
    "duration": 222,
    "start_time": "2025-01-09T16:03:41.946Z"
   },
   {
    "duration": 373,
    "start_time": "2025-01-09T16:27:41.261Z"
   },
   {
    "duration": 286,
    "start_time": "2025-01-09T16:41:10.622Z"
   },
   {
    "duration": 187,
    "start_time": "2025-01-09T16:41:24.839Z"
   },
   {
    "duration": 8,
    "start_time": "2025-01-09T16:41:42.567Z"
   },
   {
    "duration": 900,
    "start_time": "2025-01-09T16:43:01.114Z"
   },
   {
    "duration": 25,
    "start_time": "2025-01-09T16:43:02.016Z"
   },
   {
    "duration": 11,
    "start_time": "2025-01-09T16:43:02.043Z"
   },
   {
    "duration": 3,
    "start_time": "2025-01-09T16:43:02.056Z"
   },
   {
    "duration": 4,
    "start_time": "2025-01-09T16:43:02.063Z"
   },
   {
    "duration": 27,
    "start_time": "2025-01-09T16:43:02.069Z"
   },
   {
    "duration": 11,
    "start_time": "2025-01-09T16:43:02.098Z"
   },
   {
    "duration": 7,
    "start_time": "2025-01-09T16:43:02.111Z"
   },
   {
    "duration": 9,
    "start_time": "2025-01-09T16:43:02.120Z"
   },
   {
    "duration": 315,
    "start_time": "2025-01-09T16:43:02.131Z"
   },
   {
    "duration": 0,
    "start_time": "2025-01-09T16:43:02.449Z"
   },
   {
    "duration": 0,
    "start_time": "2025-01-09T16:43:02.450Z"
   },
   {
    "duration": 0,
    "start_time": "2025-01-09T16:43:02.451Z"
   },
   {
    "duration": 0,
    "start_time": "2025-01-09T16:43:02.453Z"
   },
   {
    "duration": 0,
    "start_time": "2025-01-09T16:43:02.454Z"
   },
   {
    "duration": 0,
    "start_time": "2025-01-09T16:43:02.455Z"
   },
   {
    "duration": 0,
    "start_time": "2025-01-09T16:43:02.456Z"
   },
   {
    "duration": 0,
    "start_time": "2025-01-09T16:43:02.458Z"
   },
   {
    "duration": 0,
    "start_time": "2025-01-09T16:43:02.460Z"
   },
   {
    "duration": 0,
    "start_time": "2025-01-09T16:43:02.461Z"
   },
   {
    "duration": 0,
    "start_time": "2025-01-09T16:43:02.462Z"
   },
   {
    "duration": 0,
    "start_time": "2025-01-09T16:43:02.463Z"
   },
   {
    "duration": 0,
    "start_time": "2025-01-09T16:43:02.464Z"
   },
   {
    "duration": 0,
    "start_time": "2025-01-09T16:43:02.465Z"
   },
   {
    "duration": 0,
    "start_time": "2025-01-09T16:43:02.486Z"
   },
   {
    "duration": 0,
    "start_time": "2025-01-09T16:43:02.488Z"
   },
   {
    "duration": 0,
    "start_time": "2025-01-09T16:43:02.489Z"
   },
   {
    "duration": 0,
    "start_time": "2025-01-09T16:43:02.491Z"
   },
   {
    "duration": 0,
    "start_time": "2025-01-09T16:43:02.492Z"
   },
   {
    "duration": 0,
    "start_time": "2025-01-09T16:43:02.493Z"
   },
   {
    "duration": 0,
    "start_time": "2025-01-09T16:43:02.494Z"
   },
   {
    "duration": 0,
    "start_time": "2025-01-09T16:43:02.494Z"
   },
   {
    "duration": 1,
    "start_time": "2025-01-09T16:43:02.496Z"
   },
   {
    "duration": 0,
    "start_time": "2025-01-09T16:43:02.500Z"
   },
   {
    "duration": 0,
    "start_time": "2025-01-09T16:43:02.501Z"
   },
   {
    "duration": 0,
    "start_time": "2025-01-09T16:43:02.502Z"
   },
   {
    "duration": 0,
    "start_time": "2025-01-09T16:43:02.503Z"
   },
   {
    "duration": 0,
    "start_time": "2025-01-09T16:43:02.504Z"
   },
   {
    "duration": 0,
    "start_time": "2025-01-09T16:43:02.505Z"
   },
   {
    "duration": 0,
    "start_time": "2025-01-09T16:43:02.506Z"
   },
   {
    "duration": 0,
    "start_time": "2025-01-09T16:43:02.508Z"
   },
   {
    "duration": 0,
    "start_time": "2025-01-09T16:43:02.510Z"
   },
   {
    "duration": 0,
    "start_time": "2025-01-09T16:43:02.511Z"
   },
   {
    "duration": 1,
    "start_time": "2025-01-09T16:43:02.512Z"
   },
   {
    "duration": 0,
    "start_time": "2025-01-09T16:43:02.513Z"
   },
   {
    "duration": 0,
    "start_time": "2025-01-09T16:43:02.514Z"
   },
   {
    "duration": 0,
    "start_time": "2025-01-09T16:43:02.516Z"
   },
   {
    "duration": 0,
    "start_time": "2025-01-09T16:43:02.517Z"
   },
   {
    "duration": 0,
    "start_time": "2025-01-09T16:43:02.518Z"
   },
   {
    "duration": 0,
    "start_time": "2025-01-09T16:43:02.519Z"
   },
   {
    "duration": 0,
    "start_time": "2025-01-09T16:43:02.520Z"
   },
   {
    "duration": 7,
    "start_time": "2025-01-09T16:43:16.488Z"
   },
   {
    "duration": 21,
    "start_time": "2025-01-09T16:43:17.851Z"
   },
   {
    "duration": 4,
    "start_time": "2025-01-09T16:43:24.817Z"
   },
   {
    "duration": 9,
    "start_time": "2025-01-09T16:43:32.656Z"
   },
   {
    "duration": 864,
    "start_time": "2025-01-09T16:43:39.418Z"
   },
   {
    "duration": 24,
    "start_time": "2025-01-09T16:43:40.286Z"
   },
   {
    "duration": 12,
    "start_time": "2025-01-09T16:43:40.314Z"
   },
   {
    "duration": 3,
    "start_time": "2025-01-09T16:43:40.327Z"
   },
   {
    "duration": 6,
    "start_time": "2025-01-09T16:43:40.331Z"
   },
   {
    "duration": 11,
    "start_time": "2025-01-09T16:43:40.338Z"
   },
   {
    "duration": 41,
    "start_time": "2025-01-09T16:43:40.351Z"
   },
   {
    "duration": 7,
    "start_time": "2025-01-09T16:43:40.394Z"
   },
   {
    "duration": 10,
    "start_time": "2025-01-09T16:43:40.405Z"
   },
   {
    "duration": 8,
    "start_time": "2025-01-09T16:43:40.416Z"
   },
   {
    "duration": 4,
    "start_time": "2025-01-09T16:43:40.425Z"
   },
   {
    "duration": 11,
    "start_time": "2025-01-09T16:43:40.431Z"
   },
   {
    "duration": 43,
    "start_time": "2025-01-09T16:43:40.444Z"
   },
   {
    "duration": 11,
    "start_time": "2025-01-09T16:43:40.489Z"
   },
   {
    "duration": 9,
    "start_time": "2025-01-09T16:43:40.501Z"
   },
   {
    "duration": 6,
    "start_time": "2025-01-09T16:43:40.511Z"
   },
   {
    "duration": 445,
    "start_time": "2025-01-09T16:43:40.518Z"
   },
   {
    "duration": 13,
    "start_time": "2025-01-09T16:43:40.965Z"
   },
   {
    "duration": 260,
    "start_time": "2025-01-09T16:43:40.979Z"
   },
   {
    "duration": 15,
    "start_time": "2025-01-09T16:43:41.242Z"
   },
   {
    "duration": 38,
    "start_time": "2025-01-09T16:43:41.260Z"
   },
   {
    "duration": 12,
    "start_time": "2025-01-09T16:43:41.299Z"
   },
   {
    "duration": 10,
    "start_time": "2025-01-09T16:43:41.313Z"
   },
   {
    "duration": 12,
    "start_time": "2025-01-09T16:43:41.324Z"
   },
   {
    "duration": 14,
    "start_time": "2025-01-09T16:43:41.338Z"
   },
   {
    "duration": 44,
    "start_time": "2025-01-09T16:43:41.354Z"
   },
   {
    "duration": 9,
    "start_time": "2025-01-09T16:43:41.403Z"
   },
   {
    "duration": 14,
    "start_time": "2025-01-09T16:43:41.414Z"
   },
   {
    "duration": 5,
    "start_time": "2025-01-09T16:43:41.430Z"
   },
   {
    "duration": 4,
    "start_time": "2025-01-09T16:43:41.437Z"
   },
   {
    "duration": 258,
    "start_time": "2025-01-09T16:43:41.443Z"
   },
   {
    "duration": 307,
    "start_time": "2025-01-09T16:43:41.703Z"
   },
   {
    "duration": 5,
    "start_time": "2025-01-09T16:43:42.011Z"
   },
   {
    "duration": 4,
    "start_time": "2025-01-09T16:43:42.018Z"
   },
   {
    "duration": 312,
    "start_time": "2025-01-09T16:43:42.023Z"
   },
   {
    "duration": 326,
    "start_time": "2025-01-09T16:43:42.338Z"
   },
   {
    "duration": 319,
    "start_time": "2025-01-09T16:43:42.668Z"
   },
   {
    "duration": 302,
    "start_time": "2025-01-09T16:43:42.990Z"
   },
   {
    "duration": 15,
    "start_time": "2025-01-09T16:43:43.294Z"
   },
   {
    "duration": 8,
    "start_time": "2025-01-09T16:43:43.312Z"
   },
   {
    "duration": 7,
    "start_time": "2025-01-09T16:43:43.321Z"
   },
   {
    "duration": 7,
    "start_time": "2025-01-09T16:43:43.329Z"
   },
   {
    "duration": 6,
    "start_time": "2025-01-09T16:43:43.338Z"
   },
   {
    "duration": 42,
    "start_time": "2025-01-09T16:43:43.346Z"
   },
   {
    "duration": 9,
    "start_time": "2025-01-09T16:43:43.390Z"
   },
   {
    "duration": 6,
    "start_time": "2025-01-09T16:43:43.401Z"
   },
   {
    "duration": 11,
    "start_time": "2025-01-09T16:43:43.409Z"
   },
   {
    "duration": 6,
    "start_time": "2025-01-09T16:43:43.422Z"
   },
   {
    "duration": 6,
    "start_time": "2025-01-09T16:43:43.429Z"
   },
   {
    "duration": 6,
    "start_time": "2025-01-09T16:43:43.437Z"
   },
   {
    "duration": 4,
    "start_time": "2025-01-09T16:43:43.445Z"
   },
   {
    "duration": 886,
    "start_time": "2025-01-09T16:47:47.182Z"
   },
   {
    "duration": 29,
    "start_time": "2025-01-09T16:47:48.070Z"
   },
   {
    "duration": 11,
    "start_time": "2025-01-09T16:47:48.100Z"
   },
   {
    "duration": 2,
    "start_time": "2025-01-09T16:47:48.113Z"
   },
   {
    "duration": 5,
    "start_time": "2025-01-09T16:47:48.119Z"
   },
   {
    "duration": 12,
    "start_time": "2025-01-09T16:47:48.126Z"
   },
   {
    "duration": 13,
    "start_time": "2025-01-09T16:47:48.142Z"
   },
   {
    "duration": 35,
    "start_time": "2025-01-09T16:47:48.156Z"
   },
   {
    "duration": 9,
    "start_time": "2025-01-09T16:47:48.192Z"
   },
   {
    "duration": 7,
    "start_time": "2025-01-09T16:47:48.203Z"
   },
   {
    "duration": 3,
    "start_time": "2025-01-09T16:47:48.212Z"
   },
   {
    "duration": 10,
    "start_time": "2025-01-09T16:47:48.217Z"
   },
   {
    "duration": 4,
    "start_time": "2025-01-09T16:47:48.229Z"
   },
   {
    "duration": 11,
    "start_time": "2025-01-09T16:47:48.237Z"
   },
   {
    "duration": 9,
    "start_time": "2025-01-09T16:47:48.286Z"
   },
   {
    "duration": 6,
    "start_time": "2025-01-09T16:47:48.298Z"
   },
   {
    "duration": 441,
    "start_time": "2025-01-09T16:47:48.306Z"
   },
   {
    "duration": 14,
    "start_time": "2025-01-09T16:47:48.750Z"
   },
   {
    "duration": 275,
    "start_time": "2025-01-09T16:47:48.765Z"
   },
   {
    "duration": 14,
    "start_time": "2025-01-09T16:47:49.041Z"
   },
   {
    "duration": 15,
    "start_time": "2025-01-09T16:47:49.056Z"
   },
   {
    "duration": 11,
    "start_time": "2025-01-09T16:47:49.087Z"
   },
   {
    "duration": 10,
    "start_time": "2025-01-09T16:47:49.099Z"
   },
   {
    "duration": 12,
    "start_time": "2025-01-09T16:47:49.110Z"
   },
   {
    "duration": 13,
    "start_time": "2025-01-09T16:47:49.123Z"
   },
   {
    "duration": 13,
    "start_time": "2025-01-09T16:47:49.138Z"
   },
   {
    "duration": 41,
    "start_time": "2025-01-09T16:47:49.153Z"
   },
   {
    "duration": 15,
    "start_time": "2025-01-09T16:47:49.196Z"
   },
   {
    "duration": 4,
    "start_time": "2025-01-09T16:47:49.213Z"
   },
   {
    "duration": 3,
    "start_time": "2025-01-09T16:47:49.219Z"
   },
   {
    "duration": 236,
    "start_time": "2025-01-09T16:47:49.224Z"
   },
   {
    "duration": 329,
    "start_time": "2025-01-09T16:47:49.461Z"
   },
   {
    "duration": 5,
    "start_time": "2025-01-09T16:47:49.792Z"
   },
   {
    "duration": 4,
    "start_time": "2025-01-09T16:47:49.799Z"
   },
   {
    "duration": 300,
    "start_time": "2025-01-09T16:47:49.805Z"
   },
   {
    "duration": 295,
    "start_time": "2025-01-09T16:47:50.106Z"
   },
   {
    "duration": 283,
    "start_time": "2025-01-09T16:47:50.403Z"
   },
   {
    "duration": 298,
    "start_time": "2025-01-09T16:47:50.688Z"
   },
   {
    "duration": 10,
    "start_time": "2025-01-09T16:47:50.988Z"
   },
   {
    "duration": 6,
    "start_time": "2025-01-09T16:47:50.999Z"
   },
   {
    "duration": 5,
    "start_time": "2025-01-09T16:47:51.009Z"
   },
   {
    "duration": 5,
    "start_time": "2025-01-09T16:47:51.016Z"
   },
   {
    "duration": 5,
    "start_time": "2025-01-09T16:47:51.023Z"
   },
   {
    "duration": 5,
    "start_time": "2025-01-09T16:47:51.030Z"
   },
   {
    "duration": 6,
    "start_time": "2025-01-09T16:47:51.036Z"
   },
   {
    "duration": 47,
    "start_time": "2025-01-09T16:47:51.043Z"
   },
   {
    "duration": 9,
    "start_time": "2025-01-09T16:47:51.091Z"
   },
   {
    "duration": 5,
    "start_time": "2025-01-09T16:47:51.102Z"
   },
   {
    "duration": 5,
    "start_time": "2025-01-09T16:47:51.109Z"
   },
   {
    "duration": 5,
    "start_time": "2025-01-09T16:47:51.116Z"
   },
   {
    "duration": 4,
    "start_time": "2025-01-09T16:47:51.123Z"
   },
   {
    "duration": 228,
    "start_time": "2025-01-09T16:48:57.857Z"
   },
   {
    "duration": 290,
    "start_time": "2025-01-09T16:53:30.512Z"
   },
   {
    "duration": 13,
    "start_time": "2025-01-09T16:54:15.774Z"
   },
   {
    "duration": 454,
    "start_time": "2025-01-09T16:54:23.128Z"
   },
   {
    "duration": 6,
    "start_time": "2025-01-09T16:54:33.580Z"
   },
   {
    "duration": 7,
    "start_time": "2025-01-09T16:54:44.330Z"
   },
   {
    "duration": 192,
    "start_time": "2025-01-09T16:54:45.266Z"
   },
   {
    "duration": 7,
    "start_time": "2025-01-09T16:55:30.341Z"
   },
   {
    "duration": 13,
    "start_time": "2025-01-09T16:55:30.870Z"
   },
   {
    "duration": 198,
    "start_time": "2025-01-09T16:55:32.776Z"
   },
   {
    "duration": 847,
    "start_time": "2025-01-09T16:59:31.645Z"
   },
   {
    "duration": 24,
    "start_time": "2025-01-09T16:59:32.495Z"
   },
   {
    "duration": 11,
    "start_time": "2025-01-09T16:59:32.523Z"
   },
   {
    "duration": 2,
    "start_time": "2025-01-09T16:59:32.538Z"
   },
   {
    "duration": 6,
    "start_time": "2025-01-09T16:59:32.542Z"
   },
   {
    "duration": 11,
    "start_time": "2025-01-09T16:59:32.550Z"
   },
   {
    "duration": 12,
    "start_time": "2025-01-09T16:59:32.586Z"
   },
   {
    "duration": 8,
    "start_time": "2025-01-09T16:59:32.599Z"
   },
   {
    "duration": 9,
    "start_time": "2025-01-09T16:59:32.608Z"
   },
   {
    "duration": 7,
    "start_time": "2025-01-09T16:59:32.619Z"
   },
   {
    "duration": 4,
    "start_time": "2025-01-09T16:59:32.627Z"
   },
   {
    "duration": 10,
    "start_time": "2025-01-09T16:59:32.633Z"
   },
   {
    "duration": 3,
    "start_time": "2025-01-09T16:59:32.645Z"
   },
   {
    "duration": 48,
    "start_time": "2025-01-09T16:59:32.649Z"
   },
   {
    "duration": 7,
    "start_time": "2025-01-09T16:59:32.699Z"
   },
   {
    "duration": 5,
    "start_time": "2025-01-09T16:59:32.708Z"
   },
   {
    "duration": 452,
    "start_time": "2025-01-09T16:59:32.715Z"
   },
   {
    "duration": 8,
    "start_time": "2025-01-09T16:59:33.169Z"
   },
   {
    "duration": 15,
    "start_time": "2025-01-09T16:59:33.178Z"
   },
   {
    "duration": 259,
    "start_time": "2025-01-09T16:59:33.195Z"
   },
   {
    "duration": 15,
    "start_time": "2025-01-09T16:59:33.456Z"
   },
   {
    "duration": 28,
    "start_time": "2025-01-09T16:59:33.473Z"
   },
   {
    "duration": 11,
    "start_time": "2025-01-09T16:59:33.503Z"
   },
   {
    "duration": 9,
    "start_time": "2025-01-09T16:59:33.515Z"
   },
   {
    "duration": 11,
    "start_time": "2025-01-09T16:59:33.526Z"
   },
   {
    "duration": 14,
    "start_time": "2025-01-09T16:59:33.539Z"
   },
   {
    "duration": 48,
    "start_time": "2025-01-09T16:59:33.554Z"
   },
   {
    "duration": 12,
    "start_time": "2025-01-09T16:59:33.607Z"
   },
   {
    "duration": 15,
    "start_time": "2025-01-09T16:59:33.621Z"
   },
   {
    "duration": 5,
    "start_time": "2025-01-09T16:59:33.637Z"
   },
   {
    "duration": 4,
    "start_time": "2025-01-09T16:59:33.643Z"
   },
   {
    "duration": 258,
    "start_time": "2025-01-09T16:59:33.648Z"
   },
   {
    "duration": 296,
    "start_time": "2025-01-09T16:59:33.908Z"
   },
   {
    "duration": 4,
    "start_time": "2025-01-09T16:59:34.207Z"
   },
   {
    "duration": 3,
    "start_time": "2025-01-09T16:59:34.213Z"
   },
   {
    "duration": 291,
    "start_time": "2025-01-09T16:59:34.218Z"
   },
   {
    "duration": 286,
    "start_time": "2025-01-09T16:59:34.511Z"
   },
   {
    "duration": 279,
    "start_time": "2025-01-09T16:59:34.799Z"
   },
   {
    "duration": 307,
    "start_time": "2025-01-09T16:59:35.080Z"
   },
   {
    "duration": 10,
    "start_time": "2025-01-09T16:59:35.388Z"
   },
   {
    "duration": 6,
    "start_time": "2025-01-09T16:59:35.400Z"
   },
   {
    "duration": 6,
    "start_time": "2025-01-09T16:59:35.408Z"
   },
   {
    "duration": 6,
    "start_time": "2025-01-09T16:59:35.415Z"
   },
   {
    "duration": 6,
    "start_time": "2025-01-09T16:59:35.423Z"
   },
   {
    "duration": 6,
    "start_time": "2025-01-09T16:59:35.430Z"
   },
   {
    "duration": 49,
    "start_time": "2025-01-09T16:59:35.438Z"
   },
   {
    "duration": 5,
    "start_time": "2025-01-09T16:59:35.489Z"
   },
   {
    "duration": 9,
    "start_time": "2025-01-09T16:59:35.496Z"
   },
   {
    "duration": 5,
    "start_time": "2025-01-09T16:59:35.506Z"
   },
   {
    "duration": 3,
    "start_time": "2025-01-09T16:59:35.513Z"
   },
   {
    "duration": 5,
    "start_time": "2025-01-09T16:59:35.518Z"
   },
   {
    "duration": 4,
    "start_time": "2025-01-09T16:59:35.524Z"
   },
   {
    "duration": 861,
    "start_time": "2025-01-09T17:18:38.319Z"
   },
   {
    "duration": 26,
    "start_time": "2025-01-09T17:18:39.183Z"
   },
   {
    "duration": 11,
    "start_time": "2025-01-09T17:18:39.211Z"
   },
   {
    "duration": 3,
    "start_time": "2025-01-09T17:18:39.223Z"
   },
   {
    "duration": 5,
    "start_time": "2025-01-09T17:18:39.229Z"
   },
   {
    "duration": 12,
    "start_time": "2025-01-09T17:18:39.236Z"
   },
   {
    "duration": 36,
    "start_time": "2025-01-09T17:18:39.250Z"
   },
   {
    "duration": 9,
    "start_time": "2025-01-09T17:18:39.288Z"
   },
   {
    "duration": 12,
    "start_time": "2025-01-09T17:18:39.299Z"
   },
   {
    "duration": 9,
    "start_time": "2025-01-09T17:18:39.312Z"
   },
   {
    "duration": 6,
    "start_time": "2025-01-09T17:18:39.323Z"
   },
   {
    "duration": 12,
    "start_time": "2025-01-09T17:18:39.332Z"
   },
   {
    "duration": 4,
    "start_time": "2025-01-09T17:18:39.345Z"
   },
   {
    "duration": 42,
    "start_time": "2025-01-09T17:18:39.353Z"
   },
   {
    "duration": 10,
    "start_time": "2025-01-09T17:18:39.396Z"
   },
   {
    "duration": 6,
    "start_time": "2025-01-09T17:18:39.409Z"
   },
   {
    "duration": 430,
    "start_time": "2025-01-09T17:18:39.417Z"
   },
   {
    "duration": 7,
    "start_time": "2025-01-09T17:18:39.849Z"
   },
   {
    "duration": 14,
    "start_time": "2025-01-09T17:18:39.859Z"
   },
   {
    "duration": 280,
    "start_time": "2025-01-09T17:18:39.876Z"
   },
   {
    "duration": 14,
    "start_time": "2025-01-09T17:18:40.159Z"
   },
   {
    "duration": 15,
    "start_time": "2025-01-09T17:18:40.187Z"
   },
   {
    "duration": 11,
    "start_time": "2025-01-09T17:18:40.204Z"
   },
   {
    "duration": 10,
    "start_time": "2025-01-09T17:18:40.217Z"
   },
   {
    "duration": 12,
    "start_time": "2025-01-09T17:18:40.228Z"
   },
   {
    "duration": 48,
    "start_time": "2025-01-09T17:18:40.242Z"
   },
   {
    "duration": 13,
    "start_time": "2025-01-09T17:18:40.293Z"
   },
   {
    "duration": 11,
    "start_time": "2025-01-09T17:18:40.308Z"
   },
   {
    "duration": 20,
    "start_time": "2025-01-09T17:18:40.321Z"
   },
   {
    "duration": 7,
    "start_time": "2025-01-09T17:18:40.342Z"
   },
   {
    "duration": 5,
    "start_time": "2025-01-09T17:18:40.350Z"
   },
   {
    "duration": 230,
    "start_time": "2025-01-09T17:18:40.386Z"
   },
   {
    "duration": 305,
    "start_time": "2025-01-09T17:18:40.618Z"
   },
   {
    "duration": 6,
    "start_time": "2025-01-09T17:18:40.926Z"
   },
   {
    "duration": 3,
    "start_time": "2025-01-09T17:18:40.933Z"
   },
   {
    "duration": 315,
    "start_time": "2025-01-09T17:18:40.938Z"
   },
   {
    "duration": 333,
    "start_time": "2025-01-09T17:18:41.255Z"
   },
   {
    "duration": 296,
    "start_time": "2025-01-09T17:18:41.590Z"
   },
   {
    "duration": 311,
    "start_time": "2025-01-09T17:18:41.888Z"
   },
   {
    "duration": 12,
    "start_time": "2025-01-09T17:18:42.201Z"
   },
   {
    "duration": 9,
    "start_time": "2025-01-09T17:18:42.218Z"
   },
   {
    "duration": 5,
    "start_time": "2025-01-09T17:18:42.229Z"
   },
   {
    "duration": 6,
    "start_time": "2025-01-09T17:18:42.237Z"
   },
   {
    "duration": 6,
    "start_time": "2025-01-09T17:18:42.245Z"
   },
   {
    "duration": 38,
    "start_time": "2025-01-09T17:18:42.252Z"
   },
   {
    "duration": 6,
    "start_time": "2025-01-09T17:18:42.292Z"
   },
   {
    "duration": 5,
    "start_time": "2025-01-09T17:18:42.299Z"
   },
   {
    "duration": 9,
    "start_time": "2025-01-09T17:18:42.306Z"
   },
   {
    "duration": 5,
    "start_time": "2025-01-09T17:18:42.316Z"
   },
   {
    "duration": 4,
    "start_time": "2025-01-09T17:18:42.323Z"
   },
   {
    "duration": 5,
    "start_time": "2025-01-09T17:18:42.329Z"
   },
   {
    "duration": 4,
    "start_time": "2025-01-09T17:18:42.336Z"
   },
   {
    "duration": 308,
    "start_time": "2025-01-09T17:21:43.126Z"
   },
   {
    "duration": 292,
    "start_time": "2025-01-09T17:21:55.369Z"
   },
   {
    "duration": 11,
    "start_time": "2025-01-09T17:22:27.126Z"
   },
   {
    "duration": 10,
    "start_time": "2025-01-09T17:25:23.063Z"
   },
   {
    "duration": 11,
    "start_time": "2025-01-09T17:26:58.736Z"
   },
   {
    "duration": 8,
    "start_time": "2025-01-09T17:27:01.031Z"
   },
   {
    "duration": 7,
    "start_time": "2025-01-09T17:36:21.996Z"
   },
   {
    "duration": 13,
    "start_time": "2025-01-09T17:36:34.769Z"
   },
   {
    "duration": 293,
    "start_time": "2025-01-09T17:39:19.387Z"
   },
   {
    "duration": 56,
    "start_time": "2025-01-09T17:39:58.005Z"
   },
   {
    "duration": 14,
    "start_time": "2025-01-09T17:40:38.812Z"
   },
   {
    "duration": 16,
    "start_time": "2025-01-09T17:40:59.141Z"
   },
   {
    "duration": 15,
    "start_time": "2025-01-09T17:41:08.911Z"
   },
   {
    "duration": 16,
    "start_time": "2025-01-09T17:41:13.534Z"
   },
   {
    "duration": 12,
    "start_time": "2025-01-09T17:41:23.772Z"
   },
   {
    "duration": 16,
    "start_time": "2025-01-09T17:41:46.319Z"
   },
   {
    "duration": 12,
    "start_time": "2025-01-09T17:41:48.513Z"
   },
   {
    "duration": 962,
    "start_time": "2025-01-09T19:47:12.053Z"
   },
   {
    "duration": 32,
    "start_time": "2025-01-09T19:47:13.017Z"
   },
   {
    "duration": 11,
    "start_time": "2025-01-09T19:47:13.051Z"
   },
   {
    "duration": 3,
    "start_time": "2025-01-09T19:47:13.064Z"
   },
   {
    "duration": 4,
    "start_time": "2025-01-09T19:47:13.071Z"
   },
   {
    "duration": 12,
    "start_time": "2025-01-09T19:47:13.077Z"
   },
   {
    "duration": 14,
    "start_time": "2025-01-09T19:47:13.091Z"
   },
   {
    "duration": 28,
    "start_time": "2025-01-09T19:47:13.106Z"
   },
   {
    "duration": 9,
    "start_time": "2025-01-09T19:47:13.136Z"
   },
   {
    "duration": 8,
    "start_time": "2025-01-09T19:47:13.147Z"
   },
   {
    "duration": 4,
    "start_time": "2025-01-09T19:47:13.156Z"
   },
   {
    "duration": 11,
    "start_time": "2025-01-09T19:47:13.163Z"
   },
   {
    "duration": 4,
    "start_time": "2025-01-09T19:47:13.176Z"
   },
   {
    "duration": 47,
    "start_time": "2025-01-09T19:47:13.185Z"
   },
   {
    "duration": 9,
    "start_time": "2025-01-09T19:47:13.234Z"
   },
   {
    "duration": 6,
    "start_time": "2025-01-09T19:47:13.245Z"
   },
   {
    "duration": 444,
    "start_time": "2025-01-09T19:47:13.252Z"
   },
   {
    "duration": 7,
    "start_time": "2025-01-09T19:47:13.698Z"
   },
   {
    "duration": 14,
    "start_time": "2025-01-09T19:47:13.707Z"
   },
   {
    "duration": 252,
    "start_time": "2025-01-09T19:47:13.724Z"
   },
   {
    "duration": 18,
    "start_time": "2025-01-09T19:47:13.980Z"
   },
   {
    "duration": 256,
    "start_time": "2025-01-09T19:47:14.000Z"
   },
   {
    "duration": 0,
    "start_time": "2025-01-09T19:47:14.259Z"
   },
   {
    "duration": 0,
    "start_time": "2025-01-09T19:47:14.260Z"
   },
   {
    "duration": 0,
    "start_time": "2025-01-09T19:47:14.261Z"
   },
   {
    "duration": 0,
    "start_time": "2025-01-09T19:47:14.263Z"
   },
   {
    "duration": 0,
    "start_time": "2025-01-09T19:47:14.264Z"
   },
   {
    "duration": 0,
    "start_time": "2025-01-09T19:47:14.265Z"
   },
   {
    "duration": 0,
    "start_time": "2025-01-09T19:47:14.267Z"
   },
   {
    "duration": 0,
    "start_time": "2025-01-09T19:47:14.268Z"
   },
   {
    "duration": 0,
    "start_time": "2025-01-09T19:47:14.269Z"
   },
   {
    "duration": 0,
    "start_time": "2025-01-09T19:47:14.270Z"
   },
   {
    "duration": 0,
    "start_time": "2025-01-09T19:47:14.271Z"
   },
   {
    "duration": 0,
    "start_time": "2025-01-09T19:47:14.273Z"
   },
   {
    "duration": 0,
    "start_time": "2025-01-09T19:47:14.274Z"
   },
   {
    "duration": 0,
    "start_time": "2025-01-09T19:47:14.275Z"
   },
   {
    "duration": 0,
    "start_time": "2025-01-09T19:47:14.279Z"
   },
   {
    "duration": 0,
    "start_time": "2025-01-09T19:47:14.280Z"
   },
   {
    "duration": 0,
    "start_time": "2025-01-09T19:47:14.281Z"
   },
   {
    "duration": 0,
    "start_time": "2025-01-09T19:47:14.282Z"
   },
   {
    "duration": 0,
    "start_time": "2025-01-09T19:47:14.284Z"
   },
   {
    "duration": 0,
    "start_time": "2025-01-09T19:47:14.285Z"
   },
   {
    "duration": 0,
    "start_time": "2025-01-09T19:47:14.287Z"
   },
   {
    "duration": 0,
    "start_time": "2025-01-09T19:47:14.288Z"
   },
   {
    "duration": 0,
    "start_time": "2025-01-09T19:47:14.289Z"
   },
   {
    "duration": 0,
    "start_time": "2025-01-09T19:47:14.291Z"
   },
   {
    "duration": 1,
    "start_time": "2025-01-09T19:47:14.291Z"
   },
   {
    "duration": 0,
    "start_time": "2025-01-09T19:47:14.292Z"
   },
   {
    "duration": 0,
    "start_time": "2025-01-09T19:47:14.293Z"
   },
   {
    "duration": 0,
    "start_time": "2025-01-09T19:47:14.330Z"
   },
   {
    "duration": 0,
    "start_time": "2025-01-09T19:47:14.332Z"
   },
   {
    "duration": 0,
    "start_time": "2025-01-09T19:47:14.333Z"
   },
   {
    "duration": 6,
    "start_time": "2025-01-09T19:51:55.916Z"
   },
   {
    "duration": 3,
    "start_time": "2025-01-09T20:07:07.121Z"
   },
   {
    "duration": 34,
    "start_time": "2025-01-09T20:07:07.126Z"
   },
   {
    "duration": 12,
    "start_time": "2025-01-09T20:07:07.164Z"
   },
   {
    "duration": 3,
    "start_time": "2025-01-09T20:07:07.178Z"
   },
   {
    "duration": 3,
    "start_time": "2025-01-09T20:07:07.183Z"
   },
   {
    "duration": 12,
    "start_time": "2025-01-09T20:07:07.188Z"
   },
   {
    "duration": 40,
    "start_time": "2025-01-09T20:07:07.202Z"
   },
   {
    "duration": 10,
    "start_time": "2025-01-09T20:07:07.244Z"
   },
   {
    "duration": 11,
    "start_time": "2025-01-09T20:07:07.256Z"
   },
   {
    "duration": 7,
    "start_time": "2025-01-09T20:07:07.270Z"
   },
   {
    "duration": 4,
    "start_time": "2025-01-09T20:07:07.280Z"
   },
   {
    "duration": 12,
    "start_time": "2025-01-09T20:07:07.286Z"
   },
   {
    "duration": 32,
    "start_time": "2025-01-09T20:07:07.299Z"
   },
   {
    "duration": 12,
    "start_time": "2025-01-09T20:07:07.333Z"
   },
   {
    "duration": 9,
    "start_time": "2025-01-09T20:07:07.347Z"
   },
   {
    "duration": 9,
    "start_time": "2025-01-09T20:07:07.357Z"
   },
   {
    "duration": 447,
    "start_time": "2025-01-09T20:07:07.369Z"
   },
   {
    "duration": 14,
    "start_time": "2025-01-09T20:07:07.817Z"
   },
   {
    "duration": 15,
    "start_time": "2025-01-09T20:07:07.834Z"
   },
   {
    "duration": 266,
    "start_time": "2025-01-09T20:07:07.851Z"
   },
   {
    "duration": 31,
    "start_time": "2025-01-09T20:07:08.120Z"
   },
   {
    "duration": 36,
    "start_time": "2025-01-09T20:07:08.154Z"
   },
   {
    "duration": 0,
    "start_time": "2025-01-09T20:07:08.192Z"
   },
   {
    "duration": 0,
    "start_time": "2025-01-09T20:07:08.193Z"
   },
   {
    "duration": 0,
    "start_time": "2025-01-09T20:07:08.195Z"
   },
   {
    "duration": 0,
    "start_time": "2025-01-09T20:07:08.196Z"
   },
   {
    "duration": 0,
    "start_time": "2025-01-09T20:07:08.197Z"
   },
   {
    "duration": 0,
    "start_time": "2025-01-09T20:07:08.198Z"
   },
   {
    "duration": 0,
    "start_time": "2025-01-09T20:07:08.200Z"
   },
   {
    "duration": 0,
    "start_time": "2025-01-09T20:07:08.200Z"
   },
   {
    "duration": 0,
    "start_time": "2025-01-09T20:07:08.202Z"
   },
   {
    "duration": 0,
    "start_time": "2025-01-09T20:07:08.203Z"
   },
   {
    "duration": 0,
    "start_time": "2025-01-09T20:07:08.204Z"
   },
   {
    "duration": 0,
    "start_time": "2025-01-09T20:07:08.206Z"
   },
   {
    "duration": 0,
    "start_time": "2025-01-09T20:07:08.207Z"
   },
   {
    "duration": 0,
    "start_time": "2025-01-09T20:07:08.208Z"
   },
   {
    "duration": 0,
    "start_time": "2025-01-09T20:07:08.210Z"
   },
   {
    "duration": 1,
    "start_time": "2025-01-09T20:07:08.210Z"
   },
   {
    "duration": 0,
    "start_time": "2025-01-09T20:07:08.212Z"
   },
   {
    "duration": 0,
    "start_time": "2025-01-09T20:07:08.213Z"
   },
   {
    "duration": 0,
    "start_time": "2025-01-09T20:07:08.214Z"
   },
   {
    "duration": 0,
    "start_time": "2025-01-09T20:07:08.231Z"
   },
   {
    "duration": 0,
    "start_time": "2025-01-09T20:07:08.232Z"
   },
   {
    "duration": 0,
    "start_time": "2025-01-09T20:07:08.233Z"
   },
   {
    "duration": 0,
    "start_time": "2025-01-09T20:07:08.234Z"
   },
   {
    "duration": 0,
    "start_time": "2025-01-09T20:07:08.235Z"
   },
   {
    "duration": 0,
    "start_time": "2025-01-09T20:07:08.236Z"
   },
   {
    "duration": 0,
    "start_time": "2025-01-09T20:07:08.237Z"
   },
   {
    "duration": 0,
    "start_time": "2025-01-09T20:07:08.238Z"
   },
   {
    "duration": 0,
    "start_time": "2025-01-09T20:07:08.239Z"
   },
   {
    "duration": 0,
    "start_time": "2025-01-09T20:07:08.240Z"
   },
   {
    "duration": 0,
    "start_time": "2025-01-09T20:07:08.241Z"
   },
   {
    "duration": 22,
    "start_time": "2025-01-09T20:07:41.800Z"
   },
   {
    "duration": 12,
    "start_time": "2025-01-09T20:07:41.824Z"
   },
   {
    "duration": 14,
    "start_time": "2025-01-09T20:07:41.837Z"
   },
   {
    "duration": 17,
    "start_time": "2025-01-09T20:07:41.852Z"
   },
   {
    "duration": 14,
    "start_time": "2025-01-09T20:07:41.872Z"
   },
   {
    "duration": 11,
    "start_time": "2025-01-09T20:07:41.888Z"
   },
   {
    "duration": 42,
    "start_time": "2025-01-09T20:07:41.901Z"
   },
   {
    "duration": 9,
    "start_time": "2025-01-09T20:07:41.945Z"
   },
   {
    "duration": 5,
    "start_time": "2025-01-09T20:07:41.958Z"
   },
   {
    "duration": 308,
    "start_time": "2025-01-09T20:07:41.968Z"
   },
   {
    "duration": 342,
    "start_time": "2025-01-09T20:07:42.282Z"
   },
   {
    "duration": 7,
    "start_time": "2025-01-09T20:07:42.625Z"
   },
   {
    "duration": 3,
    "start_time": "2025-01-09T20:07:42.633Z"
   },
   {
    "duration": 635,
    "start_time": "2025-01-09T20:07:42.638Z"
   },
   {
    "duration": 495,
    "start_time": "2025-01-09T20:07:43.275Z"
   },
   {
    "duration": 358,
    "start_time": "2025-01-09T20:07:43.771Z"
   },
   {
    "duration": 350,
    "start_time": "2025-01-09T20:07:44.131Z"
   },
   {
    "duration": 13,
    "start_time": "2025-01-09T20:07:44.486Z"
   },
   {
    "duration": 49,
    "start_time": "2025-01-09T20:07:44.501Z"
   },
   {
    "duration": 7,
    "start_time": "2025-01-09T20:07:44.555Z"
   },
   {
    "duration": 6,
    "start_time": "2025-01-09T20:07:44.563Z"
   },
   {
    "duration": 6,
    "start_time": "2025-01-09T20:07:44.571Z"
   },
   {
    "duration": 7,
    "start_time": "2025-01-09T20:07:44.579Z"
   },
   {
    "duration": 6,
    "start_time": "2025-01-09T20:07:44.587Z"
   },
   {
    "duration": 6,
    "start_time": "2025-01-09T20:07:44.595Z"
   },
   {
    "duration": 10,
    "start_time": "2025-01-09T20:07:44.603Z"
   },
   {
    "duration": 6,
    "start_time": "2025-01-09T20:07:44.632Z"
   },
   {
    "duration": 4,
    "start_time": "2025-01-09T20:07:44.640Z"
   },
   {
    "duration": 7,
    "start_time": "2025-01-09T20:07:44.649Z"
   },
   {
    "duration": 5,
    "start_time": "2025-01-09T20:07:44.658Z"
   },
   {
    "duration": 170,
    "start_time": "2025-01-09T20:15:38.982Z"
   },
   {
    "duration": 2798,
    "start_time": "2025-01-09T20:16:00.756Z"
   },
   {
    "duration": 46,
    "start_time": "2025-01-09T20:16:03.556Z"
   },
   {
    "duration": 13,
    "start_time": "2025-01-09T20:16:03.604Z"
   },
   {
    "duration": 3,
    "start_time": "2025-01-09T20:16:03.619Z"
   },
   {
    "duration": 9,
    "start_time": "2025-01-09T20:16:03.623Z"
   },
   {
    "duration": 12,
    "start_time": "2025-01-09T20:16:03.633Z"
   },
   {
    "duration": 12,
    "start_time": "2025-01-09T20:16:03.647Z"
   },
   {
    "duration": 7,
    "start_time": "2025-01-09T20:16:03.660Z"
   },
   {
    "duration": 11,
    "start_time": "2025-01-09T20:16:03.669Z"
   },
   {
    "duration": 7,
    "start_time": "2025-01-09T20:16:03.683Z"
   },
   {
    "duration": 3,
    "start_time": "2025-01-09T20:16:03.692Z"
   },
   {
    "duration": 48,
    "start_time": "2025-01-09T20:16:03.696Z"
   },
   {
    "duration": 3,
    "start_time": "2025-01-09T20:16:03.746Z"
   },
   {
    "duration": 11,
    "start_time": "2025-01-09T20:16:03.751Z"
   },
   {
    "duration": 9,
    "start_time": "2025-01-09T20:16:03.764Z"
   },
   {
    "duration": 9,
    "start_time": "2025-01-09T20:16:03.774Z"
   },
   {
    "duration": 455,
    "start_time": "2025-01-09T20:16:03.785Z"
   },
   {
    "duration": 8,
    "start_time": "2025-01-09T20:16:04.242Z"
   },
   {
    "duration": 16,
    "start_time": "2025-01-09T20:16:04.253Z"
   },
   {
    "duration": 254,
    "start_time": "2025-01-09T20:16:04.271Z"
   },
   {
    "duration": 21,
    "start_time": "2025-01-09T20:16:04.530Z"
   },
   {
    "duration": 300,
    "start_time": "2025-01-09T20:16:04.553Z"
   },
   {
    "duration": 0,
    "start_time": "2025-01-09T20:16:04.856Z"
   },
   {
    "duration": 0,
    "start_time": "2025-01-09T20:16:04.857Z"
   },
   {
    "duration": 0,
    "start_time": "2025-01-09T20:16:04.857Z"
   },
   {
    "duration": 0,
    "start_time": "2025-01-09T20:16:04.858Z"
   },
   {
    "duration": 0,
    "start_time": "2025-01-09T20:16:04.860Z"
   },
   {
    "duration": 0,
    "start_time": "2025-01-09T20:16:04.861Z"
   },
   {
    "duration": 0,
    "start_time": "2025-01-09T20:16:04.861Z"
   },
   {
    "duration": 0,
    "start_time": "2025-01-09T20:16:04.863Z"
   },
   {
    "duration": 0,
    "start_time": "2025-01-09T20:16:04.865Z"
   },
   {
    "duration": 0,
    "start_time": "2025-01-09T20:16:04.866Z"
   },
   {
    "duration": 0,
    "start_time": "2025-01-09T20:16:04.867Z"
   },
   {
    "duration": 0,
    "start_time": "2025-01-09T20:16:04.868Z"
   },
   {
    "duration": 0,
    "start_time": "2025-01-09T20:16:04.869Z"
   },
   {
    "duration": 0,
    "start_time": "2025-01-09T20:16:04.870Z"
   },
   {
    "duration": 0,
    "start_time": "2025-01-09T20:16:04.871Z"
   },
   {
    "duration": 0,
    "start_time": "2025-01-09T20:16:04.872Z"
   },
   {
    "duration": 0,
    "start_time": "2025-01-09T20:16:04.872Z"
   },
   {
    "duration": 1,
    "start_time": "2025-01-09T20:16:04.873Z"
   },
   {
    "duration": 0,
    "start_time": "2025-01-09T20:16:04.874Z"
   },
   {
    "duration": 1,
    "start_time": "2025-01-09T20:16:04.875Z"
   },
   {
    "duration": 0,
    "start_time": "2025-01-09T20:16:04.876Z"
   },
   {
    "duration": 0,
    "start_time": "2025-01-09T20:16:04.877Z"
   },
   {
    "duration": 0,
    "start_time": "2025-01-09T20:16:04.878Z"
   },
   {
    "duration": 0,
    "start_time": "2025-01-09T20:16:04.879Z"
   },
   {
    "duration": 0,
    "start_time": "2025-01-09T20:16:04.880Z"
   },
   {
    "duration": 0,
    "start_time": "2025-01-09T20:16:04.881Z"
   },
   {
    "duration": 0,
    "start_time": "2025-01-09T20:16:04.882Z"
   },
   {
    "duration": 0,
    "start_time": "2025-01-09T20:16:04.883Z"
   },
   {
    "duration": 0,
    "start_time": "2025-01-09T20:16:04.884Z"
   },
   {
    "duration": 0,
    "start_time": "2025-01-09T20:16:04.885Z"
   },
   {
    "duration": 24,
    "start_time": "2025-01-09T20:16:56.513Z"
   },
   {
    "duration": 22,
    "start_time": "2025-01-09T20:17:01.187Z"
   },
   {
    "duration": 28,
    "start_time": "2025-01-09T20:17:16.260Z"
   },
   {
    "duration": 27,
    "start_time": "2025-01-09T20:17:34.620Z"
   },
   {
    "duration": 17,
    "start_time": "2025-01-09T20:17:57.037Z"
   },
   {
    "duration": 978,
    "start_time": "2025-01-09T20:18:04.055Z"
   },
   {
    "duration": 26,
    "start_time": "2025-01-09T20:18:05.035Z"
   },
   {
    "duration": 12,
    "start_time": "2025-01-09T20:18:05.065Z"
   },
   {
    "duration": 2,
    "start_time": "2025-01-09T20:18:05.081Z"
   },
   {
    "duration": 4,
    "start_time": "2025-01-09T20:18:05.085Z"
   },
   {
    "duration": 12,
    "start_time": "2025-01-09T20:18:05.091Z"
   },
   {
    "duration": 13,
    "start_time": "2025-01-09T20:18:05.132Z"
   },
   {
    "duration": 9,
    "start_time": "2025-01-09T20:18:05.147Z"
   },
   {
    "duration": 11,
    "start_time": "2025-01-09T20:18:05.159Z"
   },
   {
    "duration": 8,
    "start_time": "2025-01-09T20:18:05.171Z"
   },
   {
    "duration": 5,
    "start_time": "2025-01-09T20:18:05.180Z"
   },
   {
    "duration": 10,
    "start_time": "2025-01-09T20:18:05.187Z"
   },
   {
    "duration": 4,
    "start_time": "2025-01-09T20:18:05.232Z"
   },
   {
    "duration": 15,
    "start_time": "2025-01-09T20:18:05.238Z"
   },
   {
    "duration": 9,
    "start_time": "2025-01-09T20:18:05.254Z"
   },
   {
    "duration": 5,
    "start_time": "2025-01-09T20:18:05.265Z"
   },
   {
    "duration": 423,
    "start_time": "2025-01-09T20:18:05.272Z"
   },
   {
    "duration": 8,
    "start_time": "2025-01-09T20:18:05.697Z"
   },
   {
    "duration": 12,
    "start_time": "2025-01-09T20:18:05.708Z"
   },
   {
    "duration": 260,
    "start_time": "2025-01-09T20:18:05.722Z"
   },
   {
    "duration": 19,
    "start_time": "2025-01-09T20:18:05.984Z"
   },
   {
    "duration": 35,
    "start_time": "2025-01-09T20:18:06.005Z"
   },
   {
    "duration": 12,
    "start_time": "2025-01-09T20:18:06.043Z"
   },
   {
    "duration": 11,
    "start_time": "2025-01-09T20:18:06.057Z"
   },
   {
    "duration": 12,
    "start_time": "2025-01-09T20:18:06.070Z"
   },
   {
    "duration": 15,
    "start_time": "2025-01-09T20:18:06.084Z"
   },
   {
    "duration": 15,
    "start_time": "2025-01-09T20:18:06.132Z"
   },
   {
    "duration": 10,
    "start_time": "2025-01-09T20:18:06.149Z"
   },
   {
    "duration": 14,
    "start_time": "2025-01-09T20:18:06.161Z"
   },
   {
    "duration": 5,
    "start_time": "2025-01-09T20:18:06.177Z"
   },
   {
    "duration": 5,
    "start_time": "2025-01-09T20:18:06.184Z"
   },
   {
    "duration": 256,
    "start_time": "2025-01-09T20:18:06.191Z"
   },
   {
    "duration": 300,
    "start_time": "2025-01-09T20:18:06.449Z"
   },
   {
    "duration": 6,
    "start_time": "2025-01-09T20:18:06.751Z"
   },
   {
    "duration": 3,
    "start_time": "2025-01-09T20:18:06.759Z"
   },
   {
    "duration": 277,
    "start_time": "2025-01-09T20:18:06.764Z"
   },
   {
    "duration": 333,
    "start_time": "2025-01-09T20:18:07.043Z"
   },
   {
    "duration": 299,
    "start_time": "2025-01-09T20:18:07.378Z"
   },
   {
    "duration": 305,
    "start_time": "2025-01-09T20:18:07.679Z"
   },
   {
    "duration": 12,
    "start_time": "2025-01-09T20:18:07.986Z"
   },
   {
    "duration": 7,
    "start_time": "2025-01-09T20:18:08.000Z"
   },
   {
    "duration": 6,
    "start_time": "2025-01-09T20:18:08.008Z"
   },
   {
    "duration": 12,
    "start_time": "2025-01-09T20:18:08.031Z"
   },
   {
    "duration": 6,
    "start_time": "2025-01-09T20:18:08.045Z"
   },
   {
    "duration": 7,
    "start_time": "2025-01-09T20:18:08.052Z"
   },
   {
    "duration": 6,
    "start_time": "2025-01-09T20:18:08.061Z"
   },
   {
    "duration": 6,
    "start_time": "2025-01-09T20:18:08.069Z"
   },
   {
    "duration": 10,
    "start_time": "2025-01-09T20:18:08.076Z"
   },
   {
    "duration": 5,
    "start_time": "2025-01-09T20:18:08.088Z"
   },
   {
    "duration": 39,
    "start_time": "2025-01-09T20:18:08.095Z"
   },
   {
    "duration": 6,
    "start_time": "2025-01-09T20:18:08.135Z"
   },
   {
    "duration": 5,
    "start_time": "2025-01-09T20:18:08.143Z"
   },
   {
    "duration": 303,
    "start_time": "2025-01-09T20:19:05.742Z"
   },
   {
    "duration": 342,
    "start_time": "2025-01-09T20:20:30.463Z"
   },
   {
    "duration": 5,
    "start_time": "2025-01-09T20:29:50.971Z"
   },
   {
    "duration": 5,
    "start_time": "2025-01-09T20:29:54.699Z"
   },
   {
    "duration": 283,
    "start_time": "2025-01-09T20:30:57.386Z"
   },
   {
    "duration": 344,
    "start_time": "2025-01-09T20:31:07.997Z"
   },
   {
    "duration": 927,
    "start_time": "2025-01-09T20:31:21.828Z"
   },
   {
    "duration": 26,
    "start_time": "2025-01-09T20:31:22.758Z"
   },
   {
    "duration": 13,
    "start_time": "2025-01-09T20:31:22.786Z"
   },
   {
    "duration": 2,
    "start_time": "2025-01-09T20:31:22.803Z"
   },
   {
    "duration": 4,
    "start_time": "2025-01-09T20:31:22.808Z"
   },
   {
    "duration": 12,
    "start_time": "2025-01-09T20:31:22.830Z"
   },
   {
    "duration": 14,
    "start_time": "2025-01-09T20:31:22.844Z"
   },
   {
    "duration": 8,
    "start_time": "2025-01-09T20:31:22.860Z"
   },
   {
    "duration": 10,
    "start_time": "2025-01-09T20:31:22.869Z"
   },
   {
    "duration": 9,
    "start_time": "2025-01-09T20:31:22.883Z"
   },
   {
    "duration": 6,
    "start_time": "2025-01-09T20:31:22.930Z"
   },
   {
    "duration": 12,
    "start_time": "2025-01-09T20:31:22.938Z"
   },
   {
    "duration": 5,
    "start_time": "2025-01-09T20:31:22.952Z"
   },
   {
    "duration": 12,
    "start_time": "2025-01-09T20:31:22.959Z"
   },
   {
    "duration": 12,
    "start_time": "2025-01-09T20:31:22.973Z"
   },
   {
    "duration": 7,
    "start_time": "2025-01-09T20:31:22.986Z"
   },
   {
    "duration": 424,
    "start_time": "2025-01-09T20:31:22.995Z"
   },
   {
    "duration": 7,
    "start_time": "2025-01-09T20:31:23.422Z"
   },
   {
    "duration": 14,
    "start_time": "2025-01-09T20:31:23.431Z"
   },
   {
    "duration": 279,
    "start_time": "2025-01-09T20:31:23.447Z"
   },
   {
    "duration": 13,
    "start_time": "2025-01-09T20:31:23.731Z"
   },
   {
    "duration": 20,
    "start_time": "2025-01-09T20:31:23.745Z"
   },
   {
    "duration": 13,
    "start_time": "2025-01-09T20:31:23.766Z"
   },
   {
    "duration": 11,
    "start_time": "2025-01-09T20:31:23.780Z"
   },
   {
    "duration": 39,
    "start_time": "2025-01-09T20:31:23.792Z"
   },
   {
    "duration": 16,
    "start_time": "2025-01-09T20:31:23.833Z"
   },
   {
    "duration": 14,
    "start_time": "2025-01-09T20:31:23.851Z"
   },
   {
    "duration": 9,
    "start_time": "2025-01-09T20:31:23.870Z"
   },
   {
    "duration": 14,
    "start_time": "2025-01-09T20:31:23.881Z"
   },
   {
    "duration": 35,
    "start_time": "2025-01-09T20:31:23.897Z"
   },
   {
    "duration": 5,
    "start_time": "2025-01-09T20:31:23.933Z"
   },
   {
    "duration": 229,
    "start_time": "2025-01-09T20:31:23.939Z"
   },
   {
    "duration": 311,
    "start_time": "2025-01-09T20:31:24.169Z"
   },
   {
    "duration": 5,
    "start_time": "2025-01-09T20:31:24.482Z"
   },
   {
    "duration": 3,
    "start_time": "2025-01-09T20:31:24.490Z"
   },
   {
    "duration": 337,
    "start_time": "2025-01-09T20:31:24.495Z"
   },
   {
    "duration": 286,
    "start_time": "2025-01-09T20:31:24.834Z"
   },
   {
    "duration": 319,
    "start_time": "2025-01-09T20:31:25.122Z"
   },
   {
    "duration": 317,
    "start_time": "2025-01-09T20:31:25.444Z"
   },
   {
    "duration": 8,
    "start_time": "2025-01-09T20:31:25.763Z"
   },
   {
    "duration": 17,
    "start_time": "2025-01-09T20:31:25.773Z"
   },
   {
    "duration": 11,
    "start_time": "2025-01-09T20:31:25.794Z"
   },
   {
    "duration": 7,
    "start_time": "2025-01-09T20:31:25.810Z"
   },
   {
    "duration": 9,
    "start_time": "2025-01-09T20:31:25.822Z"
   },
   {
    "duration": 8,
    "start_time": "2025-01-09T20:31:25.833Z"
   },
   {
    "duration": 6,
    "start_time": "2025-01-09T20:31:25.843Z"
   },
   {
    "duration": 6,
    "start_time": "2025-01-09T20:31:25.852Z"
   },
   {
    "duration": 6,
    "start_time": "2025-01-09T20:31:25.860Z"
   },
   {
    "duration": 13,
    "start_time": "2025-01-09T20:31:25.868Z"
   },
   {
    "duration": 6,
    "start_time": "2025-01-09T20:31:25.883Z"
   },
   {
    "duration": 6,
    "start_time": "2025-01-09T20:31:25.891Z"
   },
   {
    "duration": 11,
    "start_time": "2025-01-09T20:31:25.932Z"
   },
   {
    "duration": 5,
    "start_time": "2025-01-09T20:31:25.946Z"
   },
   {
    "duration": 601,
    "start_time": "2025-01-09T20:32:37.897Z"
   },
   {
    "duration": 45,
    "start_time": "2025-01-09T20:32:43.929Z"
   },
   {
    "duration": 44,
    "start_time": "2025-01-09T20:33:09.403Z"
   },
   {
    "duration": 32,
    "start_time": "2025-01-09T20:33:30.904Z"
   },
   {
    "duration": 116,
    "start_time": "2025-01-09T20:33:34.181Z"
   },
   {
    "duration": 902,
    "start_time": "2025-01-09T20:33:54.002Z"
   },
   {
    "duration": 36,
    "start_time": "2025-01-09T20:33:54.907Z"
   },
   {
    "duration": 15,
    "start_time": "2025-01-09T20:33:54.945Z"
   },
   {
    "duration": 3,
    "start_time": "2025-01-09T20:33:54.962Z"
   },
   {
    "duration": 5,
    "start_time": "2025-01-09T20:33:54.969Z"
   },
   {
    "duration": 14,
    "start_time": "2025-01-09T20:33:54.976Z"
   },
   {
    "duration": 45,
    "start_time": "2025-01-09T20:33:54.992Z"
   },
   {
    "duration": 9,
    "start_time": "2025-01-09T20:33:55.039Z"
   },
   {
    "duration": 10,
    "start_time": "2025-01-09T20:33:55.050Z"
   },
   {
    "duration": 9,
    "start_time": "2025-01-09T20:33:55.062Z"
   },
   {
    "duration": 5,
    "start_time": "2025-01-09T20:33:55.073Z"
   },
   {
    "duration": 13,
    "start_time": "2025-01-09T20:33:55.080Z"
   },
   {
    "duration": 4,
    "start_time": "2025-01-09T20:33:55.095Z"
   },
   {
    "duration": 12,
    "start_time": "2025-01-09T20:33:55.136Z"
   },
   {
    "duration": 13,
    "start_time": "2025-01-09T20:33:55.151Z"
   },
   {
    "duration": 8,
    "start_time": "2025-01-09T20:33:55.167Z"
   },
   {
    "duration": 481,
    "start_time": "2025-01-09T20:33:55.178Z"
   },
   {
    "duration": 9,
    "start_time": "2025-01-09T20:33:55.661Z"
   },
   {
    "duration": 14,
    "start_time": "2025-01-09T20:33:55.671Z"
   },
   {
    "duration": 287,
    "start_time": "2025-01-09T20:33:55.687Z"
   },
   {
    "duration": 23,
    "start_time": "2025-01-09T20:33:55.977Z"
   },
   {
    "duration": 24,
    "start_time": "2025-01-09T20:33:56.002Z"
   },
   {
    "duration": 13,
    "start_time": "2025-01-09T20:33:56.032Z"
   },
   {
    "duration": 11,
    "start_time": "2025-01-09T20:33:56.047Z"
   },
   {
    "duration": 14,
    "start_time": "2025-01-09T20:33:56.060Z"
   },
   {
    "duration": 16,
    "start_time": "2025-01-09T20:33:56.077Z"
   },
   {
    "duration": 40,
    "start_time": "2025-01-09T20:33:56.095Z"
   },
   {
    "duration": 13,
    "start_time": "2025-01-09T20:33:56.137Z"
   },
   {
    "duration": 20,
    "start_time": "2025-01-09T20:33:56.151Z"
   },
   {
    "duration": 5,
    "start_time": "2025-01-09T20:33:56.174Z"
   },
   {
    "duration": 5,
    "start_time": "2025-01-09T20:33:56.181Z"
   },
   {
    "duration": 258,
    "start_time": "2025-01-09T20:33:56.187Z"
   },
   {
    "duration": 309,
    "start_time": "2025-01-09T20:33:56.448Z"
   },
   {
    "duration": 8,
    "start_time": "2025-01-09T20:33:56.759Z"
   },
   {
    "duration": 3,
    "start_time": "2025-01-09T20:33:56.769Z"
   },
   {
    "duration": 311,
    "start_time": "2025-01-09T20:33:56.774Z"
   },
   {
    "duration": 304,
    "start_time": "2025-01-09T20:33:57.088Z"
   },
   {
    "duration": 285,
    "start_time": "2025-01-09T20:33:57.393Z"
   },
   {
    "duration": 235,
    "start_time": "2025-01-09T20:33:57.680Z"
   },
   {
    "duration": 17,
    "start_time": "2025-01-09T20:33:57.917Z"
   },
   {
    "duration": 17,
    "start_time": "2025-01-09T20:33:57.943Z"
   },
   {
    "duration": 8,
    "start_time": "2025-01-09T20:33:57.963Z"
   },
   {
    "duration": 7,
    "start_time": "2025-01-09T20:33:57.974Z"
   },
   {
    "duration": 6,
    "start_time": "2025-01-09T20:33:57.983Z"
   },
   {
    "duration": 8,
    "start_time": "2025-01-09T20:33:57.991Z"
   },
   {
    "duration": 36,
    "start_time": "2025-01-09T20:33:58.001Z"
   },
   {
    "duration": 6,
    "start_time": "2025-01-09T20:33:58.039Z"
   },
   {
    "duration": 8,
    "start_time": "2025-01-09T20:33:58.048Z"
   },
   {
    "duration": 12,
    "start_time": "2025-01-09T20:33:58.059Z"
   },
   {
    "duration": 5,
    "start_time": "2025-01-09T20:33:58.074Z"
   },
   {
    "duration": 4,
    "start_time": "2025-01-09T20:33:58.080Z"
   },
   {
    "duration": 6,
    "start_time": "2025-01-09T20:33:58.085Z"
   },
   {
    "duration": 6,
    "start_time": "2025-01-09T20:33:58.094Z"
   },
   {
    "duration": 971,
    "start_time": "2025-01-09T20:36:57.108Z"
   },
   {
    "duration": 34,
    "start_time": "2025-01-09T20:36:58.081Z"
   },
   {
    "duration": 24,
    "start_time": "2025-01-09T20:36:58.117Z"
   },
   {
    "duration": 3,
    "start_time": "2025-01-09T20:36:58.145Z"
   },
   {
    "duration": 4,
    "start_time": "2025-01-09T20:36:58.151Z"
   },
   {
    "duration": 13,
    "start_time": "2025-01-09T20:36:58.157Z"
   },
   {
    "duration": 14,
    "start_time": "2025-01-09T20:36:58.172Z"
   },
   {
    "duration": 8,
    "start_time": "2025-01-09T20:36:58.189Z"
   },
   {
    "duration": 40,
    "start_time": "2025-01-09T20:36:58.199Z"
   },
   {
    "duration": 9,
    "start_time": "2025-01-09T20:36:58.244Z"
   },
   {
    "duration": 5,
    "start_time": "2025-01-09T20:36:58.256Z"
   },
   {
    "duration": 11,
    "start_time": "2025-01-09T20:36:58.263Z"
   },
   {
    "duration": 3,
    "start_time": "2025-01-09T20:36:58.277Z"
   },
   {
    "duration": 11,
    "start_time": "2025-01-09T20:36:58.285Z"
   },
   {
    "duration": 39,
    "start_time": "2025-01-09T20:36:58.297Z"
   },
   {
    "duration": 10,
    "start_time": "2025-01-09T20:36:58.340Z"
   },
   {
    "duration": 446,
    "start_time": "2025-01-09T20:36:58.353Z"
   },
   {
    "duration": 8,
    "start_time": "2025-01-09T20:36:58.801Z"
   },
   {
    "duration": 13,
    "start_time": "2025-01-09T20:36:58.810Z"
   },
   {
    "duration": 262,
    "start_time": "2025-01-09T20:36:58.824Z"
   },
   {
    "duration": 18,
    "start_time": "2025-01-09T20:36:59.090Z"
   },
   {
    "duration": 29,
    "start_time": "2025-01-09T20:36:59.110Z"
   },
   {
    "duration": 13,
    "start_time": "2025-01-09T20:36:59.141Z"
   },
   {
    "duration": 11,
    "start_time": "2025-01-09T20:36:59.155Z"
   },
   {
    "duration": 15,
    "start_time": "2025-01-09T20:36:59.167Z"
   },
   {
    "duration": 15,
    "start_time": "2025-01-09T20:36:59.183Z"
   },
   {
    "duration": 44,
    "start_time": "2025-01-09T20:36:59.200Z"
   },
   {
    "duration": 9,
    "start_time": "2025-01-09T20:36:59.246Z"
   },
   {
    "duration": 15,
    "start_time": "2025-01-09T20:36:59.258Z"
   },
   {
    "duration": 4,
    "start_time": "2025-01-09T20:36:59.275Z"
   },
   {
    "duration": 4,
    "start_time": "2025-01-09T20:36:59.281Z"
   },
   {
    "duration": 257,
    "start_time": "2025-01-09T20:36:59.286Z"
   },
   {
    "duration": 326,
    "start_time": "2025-01-09T20:36:59.545Z"
   },
   {
    "duration": 5,
    "start_time": "2025-01-09T20:36:59.873Z"
   },
   {
    "duration": 4,
    "start_time": "2025-01-09T20:36:59.879Z"
   },
   {
    "duration": 332,
    "start_time": "2025-01-09T20:36:59.885Z"
   },
   {
    "duration": 291,
    "start_time": "2025-01-09T20:37:00.219Z"
   },
   {
    "duration": 303,
    "start_time": "2025-01-09T20:37:00.512Z"
   },
   {
    "duration": 288,
    "start_time": "2025-01-09T20:37:00.817Z"
   },
   {
    "duration": 5,
    "start_time": "2025-01-09T20:37:01.106Z"
   },
   {
    "duration": 24,
    "start_time": "2025-01-09T20:37:01.116Z"
   },
   {
    "duration": 9,
    "start_time": "2025-01-09T20:37:01.142Z"
   },
   {
    "duration": 6,
    "start_time": "2025-01-09T20:37:01.153Z"
   },
   {
    "duration": 9,
    "start_time": "2025-01-09T20:37:01.161Z"
   },
   {
    "duration": 8,
    "start_time": "2025-01-09T20:37:01.173Z"
   },
   {
    "duration": 7,
    "start_time": "2025-01-09T20:37:01.183Z"
   },
   {
    "duration": 6,
    "start_time": "2025-01-09T20:37:01.193Z"
   },
   {
    "duration": 6,
    "start_time": "2025-01-09T20:37:01.231Z"
   },
   {
    "duration": 11,
    "start_time": "2025-01-09T20:37:01.238Z"
   },
   {
    "duration": 6,
    "start_time": "2025-01-09T20:37:01.250Z"
   },
   {
    "duration": 5,
    "start_time": "2025-01-09T20:37:01.257Z"
   },
   {
    "duration": 6,
    "start_time": "2025-01-09T20:37:01.263Z"
   },
   {
    "duration": 4,
    "start_time": "2025-01-09T20:37:01.270Z"
   },
   {
    "duration": 3141,
    "start_time": "2025-01-10T02:30:45.859Z"
   },
   {
    "duration": 35,
    "start_time": "2025-01-10T02:30:49.002Z"
   },
   {
    "duration": 12,
    "start_time": "2025-01-10T02:30:49.038Z"
   },
   {
    "duration": 5,
    "start_time": "2025-01-10T02:30:49.051Z"
   },
   {
    "duration": 4,
    "start_time": "2025-01-10T02:30:49.059Z"
   },
   {
    "duration": 11,
    "start_time": "2025-01-10T02:30:49.070Z"
   },
   {
    "duration": 12,
    "start_time": "2025-01-10T02:30:49.083Z"
   },
   {
    "duration": 8,
    "start_time": "2025-01-10T02:30:49.096Z"
   },
   {
    "duration": 10,
    "start_time": "2025-01-10T02:30:49.106Z"
   },
   {
    "duration": 8,
    "start_time": "2025-01-10T02:30:49.118Z"
   },
   {
    "duration": 41,
    "start_time": "2025-01-10T02:30:49.128Z"
   },
   {
    "duration": 11,
    "start_time": "2025-01-10T02:30:49.171Z"
   },
   {
    "duration": 4,
    "start_time": "2025-01-10T02:30:49.184Z"
   },
   {
    "duration": 10,
    "start_time": "2025-01-10T02:30:49.192Z"
   },
   {
    "duration": 9,
    "start_time": "2025-01-10T02:30:49.204Z"
   },
   {
    "duration": 6,
    "start_time": "2025-01-10T02:30:49.214Z"
   },
   {
    "duration": 437,
    "start_time": "2025-01-10T02:30:49.222Z"
   },
   {
    "duration": 8,
    "start_time": "2025-01-10T02:30:49.660Z"
   },
   {
    "duration": 12,
    "start_time": "2025-01-10T02:30:49.670Z"
   },
   {
    "duration": 210,
    "start_time": "2025-01-10T02:30:49.683Z"
   },
   {
    "duration": 14,
    "start_time": "2025-01-10T02:30:49.896Z"
   },
   {
    "duration": 15,
    "start_time": "2025-01-10T02:30:49.912Z"
   },
   {
    "duration": 12,
    "start_time": "2025-01-10T02:30:49.928Z"
   },
   {
    "duration": 34,
    "start_time": "2025-01-10T02:30:49.942Z"
   },
   {
    "duration": 12,
    "start_time": "2025-01-10T02:30:49.978Z"
   },
   {
    "duration": 14,
    "start_time": "2025-01-10T02:30:49.991Z"
   },
   {
    "duration": 14,
    "start_time": "2025-01-10T02:30:50.007Z"
   },
   {
    "duration": 10,
    "start_time": "2025-01-10T02:30:50.022Z"
   },
   {
    "duration": 47,
    "start_time": "2025-01-10T02:30:50.033Z"
   },
   {
    "duration": 5,
    "start_time": "2025-01-10T02:30:50.081Z"
   },
   {
    "duration": 4,
    "start_time": "2025-01-10T02:30:50.087Z"
   },
   {
    "duration": 296,
    "start_time": "2025-01-10T02:30:50.093Z"
   },
   {
    "duration": 300,
    "start_time": "2025-01-10T02:30:50.391Z"
   },
   {
    "duration": 4,
    "start_time": "2025-01-10T02:30:50.693Z"
   },
   {
    "duration": 4,
    "start_time": "2025-01-10T02:30:50.699Z"
   },
   {
    "duration": 301,
    "start_time": "2025-01-10T02:30:50.705Z"
   },
   {
    "duration": 262,
    "start_time": "2025-01-10T02:30:51.008Z"
   },
   {
    "duration": 270,
    "start_time": "2025-01-10T02:30:51.274Z"
   },
   {
    "duration": 290,
    "start_time": "2025-01-10T02:30:51.546Z"
   },
   {
    "duration": 5,
    "start_time": "2025-01-10T02:30:51.838Z"
   },
   {
    "duration": 28,
    "start_time": "2025-01-10T02:30:51.848Z"
   },
   {
    "duration": 8,
    "start_time": "2025-01-10T02:30:51.877Z"
   },
   {
    "duration": 6,
    "start_time": "2025-01-10T02:30:51.887Z"
   },
   {
    "duration": 6,
    "start_time": "2025-01-10T02:30:51.894Z"
   },
   {
    "duration": 5,
    "start_time": "2025-01-10T02:30:51.901Z"
   },
   {
    "duration": 5,
    "start_time": "2025-01-10T02:30:51.908Z"
   },
   {
    "duration": 5,
    "start_time": "2025-01-10T02:30:51.915Z"
   },
   {
    "duration": 49,
    "start_time": "2025-01-10T02:30:51.922Z"
   },
   {
    "duration": 11,
    "start_time": "2025-01-10T02:30:51.972Z"
   },
   {
    "duration": 5,
    "start_time": "2025-01-10T02:30:51.984Z"
   },
   {
    "duration": 4,
    "start_time": "2025-01-10T02:30:51.990Z"
   },
   {
    "duration": 5,
    "start_time": "2025-01-10T02:30:51.996Z"
   },
   {
    "duration": 4,
    "start_time": "2025-01-10T02:30:52.002Z"
   }
  ],
  "kernelspec": {
   "display_name": "Python 3 (ipykernel)",
   "language": "python",
   "name": "python3"
  },
  "language_info": {
   "codemirror_mode": {
    "name": "ipython",
    "version": 3
   },
   "file_extension": ".py",
   "mimetype": "text/x-python",
   "name": "python",
   "nbconvert_exporter": "python",
   "pygments_lexer": "ipython3",
   "version": "3.9.19"
  },
  "toc": {
   "base_numbering": 1,
   "nav_menu": {},
   "number_sections": true,
   "sideBar": true,
   "skip_h1_title": true,
   "title_cell": "Table of Contents",
   "title_sidebar": "Contents",
   "toc_cell": false,
   "toc_position": {
    "height": "calc(100% - 180px)",
    "left": "10px",
    "top": "150px",
    "width": "253px"
   },
   "toc_section_display": true,
   "toc_window_display": true
  }
 },
 "nbformat": 4,
 "nbformat_minor": 5
}
